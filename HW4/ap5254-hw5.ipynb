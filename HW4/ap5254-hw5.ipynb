{
 "cells": [
  {
   "cell_type": "code",
   "execution_count": 1,
   "id": "503e2dfc",
   "metadata": {},
   "outputs": [],
   "source": [
    "import dask.dataframe as dd\n",
    "import dask.array as da\n",
    "import dask.bag as db\n",
    "from dask import delayed\n",
    "from dask.distributed import Client\n",
    "from dask_sql import Context"
   ]
  },
  {
   "cell_type": "markdown",
   "id": "12cd5a82",
   "metadata": {},
   "source": [
    "Question 1"
   ]
  },
  {
   "cell_type": "code",
   "execution_count": 2,
   "id": "70eacf0b",
   "metadata": {},
   "outputs": [],
   "source": [
    "rests = dd.read_csv('C:/Users/poona/Downloads/Restaurants_in_Durham_County_NC.csv',sep=';',dtype={'Closing_Date': 'object',\n",
    "       'Hours_Of_Operation': 'object',\n",
    "       'Premise_Zip': 'object'})"
   ]
  },
  {
   "cell_type": "code",
   "execution_count": 3,
   "id": "016dd346",
   "metadata": {},
   "outputs": [],
   "source": [
    "F1=rests[rests.Status == 'ACTIVE']  "
   ]
  },
  {
   "cell_type": "code",
   "execution_count": 4,
   "id": "79ab00a7",
   "metadata": {},
   "outputs": [],
   "source": [
    "F2=F1[F1.Rpt_Area_Desc == 'Food Service']  "
   ]
  },
  {
   "cell_type": "code",
   "execution_count": 5,
   "id": "e0e0fdf5",
   "metadata": {},
   "outputs": [],
   "source": [
    "c = Context()\n",
    "c.create_table(\"F2\", F2)"
   ]
  },
  {
   "cell_type": "code",
   "execution_count": 6,
   "id": "e6da0714",
   "metadata": {},
   "outputs": [],
   "source": [
    "result=c.sql(\"\"\"\n",
    "    SELECT\n",
    "        \"Premise_Name\", \"geolocation\"\n",
    "    FROM F2\n",
    "\"\"\")"
   ]
  },
  {
   "cell_type": "code",
   "execution_count": 7,
   "id": "81ae87fa",
   "metadata": {},
   "outputs": [],
   "source": [
    "F3 = result.compute()"
   ]
  },
  {
   "cell_type": "code",
   "execution_count": 8,
   "id": "0a308641",
   "metadata": {},
   "outputs": [],
   "source": [
    "F3=F3.dropna(subset=['geolocation'])  "
   ]
  },
  {
   "cell_type": "code",
   "execution_count": 9,
   "id": "c5f12d87",
   "metadata": {},
   "outputs": [],
   "source": [
    "def lat(df):\n",
    "    dt=df.geolocation\n",
    "    return float(dt.split()[0][:-1])"
   ]
  },
  {
   "cell_type": "code",
   "execution_count": 10,
   "id": "2ad0d949",
   "metadata": {},
   "outputs": [],
   "source": [
    "F3['lat']=F3.apply(lat,axis=1) #https://docs.dask.org/en/stable/generated/dask.dataframe.DataFrame.apply.html"
   ]
  },
  {
   "cell_type": "code",
   "execution_count": 11,
   "id": "bdd0009e",
   "metadata": {},
   "outputs": [],
   "source": [
    "def long(df):\n",
    "    dt=df.geolocation\n",
    "    return float(dt.split()[1])"
   ]
  },
  {
   "cell_type": "code",
   "execution_count": 12,
   "id": "00fa20fd",
   "metadata": {},
   "outputs": [],
   "source": [
    "F3['long']=F3.apply(long,axis=1)"
   ]
  },
  {
   "cell_type": "code",
   "execution_count": 13,
   "id": "ec046c7f",
   "metadata": {},
   "outputs": [
    {
     "data": {
      "text/html": [
       "<div>\n",
       "<style scoped>\n",
       "    .dataframe tbody tr th:only-of-type {\n",
       "        vertical-align: middle;\n",
       "    }\n",
       "\n",
       "    .dataframe tbody tr th {\n",
       "        vertical-align: top;\n",
       "    }\n",
       "\n",
       "    .dataframe thead th {\n",
       "        text-align: right;\n",
       "    }\n",
       "</style>\n",
       "<table border=\"1\" class=\"dataframe\">\n",
       "  <thead>\n",
       "    <tr style=\"text-align: right;\">\n",
       "      <th></th>\n",
       "      <th>Premise_Name</th>\n",
       "      <th>geolocation</th>\n",
       "      <th>lat</th>\n",
       "      <th>long</th>\n",
       "    </tr>\n",
       "  </thead>\n",
       "  <tbody>\n",
       "    <tr>\n",
       "      <th>0</th>\n",
       "      <td>WEST 94TH ST PUB</td>\n",
       "      <td>35.9207272, -78.9573299</td>\n",
       "      <td>35.920727</td>\n",
       "      <td>-78.957330</td>\n",
       "    </tr>\n",
       "    <tr>\n",
       "      <th>1</th>\n",
       "      <td>BROOKDALE DURHAM IFS</td>\n",
       "      <td>36.0467802, -78.8895483</td>\n",
       "      <td>36.046780</td>\n",
       "      <td>-78.889548</td>\n",
       "    </tr>\n",
       "    <tr>\n",
       "      <th>2</th>\n",
       "      <td>SMOOTHIE KING</td>\n",
       "      <td>35.9182655, -78.9593263</td>\n",
       "      <td>35.918265</td>\n",
       "      <td>-78.959326</td>\n",
       "    </tr>\n",
       "    <tr>\n",
       "      <th>3</th>\n",
       "      <td>HAMPTON INN &amp; SUITES</td>\n",
       "      <td>36.0183378, -78.9060312</td>\n",
       "      <td>36.018338</td>\n",
       "      <td>-78.906031</td>\n",
       "    </tr>\n",
       "    <tr>\n",
       "      <th>10</th>\n",
       "      <td>KROGER R 381 MEAT MARKET</td>\n",
       "      <td>35.9495321, -78.9211694</td>\n",
       "      <td>35.949532</td>\n",
       "      <td>-78.921169</td>\n",
       "    </tr>\n",
       "    <tr>\n",
       "      <th>...</th>\n",
       "      <td>...</td>\n",
       "      <td>...</td>\n",
       "      <td>...</td>\n",
       "      <td>...</td>\n",
       "    </tr>\n",
       "    <tr>\n",
       "      <th>2453</th>\n",
       "      <td>LA QUINTA INN AND SUITES</td>\n",
       "      <td>35.9454822, -78.9724505</td>\n",
       "      <td>35.945482</td>\n",
       "      <td>-78.972450</td>\n",
       "    </tr>\n",
       "    <tr>\n",
       "      <th>2454</th>\n",
       "      <td>NINTH STREET BAKERY</td>\n",
       "      <td>35.9968356, -78.9023636</td>\n",
       "      <td>35.996836</td>\n",
       "      <td>-78.902364</td>\n",
       "    </tr>\n",
       "    <tr>\n",
       "      <th>2455</th>\n",
       "      <td>BRUEGGERS BAGELS</td>\n",
       "      <td>36.0075308, -78.9219898</td>\n",
       "      <td>36.007531</td>\n",
       "      <td>-78.921990</td>\n",
       "    </tr>\n",
       "    <tr>\n",
       "      <th>2456</th>\n",
       "      <td>WIMPY'S GRILL</td>\n",
       "      <td>36.013017, -78.9321444</td>\n",
       "      <td>36.013017</td>\n",
       "      <td>-78.932144</td>\n",
       "    </tr>\n",
       "    <tr>\n",
       "      <th>2462</th>\n",
       "      <td>CILANTRO MEDITERREAN GRILL &amp; PIZZA</td>\n",
       "      <td>35.8822361, -78.8511586</td>\n",
       "      <td>35.882236</td>\n",
       "      <td>-78.851159</td>\n",
       "    </tr>\n",
       "  </tbody>\n",
       "</table>\n",
       "<p>1089 rows × 4 columns</p>\n",
       "</div>"
      ],
      "text/plain": [
       "                            Premise_Name              geolocation        lat  \\\n",
       "0                       WEST 94TH ST PUB  35.9207272, -78.9573299  35.920727   \n",
       "1                   BROOKDALE DURHAM IFS  36.0467802, -78.8895483  36.046780   \n",
       "2                          SMOOTHIE KING  35.9182655, -78.9593263  35.918265   \n",
       "3                   HAMPTON INN & SUITES  36.0183378, -78.9060312  36.018338   \n",
       "10              KROGER R 381 MEAT MARKET  35.9495321, -78.9211694  35.949532   \n",
       "...                                  ...                      ...        ...   \n",
       "2453            LA QUINTA INN AND SUITES  35.9454822, -78.9724505  35.945482   \n",
       "2454                 NINTH STREET BAKERY  35.9968356, -78.9023636  35.996836   \n",
       "2455                    BRUEGGERS BAGELS  36.0075308, -78.9219898  36.007531   \n",
       "2456                       WIMPY'S GRILL   36.013017, -78.9321444  36.013017   \n",
       "2462  CILANTRO MEDITERREAN GRILL & PIZZA  35.8822361, -78.8511586  35.882236   \n",
       "\n",
       "           long  \n",
       "0    -78.957330  \n",
       "1    -78.889548  \n",
       "2    -78.959326  \n",
       "3    -78.906031  \n",
       "10   -78.921169  \n",
       "...         ...  \n",
       "2453 -78.972450  \n",
       "2454 -78.902364  \n",
       "2455 -78.921990  \n",
       "2456 -78.932144  \n",
       "2462 -78.851159  \n",
       "\n",
       "[1089 rows x 4 columns]"
      ]
     },
     "execution_count": 13,
     "metadata": {},
     "output_type": "execute_result"
    }
   ],
   "source": [
    "F3 #I noticed that dask switches between using a dask dataframe and pandas dataframe, I put this here because I do bring in pandas next cell only to open a file and didn't notice a difference other than viewing appearance between the 2 types of dataframes and how they interact with the functions I used in this assignment"
   ]
  },
  {
   "cell_type": "code",
   "execution_count": 14,
   "id": "62dc7f78",
   "metadata": {},
   "outputs": [],
   "source": [
    "import pandas as pd\n",
    "dummy = pd.read_json('C:/Users/poona/Downloads/durham-nc-foreclosure-2006-2016.json')"
   ]
  },
  {
   "cell_type": "code",
   "execution_count": 15,
   "id": "b3e74447",
   "metadata": {},
   "outputs": [],
   "source": [
    "forclosures = dd.from_pandas(dummy,npartitions=1) #Converting to dask, just had pandas to deal with the square brackets in the file"
   ]
  },
  {
   "cell_type": "code",
   "execution_count": 16,
   "id": "d58bfa76",
   "metadata": {},
   "outputs": [],
   "source": [
    "c.create_table(\"forclosures\", forclosures)"
   ]
  },
  {
   "cell_type": "code",
   "execution_count": 17,
   "id": "1578039b",
   "metadata": {},
   "outputs": [],
   "source": [
    "result=c.sql(\"\"\"\n",
    "    SELECT\n",
    "        fields\n",
    "    FROM forclosures\n",
    "\"\"\")"
   ]
  },
  {
   "cell_type": "code",
   "execution_count": 18,
   "id": "0a5be238",
   "metadata": {},
   "outputs": [],
   "source": [
    "geom = result.compute()"
   ]
  },
  {
   "cell_type": "code",
   "execution_count": 19,
   "id": "9b643a00",
   "metadata": {},
   "outputs": [],
   "source": [
    "#Doesn't do anything, just have it here to rememeber the fucntion in the future\n",
    "#geom = geom.astype({\"fields\": str}).set_index('fields')"
   ]
  },
  {
   "cell_type": "code",
   "execution_count": 20,
   "id": "e4a232a5",
   "metadata": {},
   "outputs": [],
   "source": [
    "def coord(df):\n",
    "    dt=df.fields\n",
    "    return dt.get('geocode')"
   ]
  },
  {
   "cell_type": "code",
   "execution_count": 21,
   "id": "9e52d41c",
   "metadata": {},
   "outputs": [],
   "source": [
    "geom['fields']=geom.apply(coord,axis=1)"
   ]
  },
  {
   "cell_type": "code",
   "execution_count": 22,
   "id": "b0bf88c8",
   "metadata": {},
   "outputs": [],
   "source": [
    "geom=geom.dropna(subset=['fields'])  "
   ]
  },
  {
   "cell_type": "code",
   "execution_count": 23,
   "id": "91330ae2",
   "metadata": {},
   "outputs": [],
   "source": [
    "def lat(df):\n",
    "    dt=df.fields\n",
    "    return float(dt[0])"
   ]
  },
  {
   "cell_type": "code",
   "execution_count": 24,
   "id": "576ef8bd",
   "metadata": {},
   "outputs": [],
   "source": [
    "geom['glat']=geom.apply(lat,axis=1)"
   ]
  },
  {
   "cell_type": "code",
   "execution_count": 25,
   "id": "dcc77198",
   "metadata": {},
   "outputs": [],
   "source": [
    "def long(df):\n",
    "    dt=df.fields\n",
    "    return float(dt[1])"
   ]
  },
  {
   "cell_type": "code",
   "execution_count": 26,
   "id": "e577de82",
   "metadata": {},
   "outputs": [],
   "source": [
    "geom['glong']=geom.apply(long,axis=1)"
   ]
  },
  {
   "cell_type": "code",
   "execution_count": 27,
   "id": "8e1fcc39",
   "metadata": {},
   "outputs": [],
   "source": [
    "CJ=F3.merge(geom, how='cross') #Got it from here https://docs.dask.org/en/stable/generated/dask.dataframe.multi.merge.html"
   ]
  },
  {
   "cell_type": "code",
   "execution_count": 28,
   "id": "c68120cb",
   "metadata": {},
   "outputs": [],
   "source": [
    "from haversine import haversine, Unit\n",
    "def distance(df):\n",
    "    x=df.lat\n",
    "    y=df.long\n",
    "    z=df.glat\n",
    "    w=df.glong\n",
    "    return float(haversine((x,y),(z,w), unit=Unit.MILES))"
   ]
  },
  {
   "cell_type": "code",
   "execution_count": 29,
   "id": "5221cacf",
   "metadata": {},
   "outputs": [],
   "source": [
    "CJ['distance']=CJ.apply(distance,axis=1)"
   ]
  },
  {
   "cell_type": "code",
   "execution_count": 30,
   "id": "042b6c98",
   "metadata": {},
   "outputs": [],
   "source": [
    "c.create_table(\"CJ\", CJ)"
   ]
  },
  {
   "cell_type": "code",
   "execution_count": 31,
   "id": "7d8342b4",
   "metadata": {},
   "outputs": [],
   "source": [
    "result=c.sql(\"\"\"\n",
    "    SELECT\n",
    "        *\n",
    "    FROM CJ\n",
    "    WHERE distance<=1\n",
    "\"\"\")"
   ]
  },
  {
   "cell_type": "code",
   "execution_count": 32,
   "id": "80b52e8f",
   "metadata": {},
   "outputs": [],
   "source": [
    "CJ1 = result.compute()"
   ]
  },
  {
   "cell_type": "code",
   "execution_count": 33,
   "id": "671c2bcf",
   "metadata": {},
   "outputs": [
    {
     "data": {
      "text/html": [
       "<div>\n",
       "<style scoped>\n",
       "    .dataframe tbody tr th:only-of-type {\n",
       "        vertical-align: middle;\n",
       "    }\n",
       "\n",
       "    .dataframe tbody tr th {\n",
       "        vertical-align: top;\n",
       "    }\n",
       "\n",
       "    .dataframe thead th {\n",
       "        text-align: right;\n",
       "    }\n",
       "</style>\n",
       "<table border=\"1\" class=\"dataframe\">\n",
       "  <thead>\n",
       "    <tr style=\"text-align: right;\">\n",
       "      <th></th>\n",
       "      <th>Premise_Name</th>\n",
       "      <th>geolocation</th>\n",
       "      <th>lat</th>\n",
       "      <th>long</th>\n",
       "      <th>fields</th>\n",
       "      <th>glat</th>\n",
       "      <th>glong</th>\n",
       "      <th>distance</th>\n",
       "    </tr>\n",
       "  </thead>\n",
       "  <tbody>\n",
       "    <tr>\n",
       "      <th>263</th>\n",
       "      <td>WEST 94TH ST PUB</td>\n",
       "      <td>35.9207272, -78.9573299</td>\n",
       "      <td>35.920727</td>\n",
       "      <td>-78.957330</td>\n",
       "      <td>[35.9128174, -78.9433162]</td>\n",
       "      <td>35.912817</td>\n",
       "      <td>-78.943316</td>\n",
       "      <td>0.955817</td>\n",
       "    </tr>\n",
       "    <tr>\n",
       "      <th>497</th>\n",
       "      <td>WEST 94TH ST PUB</td>\n",
       "      <td>35.9207272, -78.9573299</td>\n",
       "      <td>35.920727</td>\n",
       "      <td>-78.957330</td>\n",
       "      <td>[35.915097, -78.941141]</td>\n",
       "      <td>35.915097</td>\n",
       "      <td>-78.941141</td>\n",
       "      <td>0.985859</td>\n",
       "    </tr>\n",
       "    <tr>\n",
       "      <th>521</th>\n",
       "      <td>WEST 94TH ST PUB</td>\n",
       "      <td>35.9207272, -78.9573299</td>\n",
       "      <td>35.920727</td>\n",
       "      <td>-78.957330</td>\n",
       "      <td>[35.9128174, -78.9433162]</td>\n",
       "      <td>35.912817</td>\n",
       "      <td>-78.943316</td>\n",
       "      <td>0.955817</td>\n",
       "    </tr>\n",
       "    <tr>\n",
       "      <th>568</th>\n",
       "      <td>WEST 94TH ST PUB</td>\n",
       "      <td>35.9207272, -78.9573299</td>\n",
       "      <td>35.920727</td>\n",
       "      <td>-78.957330</td>\n",
       "      <td>[35.915097, -78.941141]</td>\n",
       "      <td>35.915097</td>\n",
       "      <td>-78.941141</td>\n",
       "      <td>0.985859</td>\n",
       "    </tr>\n",
       "    <tr>\n",
       "      <th>1141</th>\n",
       "      <td>WEST 94TH ST PUB</td>\n",
       "      <td>35.9207272, -78.9573299</td>\n",
       "      <td>35.920727</td>\n",
       "      <td>-78.957330</td>\n",
       "      <td>[35.915097, -78.941141]</td>\n",
       "      <td>35.915097</td>\n",
       "      <td>-78.941141</td>\n",
       "      <td>0.985859</td>\n",
       "    </tr>\n",
       "    <tr>\n",
       "      <th>...</th>\n",
       "      <td>...</td>\n",
       "      <td>...</td>\n",
       "      <td>...</td>\n",
       "      <td>...</td>\n",
       "      <td>...</td>\n",
       "      <td>...</td>\n",
       "      <td>...</td>\n",
       "      <td>...</td>\n",
       "    </tr>\n",
       "    <tr>\n",
       "      <th>2112656</th>\n",
       "      <td>WIMPY'S GRILL</td>\n",
       "      <td>36.013017, -78.9321444</td>\n",
       "      <td>36.013017</td>\n",
       "      <td>-78.932144</td>\n",
       "      <td>[36.01864, -78.916274]</td>\n",
       "      <td>36.018640</td>\n",
       "      <td>-78.916274</td>\n",
       "      <td>0.968301</td>\n",
       "    </tr>\n",
       "    <tr>\n",
       "      <th>2112782</th>\n",
       "      <td>WIMPY'S GRILL</td>\n",
       "      <td>36.013017, -78.9321444</td>\n",
       "      <td>36.013017</td>\n",
       "      <td>-78.932144</td>\n",
       "      <td>[36.01864, -78.916274]</td>\n",
       "      <td>36.018640</td>\n",
       "      <td>-78.916274</td>\n",
       "      <td>0.968301</td>\n",
       "    </tr>\n",
       "    <tr>\n",
       "      <th>2112808</th>\n",
       "      <td>WIMPY'S GRILL</td>\n",
       "      <td>36.013017, -78.9321444</td>\n",
       "      <td>36.013017</td>\n",
       "      <td>-78.932144</td>\n",
       "      <td>[36.01864, -78.916274]</td>\n",
       "      <td>36.018640</td>\n",
       "      <td>-78.916274</td>\n",
       "      <td>0.968301</td>\n",
       "    </tr>\n",
       "    <tr>\n",
       "      <th>2112939</th>\n",
       "      <td>CILANTRO MEDITERREAN GRILL &amp; PIZZA</td>\n",
       "      <td>35.8822361, -78.8511586</td>\n",
       "      <td>35.882236</td>\n",
       "      <td>-78.851159</td>\n",
       "      <td>[35.8912585, -78.845683]</td>\n",
       "      <td>35.891258</td>\n",
       "      <td>-78.845683</td>\n",
       "      <td>0.694668</td>\n",
       "    </tr>\n",
       "    <tr>\n",
       "      <th>2113599</th>\n",
       "      <td>CILANTRO MEDITERREAN GRILL &amp; PIZZA</td>\n",
       "      <td>35.8822361, -78.8511586</td>\n",
       "      <td>35.882236</td>\n",
       "      <td>-78.851159</td>\n",
       "      <td>[35.8847993, -78.8476973]</td>\n",
       "      <td>35.884799</td>\n",
       "      <td>-78.847697</td>\n",
       "      <td>0.262505</td>\n",
       "    </tr>\n",
       "  </tbody>\n",
       "</table>\n",
       "<p>63593 rows × 8 columns</p>\n",
       "</div>"
      ],
      "text/plain": [
       "                               Premise_Name              geolocation  \\\n",
       "263                        WEST 94TH ST PUB  35.9207272, -78.9573299   \n",
       "497                        WEST 94TH ST PUB  35.9207272, -78.9573299   \n",
       "521                        WEST 94TH ST PUB  35.9207272, -78.9573299   \n",
       "568                        WEST 94TH ST PUB  35.9207272, -78.9573299   \n",
       "1141                       WEST 94TH ST PUB  35.9207272, -78.9573299   \n",
       "...                                     ...                      ...   \n",
       "2112656                       WIMPY'S GRILL   36.013017, -78.9321444   \n",
       "2112782                       WIMPY'S GRILL   36.013017, -78.9321444   \n",
       "2112808                       WIMPY'S GRILL   36.013017, -78.9321444   \n",
       "2112939  CILANTRO MEDITERREAN GRILL & PIZZA  35.8822361, -78.8511586   \n",
       "2113599  CILANTRO MEDITERREAN GRILL & PIZZA  35.8822361, -78.8511586   \n",
       "\n",
       "               lat       long                     fields       glat  \\\n",
       "263      35.920727 -78.957330  [35.9128174, -78.9433162]  35.912817   \n",
       "497      35.920727 -78.957330    [35.915097, -78.941141]  35.915097   \n",
       "521      35.920727 -78.957330  [35.9128174, -78.9433162]  35.912817   \n",
       "568      35.920727 -78.957330    [35.915097, -78.941141]  35.915097   \n",
       "1141     35.920727 -78.957330    [35.915097, -78.941141]  35.915097   \n",
       "...            ...        ...                        ...        ...   \n",
       "2112656  36.013017 -78.932144     [36.01864, -78.916274]  36.018640   \n",
       "2112782  36.013017 -78.932144     [36.01864, -78.916274]  36.018640   \n",
       "2112808  36.013017 -78.932144     [36.01864, -78.916274]  36.018640   \n",
       "2112939  35.882236 -78.851159   [35.8912585, -78.845683]  35.891258   \n",
       "2113599  35.882236 -78.851159  [35.8847993, -78.8476973]  35.884799   \n",
       "\n",
       "             glong  distance  \n",
       "263     -78.943316  0.955817  \n",
       "497     -78.941141  0.985859  \n",
       "521     -78.943316  0.955817  \n",
       "568     -78.941141  0.985859  \n",
       "1141    -78.941141  0.985859  \n",
       "...            ...       ...  \n",
       "2112656 -78.916274  0.968301  \n",
       "2112782 -78.916274  0.968301  \n",
       "2112808 -78.916274  0.968301  \n",
       "2112939 -78.845683  0.694668  \n",
       "2113599 -78.847697  0.262505  \n",
       "\n",
       "[63593 rows x 8 columns]"
      ]
     },
     "execution_count": 33,
     "metadata": {},
     "output_type": "execute_result"
    }
   ],
   "source": [
    "CJ1"
   ]
  },
  {
   "cell_type": "markdown",
   "id": "68bab46a",
   "metadata": {},
   "source": [
    "Question 2"
   ]
  },
  {
   "cell_type": "code",
   "execution_count": 34,
   "id": "1cba3f3d",
   "metadata": {},
   "outputs": [],
   "source": [
    "b = db.read_text('C:/Users/poona/Downloads/hw1dir/hw1/*.txt')  "
   ]
  },
  {
   "cell_type": "code",
   "execution_count": 35,
   "id": "04a44d48",
   "metadata": {},
   "outputs": [],
   "source": [
    "df = b.to_dataframe()"
   ]
  },
  {
   "cell_type": "code",
   "execution_count": 36,
   "id": "b93fadb5",
   "metadata": {},
   "outputs": [],
   "source": [
    "import re\n",
    "def punct(df):\n",
    "    dt=df[0]\n",
    "    return re.sub('[^A-Za-z0-9]+', ' ', dt)"
   ]
  },
  {
   "cell_type": "code",
   "execution_count": 37,
   "id": "1f24e4d4",
   "metadata": {},
   "outputs": [
    {
     "name": "stderr",
     "output_type": "stream",
     "text": [
      "C:\\Users\\poona\\AppData\\Roaming\\Python\\Python310\\site-packages\\dask\\dataframe\\core.py:5912: UserWarning: \n",
      "You did not provide metadata, so Dask is running your function on a small dataset to guess output types. It is possible that Dask will guess incorrectly.\n",
      "To provide an explicit output types or to silence this message, please provide the `meta=` keyword, as described in the map or apply function that you are using.\n",
      "  Before: .apply(func)\n",
      "  After:  .apply(func, meta=(None, 'object'))\n",
      "\n",
      "  warnings.warn(meta_warning(meta))\n"
     ]
    }
   ],
   "source": [
    "df['punct']=df.apply(punct,axis=1)"
   ]
  },
  {
   "cell_type": "code",
   "execution_count": 38,
   "id": "a97a1f33",
   "metadata": {},
   "outputs": [],
   "source": [
    "def lower(df):\n",
    "    dt=df.punct\n",
    "    return dt.lower()"
   ]
  },
  {
   "cell_type": "code",
   "execution_count": 39,
   "id": "82e6583e",
   "metadata": {},
   "outputs": [
    {
     "name": "stderr",
     "output_type": "stream",
     "text": [
      "C:\\Users\\poona\\AppData\\Roaming\\Python\\Python310\\site-packages\\dask\\dataframe\\core.py:5912: UserWarning: \n",
      "You did not provide metadata, so Dask is running your function on a small dataset to guess output types. It is possible that Dask will guess incorrectly.\n",
      "To provide an explicit output types or to silence this message, please provide the `meta=` keyword, as described in the map or apply function that you are using.\n",
      "  Before: .apply(func)\n",
      "  After:  .apply(func, meta=(None, 'object'))\n",
      "\n",
      "  warnings.warn(meta_warning(meta))\n"
     ]
    }
   ],
   "source": [
    "df['lower']=df.apply(lower,axis=1)"
   ]
  },
  {
   "cell_type": "code",
   "execution_count": 40,
   "id": "584016d7",
   "metadata": {},
   "outputs": [],
   "source": [
    "def less(df):\n",
    "    dt=df.lower\n",
    "    return len(dt)"
   ]
  },
  {
   "cell_type": "code",
   "execution_count": 41,
   "id": "e33ccff1",
   "metadata": {},
   "outputs": [
    {
     "name": "stderr",
     "output_type": "stream",
     "text": [
      "C:\\Users\\poona\\AppData\\Roaming\\Python\\Python310\\site-packages\\dask\\dataframe\\core.py:5912: UserWarning: \n",
      "You did not provide metadata, so Dask is running your function on a small dataset to guess output types. It is possible that Dask will guess incorrectly.\n",
      "To provide an explicit output types or to silence this message, please provide the `meta=` keyword, as described in the map or apply function that you are using.\n",
      "  Before: .apply(func)\n",
      "  After:  .apply(func, meta=(None, 'int64'))\n",
      "\n",
      "  warnings.warn(meta_warning(meta))\n"
     ]
    }
   ],
   "source": [
    "df['less']=df.apply(less,axis=1)"
   ]
  },
  {
   "cell_type": "code",
   "execution_count": 42,
   "id": "323208ce",
   "metadata": {},
   "outputs": [],
   "source": [
    "df1=df[df.less > 3]  "
   ]
  },
  {
   "cell_type": "code",
   "execution_count": 43,
   "id": "5873acbe",
   "metadata": {},
   "outputs": [],
   "source": [
    "df2=df1[['lower']]"
   ]
  },
  {
   "cell_type": "code",
   "execution_count": 44,
   "id": "a5730886",
   "metadata": {},
   "outputs": [],
   "source": [
    "def split(df):\n",
    "    dt=df.lower\n",
    "    return dt.split()"
   ]
  },
  {
   "cell_type": "code",
   "execution_count": 45,
   "id": "075b59a6",
   "metadata": {},
   "outputs": [
    {
     "name": "stderr",
     "output_type": "stream",
     "text": [
      "C:\\Users\\poona\\AppData\\Roaming\\Python\\Python310\\site-packages\\dask\\dataframe\\core.py:5912: UserWarning: \n",
      "You did not provide metadata, so Dask is running your function on a small dataset to guess output types. It is possible that Dask will guess incorrectly.\n",
      "To provide an explicit output types or to silence this message, please provide the `meta=` keyword, as described in the map or apply function that you are using.\n",
      "  Before: .apply(func)\n",
      "  After:  .apply(func, meta=(None, 'object'))\n",
      "\n",
      "  warnings.warn(meta_warning(meta))\n"
     ]
    }
   ],
   "source": [
    "df2['split']=df2.apply(split,axis=1)"
   ]
  },
  {
   "cell_type": "code",
   "execution_count": 46,
   "id": "6f4d0b3e",
   "metadata": {},
   "outputs": [],
   "source": [
    "df3=df2.explode('split')  "
   ]
  },
  {
   "cell_type": "code",
   "execution_count": 47,
   "id": "f39fb579",
   "metadata": {},
   "outputs": [
    {
     "data": {
      "text/plain": [
       "9578487"
      ]
     },
     "execution_count": 47,
     "metadata": {},
     "output_type": "execute_result"
    }
   ],
   "source": [
    "len(df3) #Total number of words"
   ]
  },
  {
   "cell_type": "code",
   "execution_count": 48,
   "id": "d9a0963b",
   "metadata": {},
   "outputs": [
    {
     "data": {
      "text/html": [
       "<div>\n",
       "<style scoped>\n",
       "    .dataframe tbody tr th:only-of-type {\n",
       "        vertical-align: middle;\n",
       "    }\n",
       "\n",
       "    .dataframe tbody tr th {\n",
       "        vertical-align: top;\n",
       "    }\n",
       "\n",
       "    .dataframe thead th {\n",
       "        text-align: right;\n",
       "    }\n",
       "</style>\n",
       "<table border=\"1\" class=\"dataframe\">\n",
       "  <thead>\n",
       "    <tr style=\"text-align: right;\">\n",
       "      <th></th>\n",
       "      <th>lower</th>\n",
       "      <th>split</th>\n",
       "    </tr>\n",
       "  </thead>\n",
       "  <tbody>\n",
       "    <tr>\n",
       "      <th>1</th>\n",
       "      <td>4000241 i think it is safe to say that ours i...</td>\n",
       "      <td>4000241</td>\n",
       "    </tr>\n",
       "    <tr>\n",
       "      <th>1</th>\n",
       "      <td>4000241 i think it is safe to say that ours i...</td>\n",
       "      <td>i</td>\n",
       "    </tr>\n",
       "    <tr>\n",
       "      <th>1</th>\n",
       "      <td>4000241 i think it is safe to say that ours i...</td>\n",
       "      <td>think</td>\n",
       "    </tr>\n",
       "    <tr>\n",
       "      <th>1</th>\n",
       "      <td>4000241 i think it is safe to say that ours i...</td>\n",
       "      <td>it</td>\n",
       "    </tr>\n",
       "    <tr>\n",
       "      <th>1</th>\n",
       "      <td>4000241 i think it is safe to say that ours i...</td>\n",
       "      <td>is</td>\n",
       "    </tr>\n",
       "  </tbody>\n",
       "</table>\n",
       "</div>"
      ],
      "text/plain": [
       "                                               lower    split\n",
       "1   4000241 i think it is safe to say that ours i...  4000241\n",
       "1   4000241 i think it is safe to say that ours i...        i\n",
       "1   4000241 i think it is safe to say that ours i...    think\n",
       "1   4000241 i think it is safe to say that ours i...       it\n",
       "1   4000241 i think it is safe to say that ours i...       is"
      ]
     },
     "execution_count": 48,
     "metadata": {},
     "output_type": "execute_result"
    }
   ],
   "source": [
    "df3.head()"
   ]
  },
  {
   "cell_type": "code",
   "execution_count": 49,
   "id": "48b25a36",
   "metadata": {},
   "outputs": [],
   "source": [
    "df4 = df3.groupby(['split']).count()"
   ]
  },
  {
   "cell_type": "code",
   "execution_count": 50,
   "id": "a1333087",
   "metadata": {},
   "outputs": [
    {
     "data": {
      "text/plain": [
       "136090"
      ]
     },
     "execution_count": 50,
     "metadata": {},
     "output_type": "execute_result"
    }
   ],
   "source": [
    "len(df4) #Total number of unique words"
   ]
  },
  {
   "cell_type": "code",
   "execution_count": 51,
   "id": "d94f69a2",
   "metadata": {},
   "outputs": [
    {
     "data": {
      "text/html": [
       "<div>\n",
       "<style scoped>\n",
       "    .dataframe tbody tr th:only-of-type {\n",
       "        vertical-align: middle;\n",
       "    }\n",
       "\n",
       "    .dataframe tbody tr th {\n",
       "        vertical-align: top;\n",
       "    }\n",
       "\n",
       "    .dataframe thead th {\n",
       "        text-align: right;\n",
       "    }\n",
       "</style>\n",
       "<table border=\"1\" class=\"dataframe\">\n",
       "  <thead>\n",
       "    <tr style=\"text-align: right;\">\n",
       "      <th></th>\n",
       "      <th>lower</th>\n",
       "    </tr>\n",
       "    <tr>\n",
       "      <th>split</th>\n",
       "      <th></th>\n",
       "    </tr>\n",
       "  </thead>\n",
       "  <tbody>\n",
       "    <tr>\n",
       "      <th>0</th>\n",
       "      <td>2252</td>\n",
       "    </tr>\n",
       "    <tr>\n",
       "      <th>00</th>\n",
       "      <td>560</td>\n",
       "    </tr>\n",
       "    <tr>\n",
       "      <th>000</th>\n",
       "      <td>3712</td>\n",
       "    </tr>\n",
       "    <tr>\n",
       "      <th>0000</th>\n",
       "      <td>10</td>\n",
       "    </tr>\n",
       "    <tr>\n",
       "      <th>00000</th>\n",
       "      <td>1</td>\n",
       "    </tr>\n",
       "  </tbody>\n",
       "</table>\n",
       "</div>"
      ],
      "text/plain": [
       "       lower\n",
       "split       \n",
       "0       2252\n",
       "00       560\n",
       "000     3712\n",
       "0000      10\n",
       "00000      1"
      ]
     },
     "execution_count": 51,
     "metadata": {},
     "output_type": "execute_result"
    }
   ],
   "source": [
    "df4.head()"
   ]
  },
  {
   "cell_type": "code",
   "execution_count": 52,
   "id": "2e1b0336",
   "metadata": {},
   "outputs": [],
   "source": [
    "#To get specific value df4.loc['0','lower'].head().values[0]"
   ]
  },
  {
   "cell_type": "markdown",
   "id": "63feb1f6",
   "metadata": {},
   "source": [
    "Above was unigrams, working on bigrams now"
   ]
  },
  {
   "cell_type": "code",
   "execution_count": 53,
   "id": "0a64a903",
   "metadata": {},
   "outputs": [
    {
     "data": {
      "text/html": [
       "<div>\n",
       "<style scoped>\n",
       "    .dataframe tbody tr th:only-of-type {\n",
       "        vertical-align: middle;\n",
       "    }\n",
       "\n",
       "    .dataframe tbody tr th {\n",
       "        vertical-align: top;\n",
       "    }\n",
       "\n",
       "    .dataframe thead th {\n",
       "        text-align: right;\n",
       "    }\n",
       "</style>\n",
       "<table border=\"1\" class=\"dataframe\">\n",
       "  <thead>\n",
       "    <tr style=\"text-align: right;\">\n",
       "      <th></th>\n",
       "      <th>lower</th>\n",
       "      <th>split</th>\n",
       "    </tr>\n",
       "  </thead>\n",
       "  <tbody>\n",
       "    <tr>\n",
       "      <th>1</th>\n",
       "      <td>4000241 i think it is safe to say that ours i...</td>\n",
       "      <td>[4000241, i, think, it, is, safe, to, say, tha...</td>\n",
       "    </tr>\n",
       "    <tr>\n",
       "      <th>2</th>\n",
       "      <td>4000341 the high point of my freshman year en...</td>\n",
       "      <td>[4000341, the, high, point, of, my, freshman, ...</td>\n",
       "    </tr>\n",
       "    <tr>\n",
       "      <th>3</th>\n",
       "      <td>4000441 there seems only one cause behind all...</td>\n",
       "      <td>[4000441, there, seems, only, one, cause, behi...</td>\n",
       "    </tr>\n",
       "    <tr>\n",
       "      <th>4</th>\n",
       "      <td>4000541 the papers that comprise this symposi...</td>\n",
       "      <td>[4000541, the, papers, that, comprise, this, s...</td>\n",
       "    </tr>\n",
       "    <tr>\n",
       "      <th>5</th>\n",
       "      <td>4000641 quaesivit arcana poli videt dei he so...</td>\n",
       "      <td>[4000641, quaesivit, arcana, poli, videt, dei,...</td>\n",
       "    </tr>\n",
       "  </tbody>\n",
       "</table>\n",
       "</div>"
      ],
      "text/plain": [
       "                                               lower  \\\n",
       "1   4000241 i think it is safe to say that ours i...   \n",
       "2   4000341 the high point of my freshman year en...   \n",
       "3   4000441 there seems only one cause behind all...   \n",
       "4   4000541 the papers that comprise this symposi...   \n",
       "5   4000641 quaesivit arcana poli videt dei he so...   \n",
       "\n",
       "                                               split  \n",
       "1  [4000241, i, think, it, is, safe, to, say, tha...  \n",
       "2  [4000341, the, high, point, of, my, freshman, ...  \n",
       "3  [4000441, there, seems, only, one, cause, behi...  \n",
       "4  [4000541, the, papers, that, comprise, this, s...  \n",
       "5  [4000641, quaesivit, arcana, poli, videt, dei,...  "
      ]
     },
     "execution_count": 53,
     "metadata": {},
     "output_type": "execute_result"
    }
   ],
   "source": [
    "df2.head()"
   ]
  },
  {
   "cell_type": "code",
   "execution_count": 54,
   "id": "44d6afc9",
   "metadata": {},
   "outputs": [],
   "source": [
    "def split2(df):\n",
    "    dt=df.split\n",
    "    dt1=dt[1:]\n",
    "    dt2=dt[:-1]\n",
    "    records = []\n",
    "    for i in range(len(dt2)):\n",
    "        records.append( dt2[i] + ' ' + dt1[i])\n",
    "    return records"
   ]
  },
  {
   "cell_type": "code",
   "execution_count": 55,
   "id": "a40c2ef0",
   "metadata": {},
   "outputs": [],
   "source": [
    "bdf2 = df2"
   ]
  },
  {
   "cell_type": "code",
   "execution_count": 56,
   "id": "030c3e35",
   "metadata": {},
   "outputs": [
    {
     "name": "stderr",
     "output_type": "stream",
     "text": [
      "C:\\Users\\poona\\AppData\\Roaming\\Python\\Python310\\site-packages\\dask\\dataframe\\core.py:5912: UserWarning: \n",
      "You did not provide metadata, so Dask is running your function on a small dataset to guess output types. It is possible that Dask will guess incorrectly.\n",
      "To provide an explicit output types or to silence this message, please provide the `meta=` keyword, as described in the map or apply function that you are using.\n",
      "  Before: .apply(func)\n",
      "  After:  .apply(func, meta=(None, 'object'))\n",
      "\n",
      "  warnings.warn(meta_warning(meta))\n"
     ]
    }
   ],
   "source": [
    "bdf2['split2']=df2.apply(split2,axis=1)"
   ]
  },
  {
   "cell_type": "code",
   "execution_count": 57,
   "id": "c37c35ed",
   "metadata": {},
   "outputs": [],
   "source": [
    "bdf3=bdf2.explode('split2')  "
   ]
  },
  {
   "cell_type": "code",
   "execution_count": 58,
   "id": "0fa9b982",
   "metadata": {},
   "outputs": [
    {
     "data": {
      "text/html": [
       "<div>\n",
       "<style scoped>\n",
       "    .dataframe tbody tr th:only-of-type {\n",
       "        vertical-align: middle;\n",
       "    }\n",
       "\n",
       "    .dataframe tbody tr th {\n",
       "        vertical-align: top;\n",
       "    }\n",
       "\n",
       "    .dataframe thead th {\n",
       "        text-align: right;\n",
       "    }\n",
       "</style>\n",
       "<table border=\"1\" class=\"dataframe\">\n",
       "  <thead>\n",
       "    <tr style=\"text-align: right;\">\n",
       "      <th></th>\n",
       "      <th>lower</th>\n",
       "      <th>split</th>\n",
       "      <th>split2</th>\n",
       "    </tr>\n",
       "  </thead>\n",
       "  <tbody>\n",
       "    <tr>\n",
       "      <th>1</th>\n",
       "      <td>4000241 i think it is safe to say that ours i...</td>\n",
       "      <td>[4000241, i, think, it, is, safe, to, say, tha...</td>\n",
       "      <td>4000241 i</td>\n",
       "    </tr>\n",
       "    <tr>\n",
       "      <th>1</th>\n",
       "      <td>4000241 i think it is safe to say that ours i...</td>\n",
       "      <td>[4000241, i, think, it, is, safe, to, say, tha...</td>\n",
       "      <td>i think</td>\n",
       "    </tr>\n",
       "    <tr>\n",
       "      <th>1</th>\n",
       "      <td>4000241 i think it is safe to say that ours i...</td>\n",
       "      <td>[4000241, i, think, it, is, safe, to, say, tha...</td>\n",
       "      <td>think it</td>\n",
       "    </tr>\n",
       "    <tr>\n",
       "      <th>1</th>\n",
       "      <td>4000241 i think it is safe to say that ours i...</td>\n",
       "      <td>[4000241, i, think, it, is, safe, to, say, tha...</td>\n",
       "      <td>it is</td>\n",
       "    </tr>\n",
       "    <tr>\n",
       "      <th>1</th>\n",
       "      <td>4000241 i think it is safe to say that ours i...</td>\n",
       "      <td>[4000241, i, think, it, is, safe, to, say, tha...</td>\n",
       "      <td>is safe</td>\n",
       "    </tr>\n",
       "  </tbody>\n",
       "</table>\n",
       "</div>"
      ],
      "text/plain": [
       "                                               lower  \\\n",
       "1   4000241 i think it is safe to say that ours i...   \n",
       "1   4000241 i think it is safe to say that ours i...   \n",
       "1   4000241 i think it is safe to say that ours i...   \n",
       "1   4000241 i think it is safe to say that ours i...   \n",
       "1   4000241 i think it is safe to say that ours i...   \n",
       "\n",
       "                                               split     split2  \n",
       "1  [4000241, i, think, it, is, safe, to, say, tha...  4000241 i  \n",
       "1  [4000241, i, think, it, is, safe, to, say, tha...    i think  \n",
       "1  [4000241, i, think, it, is, safe, to, say, tha...   think it  \n",
       "1  [4000241, i, think, it, is, safe, to, say, tha...      it is  \n",
       "1  [4000241, i, think, it, is, safe, to, say, tha...    is safe  "
      ]
     },
     "execution_count": 58,
     "metadata": {},
     "output_type": "execute_result"
    }
   ],
   "source": [
    "bdf3.head()"
   ]
  },
  {
   "cell_type": "code",
   "execution_count": 59,
   "id": "ff89be0c",
   "metadata": {},
   "outputs": [
    {
     "data": {
      "text/plain": [
       "9573750"
      ]
     },
     "execution_count": 59,
     "metadata": {},
     "output_type": "execute_result"
    }
   ],
   "source": [
    "len(bdf3) #Total number of bigrams"
   ]
  },
  {
   "cell_type": "code",
   "execution_count": 60,
   "id": "5894f1bf",
   "metadata": {},
   "outputs": [],
   "source": [
    "bdf4 = bdf3.groupby(['split2']).count()"
   ]
  },
  {
   "cell_type": "code",
   "execution_count": 61,
   "id": "4f6294ef",
   "metadata": {},
   "outputs": [
    {
     "data": {
      "text/plain": [
       "2484908"
      ]
     },
     "execution_count": 61,
     "metadata": {},
     "output_type": "execute_result"
    }
   ],
   "source": [
    "len(bdf4) #Total number of unique bigrams"
   ]
  },
  {
   "cell_type": "code",
   "execution_count": 62,
   "id": "fcc3b5f2",
   "metadata": {},
   "outputs": [
    {
     "data": {
      "text/html": [
       "<div>\n",
       "<style scoped>\n",
       "    .dataframe tbody tr th:only-of-type {\n",
       "        vertical-align: middle;\n",
       "    }\n",
       "\n",
       "    .dataframe tbody tr th {\n",
       "        vertical-align: top;\n",
       "    }\n",
       "\n",
       "    .dataframe thead th {\n",
       "        text-align: right;\n",
       "    }\n",
       "</style>\n",
       "<table border=\"1\" class=\"dataframe\">\n",
       "  <thead>\n",
       "    <tr style=\"text-align: right;\">\n",
       "      <th></th>\n",
       "      <th>lower</th>\n",
       "      <th>split</th>\n",
       "    </tr>\n",
       "    <tr>\n",
       "      <th>split2</th>\n",
       "      <th></th>\n",
       "      <th></th>\n",
       "    </tr>\n",
       "  </thead>\n",
       "  <tbody>\n",
       "    <tr>\n",
       "      <th>0 0</th>\n",
       "      <td>147</td>\n",
       "      <td>147</td>\n",
       "    </tr>\n",
       "    <tr>\n",
       "      <th>0 00</th>\n",
       "      <td>7</td>\n",
       "      <td>7</td>\n",
       "    </tr>\n",
       "    <tr>\n",
       "      <th>0 000</th>\n",
       "      <td>8</td>\n",
       "      <td>8</td>\n",
       "    </tr>\n",
       "    <tr>\n",
       "      <th>0 00000</th>\n",
       "      <td>1</td>\n",
       "      <td>1</td>\n",
       "    </tr>\n",
       "    <tr>\n",
       "      <th>0 00001</th>\n",
       "      <td>1</td>\n",
       "      <td>1</td>\n",
       "    </tr>\n",
       "  </tbody>\n",
       "</table>\n",
       "</div>"
      ],
      "text/plain": [
       "         lower  split\n",
       "split2               \n",
       "0 0        147    147\n",
       "0 00         7      7\n",
       "0 000        8      8\n",
       "0 00000      1      1\n",
       "0 00001      1      1"
      ]
     },
     "execution_count": 62,
     "metadata": {},
     "output_type": "execute_result"
    }
   ],
   "source": [
    "bdf4.head()"
   ]
  },
  {
   "cell_type": "code",
   "execution_count": 63,
   "id": "b16a1d89",
   "metadata": {},
   "outputs": [],
   "source": [
    "#To get specific value bdf4.loc['0 0','lower'].head().values[0]"
   ]
  },
  {
   "cell_type": "markdown",
   "id": "6345e85f",
   "metadata": {},
   "source": [
    "Approximation"
   ]
  },
  {
   "cell_type": "code",
   "execution_count": 64,
   "id": "2519ea49",
   "metadata": {},
   "outputs": [],
   "source": [
    "#Can just repalce the word1 and word2 variables with what you want to find the approximation"
   ]
  },
  {
   "cell_type": "code",
   "execution_count": 65,
   "id": "67871093",
   "metadata": {},
   "outputs": [
    {
     "data": {
      "text/plain": [
       "0.06530760843475339"
      ]
     },
     "execution_count": 65,
     "metadata": {},
     "output_type": "execute_result"
    }
   ],
   "source": [
    "word1='0'\n",
    "word2='0'\n",
    "combined = word1 + ' ' + word2\n",
    "x = df4.loc[word1,'lower'].head().values[0]/len(df3)\n",
    "y = bdf4.loc[combined,'lower'].head().values[0]/len(bdf3)\n",
    "y/x"
   ]
  },
  {
   "cell_type": "code",
   "execution_count": null,
   "id": "952d6601",
   "metadata": {},
   "outputs": [],
   "source": []
  }
 ],
 "metadata": {
  "kernelspec": {
   "display_name": "Python 3 (ipykernel)",
   "language": "python",
   "name": "python3"
  },
  "language_info": {
   "codemirror_mode": {
    "name": "ipython",
    "version": 3
   },
   "file_extension": ".py",
   "mimetype": "text/x-python",
   "name": "python",
   "nbconvert_exporter": "python",
   "pygments_lexer": "ipython3",
   "version": "3.10.6"
  }
 },
 "nbformat": 4,
 "nbformat_minor": 5
}
