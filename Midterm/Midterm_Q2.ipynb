{
 "cells": [
  {
   "cell_type": "code",
   "execution_count": 1,
   "id": "e155ec36",
   "metadata": {},
   "outputs": [],
   "source": [
    "import pyspark\n",
    "from pyspark.sql import *\n",
    "from pyspark.sql.types import *\n",
    "from pyspark.sql.functions import *\n",
    "from pyspark import SparkContext, SparkConf\n",
    "from pyspark.sql import SparkSession\n",
    "from pyspark.sql.functions import *\n",
    "from pyspark import SparkContext"
   ]
  },
  {
   "cell_type": "code",
   "execution_count": 2,
   "id": "5ab3b4c7",
   "metadata": {},
   "outputs": [],
   "source": [
    "spark = SparkSession.builder.appName(\"t1\").getOrCreate()\n",
    "sc = SparkContext.getOrCreate()"
   ]
  },
  {
   "cell_type": "markdown",
   "id": "e2a27193",
   "metadata": {},
   "source": [
    "Splitting by month"
   ]
  },
  {
   "cell_type": "code",
   "execution_count": 3,
   "id": "46e9012e",
   "metadata": {},
   "outputs": [],
   "source": [
    "prefix= 'C:/Users/poona/Downloads/data_Q1_2019/drive_stats_2019_Q1/'\n",
    "paths = [prefix + '2019-01-01.csv',\n",
    "prefix + '2019-01-02.csv',\n",
    "prefix + '2019-01-03.csv',\n",
    "prefix + '2019-01-04.csv',\n",
    "prefix + '2019-01-05.csv',\n",
    "prefix + '2019-01-06.csv',\n",
    "prefix + '2019-01-07.csv',\n",
    "prefix + '2019-01-08.csv',\n",
    "prefix + '2019-01-09.csv',\n",
    "prefix + '2019-01-10.csv',\n",
    "prefix + '2019-01-11.csv',\n",
    "prefix + '2019-01-12.csv',\n",
    "prefix + '2019-01-13.csv',\n",
    "prefix + '2019-01-14.csv',\n",
    "prefix + '2019-01-15.csv',\n",
    "prefix + '2019-01-16.csv',\n",
    "prefix + '2019-01-17.csv',\n",
    "prefix + '2019-01-18.csv',\n",
    "prefix + '2019-01-19.csv',\n",
    "prefix + '2019-01-20.csv',\n",
    "prefix + '2019-01-21.csv',\n",
    "prefix + '2019-01-22.csv',\n",
    "prefix + '2019-01-23.csv',\n",
    "prefix + '2019-01-24.csv',\n",
    "prefix + '2019-01-25.csv',\n",
    "prefix + '2019-01-26.csv',\n",
    "prefix + '2019-01-27.csv',\n",
    "prefix + '2019-01-28.csv',\n",
    "prefix + '2019-01-29.csv',\n",
    "prefix + '2019-01-30.csv',\n",
    "prefix + '2019-01-31.csv']"
   ]
  },
  {
   "cell_type": "code",
   "execution_count": 4,
   "id": "eca6b3e3",
   "metadata": {},
   "outputs": [
    {
     "data": {
      "text/plain": [
       "3314967"
      ]
     },
     "execution_count": 4,
     "metadata": {},
     "output_type": "execute_result"
    }
   ],
   "source": [
    "jan = spark.read.csv(paths, header='true')\n",
    "jan.createOrReplaceTempView(\"jan\")\n",
    "jan.count()"
   ]
  },
  {
   "cell_type": "code",
   "execution_count": 5,
   "id": "0a6cb2c7",
   "metadata": {},
   "outputs": [
    {
     "name": "stdout",
     "output_type": "stream",
     "text": [
      "+----------+--------------+--------------------+--------------+-------+------------------+-----------+------------------+-----------+------------------+-----------+------------------+-----------+------------------+-----------+------------------+-----------+------------------+-----------+------------------+-----------+-------------------+------------+-------------------+------------+-------------------+------------+-------------------+------------+-------------------+------------+-------------------+------------+-------------------+------------+-------------------+------------+-------------------+------------+-------------------+------------+--------------------+-------------+--------------------+-------------+--------------------+-------------+--------------------+-------------+--------------------+-------------+--------------------+-------------+--------------------+-------------+--------------------+-------------+--------------------+-------------+--------------------+-------------+--------------------+-------------+--------------------+-------------+--------------------+-------------+--------------------+-------------+--------------------+-------------+--------------------+-------------+--------------------+-------------+--------------------+-------------+--------------------+-------------+--------------------+-------------+--------------------+-------------+--------------------+-------------+--------------------+-------------+--------------------+-------------+--------------------+-------------+--------------------+-------------+--------------------+-------------+--------------------+-------------+--------------------+-------------+--------------------+-------------+--------------------+-------------+--------------------+-------------+--------------------+-------------+--------------------+-------------+--------------------+-------------+--------------------+-------------+--------------------+-------------+--------------------+-------------+--------------------+-------------+--------------------+-------------+--------------------+-------------+--------------------+-------------+--------------------+-------------+--------------------+-------------+\n",
      "|      date| serial_number|               model|capacity_bytes|failure|smart_1_normalized|smart_1_raw|smart_2_normalized|smart_2_raw|smart_3_normalized|smart_3_raw|smart_4_normalized|smart_4_raw|smart_5_normalized|smart_5_raw|smart_7_normalized|smart_7_raw|smart_8_normalized|smart_8_raw|smart_9_normalized|smart_9_raw|smart_10_normalized|smart_10_raw|smart_11_normalized|smart_11_raw|smart_12_normalized|smart_12_raw|smart_13_normalized|smart_13_raw|smart_15_normalized|smart_15_raw|smart_16_normalized|smart_16_raw|smart_17_normalized|smart_17_raw|smart_22_normalized|smart_22_raw|smart_23_normalized|smart_23_raw|smart_24_normalized|smart_24_raw|smart_168_normalized|smart_168_raw|smart_170_normalized|smart_170_raw|smart_173_normalized|smart_173_raw|smart_174_normalized|smart_174_raw|smart_177_normalized|smart_177_raw|smart_179_normalized|smart_179_raw|smart_181_normalized|smart_181_raw|smart_182_normalized|smart_182_raw|smart_183_normalized|smart_183_raw|smart_184_normalized|smart_184_raw|smart_187_normalized|smart_187_raw|smart_188_normalized|smart_188_raw|smart_189_normalized|smart_189_raw|smart_190_normalized|smart_190_raw|smart_191_normalized|smart_191_raw|smart_192_normalized|smart_192_raw|smart_193_normalized|smart_193_raw|smart_194_normalized|smart_194_raw|smart_195_normalized|smart_195_raw|smart_196_normalized|smart_196_raw|smart_197_normalized|smart_197_raw|smart_198_normalized|smart_198_raw|smart_199_normalized|smart_199_raw|smart_200_normalized|smart_200_raw|smart_201_normalized|smart_201_raw|smart_218_normalized|smart_218_raw|smart_220_normalized|smart_220_raw|smart_222_normalized|smart_222_raw|smart_223_normalized|smart_223_raw|smart_224_normalized|smart_224_raw|smart_225_normalized|smart_225_raw|smart_226_normalized|smart_226_raw|smart_231_normalized|smart_231_raw|smart_232_normalized|smart_232_raw|smart_233_normalized|smart_233_raw|smart_235_normalized|smart_235_raw|smart_240_normalized|smart_240_raw|smart_241_normalized|smart_241_raw|smart_242_normalized|smart_242_raw|smart_250_normalized|smart_250_raw|smart_251_normalized|smart_251_raw|smart_252_normalized|smart_252_raw|smart_254_normalized|smart_254_raw|smart_255_normalized|smart_255_raw|\n",
      "+----------+--------------+--------------------+--------------+-------+------------------+-----------+------------------+-----------+------------------+-----------+------------------+-----------+------------------+-----------+------------------+-----------+------------------+-----------+------------------+-----------+-------------------+------------+-------------------+------------+-------------------+------------+-------------------+------------+-------------------+------------+-------------------+------------+-------------------+------------+-------------------+------------+-------------------+------------+-------------------+------------+--------------------+-------------+--------------------+-------------+--------------------+-------------+--------------------+-------------+--------------------+-------------+--------------------+-------------+--------------------+-------------+--------------------+-------------+--------------------+-------------+--------------------+-------------+--------------------+-------------+--------------------+-------------+--------------------+-------------+--------------------+-------------+--------------------+-------------+--------------------+-------------+--------------------+-------------+--------------------+-------------+--------------------+-------------+--------------------+-------------+--------------------+-------------+--------------------+-------------+--------------------+-------------+--------------------+-------------+--------------------+-------------+--------------------+-------------+--------------------+-------------+--------------------+-------------+--------------------+-------------+--------------------+-------------+--------------------+-------------+--------------------+-------------+--------------------+-------------+--------------------+-------------+--------------------+-------------+--------------------+-------------+--------------------+-------------+--------------------+-------------+--------------------+-------------+--------------------+-------------+--------------------+-------------+--------------------+-------------+--------------------+-------------+--------------------+-------------+\n",
      "|2019-01-06|      Z305B2QN|         ST4000DM000| 4000787030016|      0|               118|  196222888|              null|       null|                91|          0|               100|         12|               100|          0|                84|  298988779|              null|       null|                70|      26833|                100|           0|               null|        null|                100|          12|               null|        null|               null|        null|               null|        null|               null|        null|               null|        null|               null|        null|               null|        null|                null|         null|                null|         null|                null|         null|                null|         null|                null|         null|                null|         null|                null|         null|                null|         null|                 100|            0|                 100|            0|                 100|            0|                 100|            0|                 100|            0|                  78|           22|                 100|            0|                 100|            0|                  83|        34169|                  22|           22|                null|         null|                null|         null|                 100|            0|                 100|            0|                 200|            0|                null|         null|                null|         null|                null|         null|                null|         null|                null|         null|                null|         null|                null|         null|                null|         null|                null|         null|                null|         null|                null|         null|                null|         null|                null|         null|                 100|        26582|                 100|  45644551064|                 100| 118918650748|                null|         null|                null|         null|                null|         null|                null|         null|                null|         null|\n",
      "|2019-01-06|      ZJV0XJQ4|       ST12000NM0007|12000138625024|      0|                84|  242794800|              null|       null|                98|          0|               100|          2|               100|          0|                86|  398207775|              null|       null|                96|       3870|                100|           0|               null|        null|                100|           2|               null|        null|               null|        null|               null|        null|               null|        null|               null|        null|               null|        null|               null|        null|                null|         null|                null|         null|                null|         null|                null|         null|                null|         null|                null|         null|                null|         null|                null|         null|                null|         null|                null|         null|                 100|            0|                 100|            0|                null|         null|                  71|           29|                null|         null|                 100|           42|                  99|         2151|                  29|           29|                  84|    242794800|                null|         null|                 100|            0|                 100|            0|                 200|            0|                 100|            0|                null|         null|                null|         null|                null|         null|                null|         null|                null|         null|                null|         null|                null|         null|                null|         null|                null|         null|                null|         null|                null|         null|                null|         null|                 100|         3136|                 100|  29523062472|                 100|  22721766592|                null|         null|                null|         null|                null|         null|                null|         null|                null|         null|\n",
      "|2019-01-06|      ZJV0XJQ3|       ST12000NM0007|12000138625024|      0|                80|  104320608|              null|       null|                99|          0|               100|          1|               100|          0|                77|   52942336|              null|       null|                99|        912|                100|           0|               null|        null|                100|           1|               null|        null|               null|        null|               null|        null|               null|        null|               null|        null|               null|        null|               null|        null|                null|         null|                null|         null|                null|         null|                null|         null|                null|         null|                null|         null|                null|         null|                null|         null|                null|         null|                null|         null|                 100|            0|                 100|            0|                null|         null|                  66|           34|                null|         null|                 100|           19|                 100|          368|                  34|           34|                  80|    104320608|                null|         null|                 100|            0|                 100|            0|                 200|            0|                 100|            0|                null|         null|                null|         null|                null|         null|                null|         null|                null|         null|                null|         null|                null|         null|                null|         null|                null|         null|                null|         null|                null|         null|                null|         null|                 100|          789|                 100|   6572387544|                 100|    856197898|                null|         null|                null|         null|                null|         null|                null|         null|                null|         null|\n",
      "|2019-01-06|      ZJV0XJQ0|       ST12000NM0007|12000138625024|      0|                82|  159368952|              null|       null|                93|          0|               100|          6|               100|          0|                88|  577658592|              null|       null|                95|       4476|                100|           0|               null|        null|                100|           6|               null|        null|               null|        null|               null|        null|               null|        null|               null|        null|               null|        null|               null|        null|                null|         null|                null|         null|                null|         null|                null|         null|                null|         null|                null|         null|                null|         null|                null|         null|                null|         null|                null|         null|                 100|            0|                 100|            0|                null|         null|                  77|           23|                null|         null|                 100|           37|                 100|          692|                  23|           23|                  82|    159368952|                null|         null|                 100|            0|                 100|            0|                 200|            0|                 100|            0|                null|         null|                null|         null|                null|         null|                null|         null|                null|         null|                null|         null|                null|         null|                null|         null|                null|         null|                null|         null|                null|         null|                null|         null|                 100|         4285|                 100|  33980265536|                 100|  40397936360|                null|         null|                null|         null|                null|         null|                null|         null|                null|         null|\n",
      "|2019-01-06|PL1331LAHG1S4H|HGST HMS5C4040ALE640| 4000787030016|      0|               100|          0|               134|        103|               100|        436|               100|          8|               100|          0|               100|          0|               113|         42|                98|      16907|                100|           0|               null|        null|                100|           8|               null|        null|               null|        null|               null|        null|               null|        null|               null|        null|               null|        null|               null|        null|                null|         null|                null|         null|                null|         null|                null|         null|                null|         null|                null|         null|                null|         null|                null|         null|                null|         null|                null|         null|                null|         null|                null|         null|                null|         null|                null|         null|                null|         null|                 100|          188|                 100|          188|                 193|           31|                null|         null|                 100|            0|                 100|            0|                 100|            0|                 200|            0|                null|         null|                null|         null|                null|         null|                null|         null|                null|         null|                null|         null|                null|         null|                null|         null|                null|         null|                null|         null|                null|         null|                null|         null|                null|         null|                null|         null|                null|         null|                null|         null|                null|         null|                null|         null|                null|         null|                null|         null|                null|         null|\n",
      "|2019-01-06|      ZA16NQJR|        ST8000NM0055| 8001563222016|      0|                81|  119842296|              null|       null|                92|          0|               100|          6|               100|          0|                96| 3906921299|              null|       null|                84|      14787|                100|           0|               null|        null|                100|           6|               null|        null|               null|        null|               null|        null|               null|        null|               null|        null|               null|        null|               null|        null|                null|         null|                null|         null|                null|         null|                null|         null|                null|         null|                null|         null|                null|         null|                null|         null|                null|         null|                 100|            0|                 100|            0|                 100|            0|                 100|            0|                  62|           38|                  97|         6458|                 100|           14|                  93|        15676|                  38|           38|                  81|    119842296|                null|         null|                 100|            0|                 100|            0|                 200|            0|                null|         null|                null|         null|                null|         null|                null|         null|                null|         null|                null|         null|                null|         null|                null|         null|                null|         null|                null|         null|                null|         null|                null|         null|                null|         null|                 100|        14766|                 100|  47885030928|                 100|  95340886652|                null|         null|                null|         null|                null|         null|                null|         null|                null|         null|\n",
      "|2019-01-06|      ZJV02XWG|       ST12000NM0007|12000138625024|      0|                80|   89292928|              null|       null|                90|          0|               100|          7|               100|          0|                88|  655033941|              null|       null|                94|       5793|                100|           0|               null|        null|                100|           7|               null|        null|               null|        null|               null|        null|               null|        null|               null|        null|               null|        null|               null|        null|                null|         null|                null|         null|                null|         null|                null|         null|                null|         null|                null|         null|                null|         null|                null|         null|                null|         null|                null|         null|                 100|            0|                 100|            0|                null|         null|                  77|           23|                null|         null|                 100|           65|                 100|          670|                  23|           23|                  80|     89292928|                null|         null|                 100|            0|                 100|            0|                 200|            0|                 100|            0|                null|         null|                null|         null|                null|         null|                null|         null|                null|         null|                null|         null|                null|         null|                null|         null|                null|         null|                null|         null|                null|         null|                null|         null|                 100|         5620|                 100|  35156130776|                 100|  46720371188|                null|         null|                null|         null|                null|         null|                null|         null|                null|         null|\n",
      "|2019-01-06|      ZJV1CSVX|       ST12000NM0007|12000138625024|      0|                74|   27886984|              null|       null|                98|          0|               100|          2|               100|          0|                88|  584421066|              null|       null|                96|       4128|                100|           0|               null|        null|                100|           2|               null|        null|               null|        null|               null|        null|               null|        null|               null|        null|               null|        null|               null|        null|                null|         null|                null|         null|                null|         null|                null|         null|                null|         null|                null|         null|                null|         null|                null|         null|                null|         null|                null|         null|                 100|            0|                 100|            0|                null|         null|                  70|           30|                null|         null|                 100|           37|                 100|          286|                  30|           30|                  74|     27886984|                null|         null|                 100|            0|                 100|            0|                 200|            0|                 100|            0|                null|         null|                null|         null|                null|         null|                null|         null|                null|         null|                null|         null|                null|         null|                null|         null|                null|         null|                null|         null|                null|         null|                null|         null|                 100|         4068|                 100|  35786721248|                 100|  42122113684|                null|         null|                null|         null|                null|         null|                null|         null|                null|         null|\n",
      "|2019-01-06|      ZJV02XWA|       ST12000NM0007|12000138625024|      0|                82|  155889112|              null|       null|                97|          0|               100|          2|               100|          0|                89|  794329608|              null|       null|                94|       5808|                100|           0|               null|        null|                100|           2|               null|        null|               null|        null|               null|        null|               null|        null|               null|        null|               null|        null|               null|        null|                null|         null|                null|         null|                null|         null|                null|         null|                null|         null|                null|         null|                null|         null|                null|         null|                null|         null|                null|         null|                 100|            0|                 100|            0|                null|         null|                  77|           23|                null|         null|                 100|           43|                 100|          362|                  23|           23|                  82|    155889112|                null|         null|                 100|            0|                 100|            0|                 200|            0|                 100|            0|                null|         null|                null|         null|                null|         null|                null|         null|                null|         null|                null|         null|                null|         null|                null|         null|                null|         null|                null|         null|                null|         null|                null|         null|                 100|         5743|                 100|  41626090264|                 100|  56918549916|                null|         null|                null|         null|                null|         null|                null|         null|                null|         null|\n",
      "|2019-01-06|      ZA18CEBS|        ST8000NM0055| 8001563222016|      0|                72|   15311000|              null|       null|                97|          0|               100|          2|               100|          0|                95| 2832304061|              null|       null|                87|      11764|                100|           0|               null|        null|                100|           2|               null|        null|               null|        null|               null|        null|               null|        null|               null|        null|               null|        null|               null|        null|                null|         null|                null|         null|                null|         null|                null|         null|                null|         null|                null|         null|                null|         null|                null|         null|                null|         null|                 100|            0|                 100|            0|                 100|            0|                 100|            0|                  60|           40|                  93|        15182|                 100|            3|                  93|        14625|                  40|           40|                  72|     15311000|                null|         null|                 100|            0|                 100|            0|                 200|            0|                null|         null|                null|         null|                null|         null|                null|         null|                null|         null|                null|         null|                null|         null|                null|         null|                null|         null|                null|         null|                null|         null|                null|         null|                null|         null|                 100|        11739|                 100|  41431041056|                 100|  86286399252|                null|         null|                null|         null|                null|         null|                null|         null|                null|         null|\n",
      "|2019-01-06|      Z305DEMG|         ST4000DM000| 4000787030016|      0|               114|   78052520|              null|       null|                97|          0|               100|          3|               100|          0|                78|   79584557|              null|       null|                72|      25134|                100|           0|               null|        null|                100|           3|               null|        null|               null|        null|               null|        null|               null|        null|               null|        null|               null|        null|               null|        null|                null|         null|                null|         null|                null|         null|                null|         null|                null|         null|                null|         null|                null|         null|                null|         null|                 100|            0|                 100|            0|                 100|            0|                 100|            0|                 100|            0|                  75|           25|                 100|            0|                 100|            0|                  74|        52131|                  25|           25|                null|         null|                null|         null|                 100|            0|                 100|            0|                 200|            0|                null|         null|                null|         null|                null|         null|                null|         null|                null|         null|                null|         null|                null|         null|                null|         null|                null|         null|                null|         null|                null|         null|                null|         null|                null|         null|                 100|        24789|                 100|  39518566512|                 100| 107837589315|                null|         null|                null|         null|                null|         null|                null|         null|                null|         null|\n",
      "|2019-01-06|      ZA130TTW|         ST8000DM002| 8001563222016|      0|                78|   69109208|              null|       null|                96|          0|               100|          2|               100|          0|                87|  534839041|              null|       null|                78|      19883|                100|           0|               null|        null|                100|           2|               null|        null|               null|        null|               null|        null|               null|        null|               null|        null|               null|        null|               null|        null|                null|         null|                null|         null|                null|         null|                null|         null|                null|         null|                null|         null|                null|         null|                null|         null|                null|         null|                 100|            0|                 100|            0|                 100|            0|                 100|            0|                  71|           29|                  81|        38518|                 100|            0|                  91|        18394|                  29|           29|                   1|     69109208|                null|         null|                 100|            0|                 100|            0|                 200|            0|                null|         null|                null|         null|                null|         null|                null|         null|                null|         null|                null|         null|                null|         null|                null|         null|                null|         null|                null|         null|                null|         null|                null|         null|                null|         null|                 100|        19847|                 100|  58165098176|                 100| 105714244418|                null|         null|                null|         null|                null|         null|                null|         null|                null|         null|\n",
      "|2019-01-06|      ZJV1CSVV|       ST12000NM0007|12000138625024|      0|                81|  121640104|              null|       null|                99|          0|               100|          1|               100|          0|                78|   69052554|              null|       null|               100|        798|                100|           0|               null|        null|                100|           1|               null|        null|               null|        null|               null|        null|               null|        null|               null|        null|               null|        null|               null|        null|                null|         null|                null|         null|                null|         null|                null|         null|                null|         null|                null|         null|                null|         null|                null|         null|                null|         null|                null|         null|                 100|            0|                 100|            0|                null|         null|                  69|           31|                null|         null|                 100|           15|                 100|          202|                  31|           31|                  81|    121640104|                null|         null|                 100|            0|                 100|            0|                 200|            0|                 100|            0|                null|         null|                null|         null|                null|         null|                null|         null|                null|         null|                null|         null|                null|         null|                null|         null|                null|         null|                null|         null|                null|         null|                null|         null|                 100|          726|                 100|   7246910512|                 100|   4105224516|                null|         null|                null|         null|                null|         null|                null|         null|                null|         null|\n",
      "|2019-01-06|      ZA18CEBF|        ST8000NM0055| 8001563222016|      0|                83|  192132312|              null|       null|                98|          0|               100|          2|               100|          0|                94| 2797896577|              null|       null|                87|      11767|                100|           0|               null|        null|                100|           2|               null|        null|               null|        null|               null|        null|               null|        null|               null|        null|               null|        null|               null|        null|                null|         null|                null|         null|                null|         null|                null|         null|                null|         null|                null|         null|                null|         null|                null|         null|                null|         null|                 100|            0|                 100|            0|                 100|            0|                 100|            0|                  63|           37|                  98|         4694|                 100|            5|                  93|        15851|                  37|           37|                  83|    192132312|                null|         null|                 100|            0|                 100|            0|                 200|            0|                null|         null|                null|         null|                null|         null|                null|         null|                null|         null|                null|         null|                null|         null|                null|         null|                null|         null|                null|         null|                null|         null|                null|         null|                null|         null|                 100|        11743|                 100|  41519527960|                 100|  86972363222|                null|         null|                null|         null|                null|         null|                null|         null|                null|         null|\n",
      "|2019-01-06|      ZJV02XWV|       ST12000NM0007|12000138625024|      0|                84|  232130328|              null|       null|                99|          0|               100|          1|               100|          0|                89|  787727691|              null|       null|                94|       5795|                100|           0|               null|        null|                100|           1|               null|        null|               null|        null|               null|        null|               null|        null|               null|        null|               null|        null|               null|        null|                null|         null|                null|         null|                null|         null|                null|         null|                null|         null|                null|         null|                null|         null|                null|         null|                null|         null|                null|         null|                 100|            0|                 100|            0|                null|         null|                  73|           27|                null|         null|                 100|           48|                 100|          331|                  27|           27|                  84|    232130328|                null|         null|                 100|            0|                 100|            0|                 200|            0|                 100|            0|                null|         null|                null|         null|                null|         null|                null|         null|                null|         null|                null|         null|                null|         null|                null|         null|                null|         null|                null|         null|                null|         null|                null|         null|                 100|         5741|                 100|  41776385960|                 100|  55135520650|                null|         null|                null|         null|                null|         null|                null|         null|                null|         null|\n",
      "|2019-01-06|PL2331LAG9TEEJ|HGST HMS5C4040ALE640| 4000787030016|      0|               100|          0|               135|         98|               100|        449|               100|         11|               100|          0|               100|          0|               113|         42|                98|      16907|                100|           0|               null|        null|                100|          10|               null|        null|               null|        null|               null|        null|               null|        null|               null|        null|               null|        null|               null|        null|                null|         null|                null|         null|                null|         null|                null|         null|                null|         null|                null|         null|                null|         null|                null|         null|                null|         null|                null|         null|                null|         null|                null|         null|                null|         null|                null|         null|                null|         null|                 100|          133|                 100|          133|                 176|           34|                null|         null|                 100|            0|                 100|            0|                 100|            0|                 200|            0|                null|         null|                null|         null|                null|         null|                null|         null|                null|         null|                null|         null|                null|         null|                null|         null|                null|         null|                null|         null|                null|         null|                null|         null|                null|         null|                null|         null|                null|         null|                null|         null|                null|         null|                null|         null|                null|         null|                null|         null|                null|         null|\n",
      "|2019-01-06|PL2331LAH3WYAJ|HGST HMS5C4040BLE640| 4000787030016|      0|               100|          0|               133|        106|               100|          0|               100|          4|               100|          0|               100|          0|               113|         42|                98|      16546|                100|           0|               null|        null|                100|           4|               null|        null|               null|        null|               null|        null|               null|        null|               null|        null|               null|        null|               null|        null|                null|         null|                null|         null|                null|         null|                null|         null|                null|         null|                null|         null|                null|         null|                null|         null|                null|         null|                null|         null|                null|         null|                null|         null|                null|         null|                null|         null|                null|         null|                 100|          142|                 100|          142|                 200|           30|                null|         null|                 100|            0|                 100|            0|                 100|            0|                 200|            0|                null|         null|                null|         null|                null|         null|                null|         null|                null|         null|                null|         null|                null|         null|                null|         null|                null|         null|                null|         null|                null|         null|                null|         null|                null|         null|                null|         null|                null|         null|                null|         null|                null|         null|                null|         null|                null|         null|                null|         null|                null|         null|\n",
      "|2019-01-06|      Z3023VGH|         ST4000DM000| 4000787030016|      0|               119|  224323728|              null|       null|                92|          0|               100|         15|               100|          0|                82|  193519191|              null|       null|                58|      37063|                100|           0|               null|        null|                100|          15|               null|        null|               null|        null|               null|        null|               null|        null|               null|        null|               null|        null|               null|        null|                null|         null|                null|         null|                null|         null|                null|         null|                null|         null|                null|         null|                null|         null|                null|         null|                 100|            0|                 100|            0|                 100|            0|                 100|            0|                 100|            0|                  71|           29|                 100|            0|                 100|            1|                  76|        48290|                  29|           29|                null|         null|                null|         null|                 100|            0|                 100|            0|                 200|            0|                null|         null|                null|         null|                null|         null|                null|         null|                null|         null|                null|         null|                null|         null|                null|         null|                null|         null|                null|         null|                null|         null|                null|         null|                null|         null|                 100|        36836|                 100|  23627839017|                 100| 182300895881|                null|         null|                null|         null|                null|         null|                null|         null|                null|         null|\n",
      "|2019-01-06|PL1331LAHG53YH|HGST HMS5C4040BLE640| 4000787030016|      0|               100|          0|               133|        104|               100|        440|               100|          5|               100|          0|               100|          0|               113|         42|                98|      16525|                100|           0|               null|        null|                100|           5|               null|        null|               null|        null|               null|        null|               null|        null|               null|        null|               null|        null|               null|        null|                null|         null|                null|         null|                null|         null|                null|         null|                null|         null|                null|         null|                null|         null|                null|         null|                null|         null|                null|         null|                null|         null|                null|         null|                null|         null|                null|         null|                null|         null|                 100|          119|                 100|          119|                 176|           34|                null|         null|                 100|            0|                 100|            0|                 100|            0|                 200|            0|                null|         null|                null|         null|                null|         null|                null|         null|                null|         null|                null|         null|                null|         null|                null|         null|                null|         null|                null|         null|                null|         null|                null|         null|                null|         null|                null|         null|                null|         null|                null|         null|                null|         null|                null|         null|                null|         null|                null|         null|                null|         null|\n",
      "|2019-01-06|  88Q0A0LGF97G| TOSHIBA MG07ACA14TA|14000519643136|      0|               100|          0|               100|          0|               100|       7795|               100|          2|               100|          0|               100|          0|               100|          0|                95|       2291|                100|           0|               null|        null|                100|           2|               null|        null|               null|        null|               null|        null|               null|        null|               null|        null|                100|           0|                100|           0|                null|         null|                null|         null|                null|         null|                null|         null|                null|         null|                null|         null|                null|         null|                null|         null|                null|         null|                null|         null|                null|         null|                null|         null|                null|         null|                null|         null|                 100|            0|                 100|            0|                 100|           37|                 100|           25|                null|         null|                 100|            0|                 100|            0|                 100|            0|                 200|            0|                null|         null|                null|         null|                null|         null|                 100|     33554433|                  95|         2277|                 100|            0|                 100|            0|                null|         null|                 100|          587|                null|         null|                null|         null|                null|         null|                null|         null|                 100|            0|                null|         null|                null|         null|                null|         null|                null|         null|                null|         null|                null|         null|                null|         null|\n",
      "+----------+--------------+--------------------+--------------+-------+------------------+-----------+------------------+-----------+------------------+-----------+------------------+-----------+------------------+-----------+------------------+-----------+------------------+-----------+------------------+-----------+-------------------+------------+-------------------+------------+-------------------+------------+-------------------+------------+-------------------+------------+-------------------+------------+-------------------+------------+-------------------+------------+-------------------+------------+-------------------+------------+--------------------+-------------+--------------------+-------------+--------------------+-------------+--------------------+-------------+--------------------+-------------+--------------------+-------------+--------------------+-------------+--------------------+-------------+--------------------+-------------+--------------------+-------------+--------------------+-------------+--------------------+-------------+--------------------+-------------+--------------------+-------------+--------------------+-------------+--------------------+-------------+--------------------+-------------+--------------------+-------------+--------------------+-------------+--------------------+-------------+--------------------+-------------+--------------------+-------------+--------------------+-------------+--------------------+-------------+--------------------+-------------+--------------------+-------------+--------------------+-------------+--------------------+-------------+--------------------+-------------+--------------------+-------------+--------------------+-------------+--------------------+-------------+--------------------+-------------+--------------------+-------------+--------------------+-------------+--------------------+-------------+--------------------+-------------+--------------------+-------------+--------------------+-------------+--------------------+-------------+--------------------+-------------+--------------------+-------------+--------------------+-------------+--------------------+-------------+\n",
      "only showing top 20 rows\n",
      "\n"
     ]
    }
   ],
   "source": [
    "jan.show()"
   ]
  },
  {
   "cell_type": "code",
   "execution_count": 6,
   "id": "55da32ed",
   "metadata": {},
   "outputs": [],
   "source": [
    "paths = [prefix + '2019-02-01.csv',\n",
    "prefix + '2019-02-02.csv',\n",
    "prefix + '2019-02-03.csv',\n",
    "prefix + '2019-02-04.csv',\n",
    "prefix + '2019-02-05.csv',\n",
    "prefix + '2019-02-06.csv',\n",
    "prefix + '2019-02-07.csv',\n",
    "prefix + '2019-02-08.csv',\n",
    "prefix + '2019-02-09.csv',\n",
    "prefix + '2019-02-10.csv',\n",
    "prefix + '2019-02-11.csv',\n",
    "prefix + '2019-02-12.csv',\n",
    "prefix + '2019-02-13.csv',\n",
    "prefix + '2019-02-14.csv',\n",
    "prefix + '2019-02-15.csv',\n",
    "prefix + '2019-02-16.csv',\n",
    "prefix + '2019-02-17.csv',\n",
    "prefix + '2019-02-18.csv',\n",
    "prefix + '2019-02-19.csv',\n",
    "prefix + '2019-02-20.csv',\n",
    "prefix + '2019-02-21.csv',\n",
    "prefix + '2019-02-22.csv',\n",
    "prefix + '2019-02-23.csv',\n",
    "prefix + '2019-02-24.csv',\n",
    "prefix + '2019-02-25.csv',\n",
    "prefix + '2019-02-26.csv',\n",
    "prefix + '2019-02-27.csv',\n",
    "prefix + '2019-02-28.csv']"
   ]
  },
  {
   "cell_type": "code",
   "execution_count": 7,
   "id": "d666c543",
   "metadata": {},
   "outputs": [
    {
     "data": {
      "text/plain": [
       "2945987"
      ]
     },
     "execution_count": 7,
     "metadata": {},
     "output_type": "execute_result"
    }
   ],
   "source": [
    "feb = spark.read.csv(paths, header='true')\n",
    "feb.createOrReplaceTempView(\"feb\")\n",
    "feb.count()"
   ]
  },
  {
   "cell_type": "code",
   "execution_count": 8,
   "id": "ce09d90a",
   "metadata": {},
   "outputs": [
    {
     "name": "stdout",
     "output_type": "stream",
     "text": [
      "+----------+--------------+--------------------+--------------+-------+------------------+-----------+------------------+-----------+------------------+-----------+------------------+-----------+------------------+-----------+------------------+-----------+------------------+-----------+------------------+-----------+-------------------+------------+-------------------+------------+-------------------+------------+-------------------+------------+-------------------+------------+-------------------+------------+-------------------+------------+-------------------+------------+-------------------+------------+-------------------+------------+--------------------+-------------+--------------------+-------------+--------------------+-------------+--------------------+-------------+--------------------+-------------+--------------------+-------------+--------------------+-------------+--------------------+-------------+--------------------+-------------+--------------------+-------------+--------------------+-------------+--------------------+-------------+--------------------+-------------+--------------------+-------------+--------------------+-------------+--------------------+-------------+--------------------+-------------+--------------------+-------------+--------------------+-------------+--------------------+-------------+--------------------+-------------+--------------------+-------------+--------------------+-------------+--------------------+-------------+--------------------+-------------+--------------------+-------------+--------------------+-------------+--------------------+-------------+--------------------+-------------+--------------------+-------------+--------------------+-------------+--------------------+-------------+--------------------+-------------+--------------------+-------------+--------------------+-------------+--------------------+-------------+--------------------+-------------+--------------------+-------------+--------------------+-------------+--------------------+-------------+--------------------+-------------+--------------------+-------------+--------------------+-------------+--------------------+-------------+\n",
      "|      date| serial_number|               model|capacity_bytes|failure|smart_1_normalized|smart_1_raw|smart_2_normalized|smart_2_raw|smart_3_normalized|smart_3_raw|smart_4_normalized|smart_4_raw|smart_5_normalized|smart_5_raw|smart_7_normalized|smart_7_raw|smart_8_normalized|smart_8_raw|smart_9_normalized|smart_9_raw|smart_10_normalized|smart_10_raw|smart_11_normalized|smart_11_raw|smart_12_normalized|smart_12_raw|smart_13_normalized|smart_13_raw|smart_15_normalized|smart_15_raw|smart_16_normalized|smart_16_raw|smart_17_normalized|smart_17_raw|smart_22_normalized|smart_22_raw|smart_23_normalized|smart_23_raw|smart_24_normalized|smart_24_raw|smart_168_normalized|smart_168_raw|smart_170_normalized|smart_170_raw|smart_173_normalized|smart_173_raw|smart_174_normalized|smart_174_raw|smart_177_normalized|smart_177_raw|smart_179_normalized|smart_179_raw|smart_181_normalized|smart_181_raw|smart_182_normalized|smart_182_raw|smart_183_normalized|smart_183_raw|smart_184_normalized|smart_184_raw|smart_187_normalized|smart_187_raw|smart_188_normalized|smart_188_raw|smart_189_normalized|smart_189_raw|smart_190_normalized|smart_190_raw|smart_191_normalized|smart_191_raw|smart_192_normalized|smart_192_raw|smart_193_normalized|smart_193_raw|smart_194_normalized|smart_194_raw|smart_195_normalized|smart_195_raw|smart_196_normalized|smart_196_raw|smart_197_normalized|smart_197_raw|smart_198_normalized|smart_198_raw|smart_199_normalized|smart_199_raw|smart_200_normalized|smart_200_raw|smart_201_normalized|smart_201_raw|smart_218_normalized|smart_218_raw|smart_220_normalized|smart_220_raw|smart_222_normalized|smart_222_raw|smart_223_normalized|smart_223_raw|smart_224_normalized|smart_224_raw|smart_225_normalized|smart_225_raw|smart_226_normalized|smart_226_raw|smart_231_normalized|smart_231_raw|smart_232_normalized|smart_232_raw|smart_233_normalized|smart_233_raw|smart_235_normalized|smart_235_raw|smart_240_normalized|smart_240_raw|smart_241_normalized|smart_241_raw|smart_242_normalized|smart_242_raw|smart_250_normalized|smart_250_raw|smart_251_normalized|smart_251_raw|smart_252_normalized|smart_252_raw|smart_254_normalized|smart_254_raw|smart_255_normalized|smart_255_raw|\n",
      "+----------+--------------+--------------------+--------------+-------+------------------+-----------+------------------+-----------+------------------+-----------+------------------+-----------+------------------+-----------+------------------+-----------+------------------+-----------+------------------+-----------+-------------------+------------+-------------------+------------+-------------------+------------+-------------------+------------+-------------------+------------+-------------------+------------+-------------------+------------+-------------------+------------+-------------------+------------+-------------------+------------+--------------------+-------------+--------------------+-------------+--------------------+-------------+--------------------+-------------+--------------------+-------------+--------------------+-------------+--------------------+-------------+--------------------+-------------+--------------------+-------------+--------------------+-------------+--------------------+-------------+--------------------+-------------+--------------------+-------------+--------------------+-------------+--------------------+-------------+--------------------+-------------+--------------------+-------------+--------------------+-------------+--------------------+-------------+--------------------+-------------+--------------------+-------------+--------------------+-------------+--------------------+-------------+--------------------+-------------+--------------------+-------------+--------------------+-------------+--------------------+-------------+--------------------+-------------+--------------------+-------------+--------------------+-------------+--------------------+-------------+--------------------+-------------+--------------------+-------------+--------------------+-------------+--------------------+-------------+--------------------+-------------+--------------------+-------------+--------------------+-------------+--------------------+-------------+--------------------+-------------+--------------------+-------------+--------------------+-------------+--------------------+-------------+--------------------+-------------+\n",
      "|2019-02-01|      Z305B2QN|         ST4000DM000| 4000787030016|      0|               120|  243327784|              null|       null|                91|          0|               100|         12|               100|          0|                84|  332185401|              null|       null|                69|      27456|                100|           0|               null|        null|                100|          12|               null|        null|               null|        null|               null|        null|               null|        null|               null|        null|               null|        null|               null|        null|                null|         null|                null|         null|                null|         null|                null|         null|                null|         null|                null|         null|                null|         null|                null|         null|                 100|            0|                 100|            0|                 100|            0|                 100|            0|                 100|            0|                  79|           21|                 100|            0|                 100|            0|                  83|        34169|                  21|           21|                null|         null|                null|         null|                 100|            0|                 100|            0|                 200|            0|                null|         null|                null|         null|                null|         null|                null|         null|                null|         null|                null|         null|                null|         null|                null|         null|                null|         null|                null|         null|                null|         null|                null|         null|                null|         null|                 100|        27205|                 100|  46156602736|                 100| 122697232984|                null|         null|                null|         null|                null|         null|                null|         null|                null|         null|\n",
      "|2019-02-01|      ZJV0XJQ4|       ST12000NM0007|12000138625024|      0|                82|  174450320|              null|       null|                98|          0|               100|          2|               100|          0|                87|  529512994|              null|       null|                95|       4480|                100|           0|               null|        null|                100|           2|               null|        null|               null|        null|               null|        null|               null|        null|               null|        null|               null|        null|               null|        null|                null|         null|                null|         null|                null|         null|                null|         null|                null|         null|                null|         null|                null|         null|                null|         null|                null|         null|                null|         null|                 100|            0|                 100|            0|                null|         null|                  72|           28|                null|         null|                 100|           49|                  99|         2176|                  28|           28|                  82|    174450320|                null|         null|                 100|            0|                 100|            0|                 200|            0|                 100|            0|                null|         null|                null|         null|                null|         null|                null|         null|                null|         null|                null|         null|                null|         null|                null|         null|                null|         null|                null|         null|                null|         null|                null|         null|                 100|         3744|                 100|  31966207912|                 100|  45600921952|                null|         null|                null|         null|                null|         null|                null|         null|                null|         null|\n",
      "|2019-02-01|      ZJV0XJQ3|       ST12000NM0007|12000138625024|      0|                79|   72195960|              null|       null|                99|          0|               100|          1|               100|          0|                80|  104088240|              null|       null|                99|       1526|                100|           0|               null|        null|                100|           1|               null|        null|               null|        null|               null|        null|               null|        null|               null|        null|               null|        null|               null|        null|                null|         null|                null|         null|                null|         null|                null|         null|                null|         null|                null|         null|                null|         null|                null|         null|                null|         null|                null|         null|                 100|            0|                 100|            0|                null|         null|                  69|           31|                null|         null|                 100|           23|                 100|         1030|                  31|           31|                  79|     72195960|                null|         null|                 100|            0|                 100|            0|                 200|            0|                 100|            0|                null|         null|                null|         null|                null|         null|                null|         null|                null|         null|                null|         null|                null|         null|                null|         null|                null|         null|                null|         null|                null|         null|                null|         null|                 100|         1308|                 100|  12175212800|                 100|   1568914418|                null|         null|                null|         null|                null|         null|                null|         null|                null|         null|\n",
      "|2019-02-01|      ZJV0XJQ0|       ST12000NM0007|12000138625024|      0|                79|   74302712|              null|       null|                93|          0|               100|          6|               100|          0|                88|  650557315|              null|       null|                95|       5097|                100|           0|               null|        null|                100|           6|               null|        null|               null|        null|               null|        null|               null|        null|               null|        null|               null|        null|               null|        null|                null|         null|                null|         null|                null|         null|                null|         null|                null|         null|                null|         null|                null|         null|                null|         null|                null|         null|                null|         null|                 100|            0|                 100|            0|                null|         null|                  77|           23|                null|         null|                 100|           45|                 100|          718|                  23|           23|                  79|     74302712|                null|         null|                 100|            0|                 100|            0|                 200|            0|                 100|            0|                null|         null|                null|         null|                null|         null|                null|         null|                null|         null|                null|         null|                null|         null|                null|         null|                null|         null|                null|         null|                null|         null|                null|         null|                 100|         4903|                 100|  36119733960|                 100|  45253484792|                null|         null|                null|         null|                null|         null|                null|         null|                null|         null|\n",
      "|2019-02-01|PL1331LAHG1S4H|HGST HMS5C4040ALE640| 4000787030016|      0|               100|          0|               134|        103|               100|        436|               100|          9|               100|          0|               100|          0|               113|         42|                98|      17522|                100|           0|               null|        null|                100|           9|               null|        null|               null|        null|               null|        null|               null|        null|               null|        null|               null|        null|               null|        null|                null|         null|                null|         null|                null|         null|                null|         null|                null|         null|                null|         null|                null|         null|                null|         null|                null|         null|                null|         null|                null|         null|                null|         null|                null|         null|                null|         null|                null|         null|                 100|          212|                 100|          212|                 193|           31|                null|         null|                 100|            0|                 100|            0|                 100|            0|                 200|            0|                null|         null|                null|         null|                null|         null|                null|         null|                null|         null|                null|         null|                null|         null|                null|         null|                null|         null|                null|         null|                null|         null|                null|         null|                null|         null|                null|         null|                null|         null|                null|         null|                null|         null|                null|         null|                null|         null|                null|         null|                null|         null|\n",
      "|2019-02-01|      ZA16NQJR|        ST8000NM0055| 8001563222016|      0|                82|  167404624|              null|       null|                92|          0|               100|          6|               100|          0|                96| 4118687357|              null|       null|                83|      15415|                100|           0|               null|        null|                100|           6|               null|        null|               null|        null|               null|        null|               null|        null|               null|        null|               null|        null|               null|        null|                null|         null|                null|         null|                null|         null|                null|         null|                null|         null|                null|         null|                null|         null|                null|         null|                null|         null|                 100|            0|                 100|            0|                 100|            0|                 100|            0|                  65|           35|                  97|         6642|                 100|           14|                  92|        16581|                  35|           35|                  82|    167404624|                null|         null|                 100|            0|                 100|            0|                 200|            0|                null|         null|                null|         null|                null|         null|                null|         null|                null|         null|                null|         null|                null|         null|                null|         null|                null|         null|                null|         null|                null|         null|                null|         null|                null|         null|                 100|        15394|                 100|  48986254624|                 100|  98451109788|                null|         null|                null|         null|                null|         null|                null|         null|                null|         null|\n",
      "|2019-02-01|      ZJV02XWG|       ST12000NM0007|12000138625024|      0|                83|  191153960|              null|       null|                90|          0|               100|          7|               100|          0|                88|  699342445|              null|       null|                93|       6428|                100|           0|               null|        null|                100|           7|               null|        null|               null|        null|               null|        null|               null|        null|               null|        null|               null|        null|               null|        null|                null|         null|                null|         null|                null|         null|                null|         null|                null|         null|                null|         null|                null|         null|                null|         null|                null|         null|                null|         null|                 100|            0|                 100|            0|                null|         null|                  72|           28|                null|         null|                 100|           82|                 100|          697|                  28|           28|                  83|    191153960|                null|         null|                 100|            0|                 100|            0|                 200|            0|                 100|            0|                null|         null|                null|         null|                null|         null|                null|         null|                null|         null|                null|         null|                null|         null|                null|         null|                null|         null|                null|         null|                null|         null|                null|         null|                 100|         6253|                 100|  35839994872|                 100|  49556339180|                null|         null|                null|         null|                null|         null|                null|         null|                null|         null|\n",
      "|2019-02-01|      ZJV1CSVX|       ST12000NM0007|12000138625024|      0|                70|    9752736|              null|       null|                98|          0|               100|          2|               100|          0|                88|  657467901|              null|       null|                95|       4746|                100|           0|               null|        null|                100|           2|               null|        null|               null|        null|               null|        null|               null|        null|               null|        null|               null|        null|               null|        null|                null|         null|                null|         null|                null|         null|                null|         null|                null|         null|                null|         null|                null|         null|                null|         null|                null|         null|                null|         null|                 100|            0|                 100|            0|                null|         null|                  70|           30|                null|         null|                 100|           52|                 100|          321|                  30|           30|                  70|      9752736|                null|         null|                 100|            0|                 100|            0|                 200|            0|                 100|            0|                null|         null|                null|         null|                null|         null|                null|         null|                null|         null|                null|         null|                null|         null|                null|         null|                null|         null|                null|         null|                null|         null|                null|         null|                 100|         4683|                 100|  37930590824|                 100|  46796051950|                null|         null|                null|         null|                null|         null|                null|         null|                null|         null|\n",
      "|2019-02-01|      ZJV02XWA|       ST12000NM0007|12000138625024|      0|                81|  114053608|              null|       null|                97|          0|               100|          2|               100|          0|                89|  872400042|              null|       null|                93|       6436|                100|           0|               null|        null|                100|           2|               null|        null|               null|        null|               null|        null|               null|        null|               null|        null|               null|        null|               null|        null|                null|         null|                null|         null|                null|         null|                null|         null|                null|         null|                null|         null|                null|         null|                null|         null|                null|         null|                null|         null|                 100|            0|                 100|            0|                null|         null|                  78|           22|                null|         null|                 100|           58|                 100|          388|                  22|           22|                  81|    114053608|                null|         null|                 100|            0|                 100|            0|                 200|            0|                 100|            0|                null|         null|                null|         null|                null|         null|                null|         null|                null|         null|                null|         null|                null|         null|                null|         null|                null|         null|                null|         null|                null|         null|                null|         null|                 100|         6368|                 100|  43780940440|                 100|  61313666692|                null|         null|                null|         null|                null|         null|                null|         null|                null|         null|\n",
      "|2019-02-01|      ZA18CEBS|        ST8000NM0055| 8001563222016|      0|                83|  199312888|              null|       null|                97|          0|               100|          2|               100|          0|                95| 3032803610|              null|       null|                86|      12387|                100|           0|               null|        null|                100|           2|               null|        null|               null|        null|               null|        null|               null|        null|               null|        null|               null|        null|               null|        null|                null|         null|                null|         null|                null|         null|                null|         null|                null|         null|                null|         null|                null|         null|                null|         null|                null|         null|                 100|            0|                 100|            0|                 100|            0|                 100|            0|                  64|           36|                  93|        15978|                 100|            3|                  93|        15430|                  36|           36|                  83|    199312888|                null|         null|                 100|            0|                 100|            0|                 200|            0|                null|         null|                null|         null|                null|         null|                null|         null|                null|         null|                null|         null|                null|         null|                null|         null|                null|         null|                null|         null|                null|         null|                null|         null|                null|         null|                 100|        12361|                 100|  42503720024|                 100|  90300479980|                null|         null|                null|         null|                null|         null|                null|         null|                null|         null|\n",
      "|2019-02-01|      Z305DEMG|         ST4000DM000| 4000787030016|      0|               115|   90085552|              null|       null|                97|          0|               100|          3|               100|          0|                80|  107516021|              null|       null|                71|      25755|                100|           0|               null|        null|                100|           3|               null|        null|               null|        null|               null|        null|               null|        null|               null|        null|               null|        null|               null|        null|                null|         null|                null|         null|                null|         null|                null|         null|                null|         null|                null|         null|                null|         null|                null|         null|                 100|            0|                 100|            0|                 100|            0|                 100|            0|                 100|            0|                  74|           26|                 100|            0|                 100|            0|                  74|        52136|                  26|           26|                null|         null|                null|         null|                 100|            0|                 100|            0|                 200|            0|                null|         null|                null|         null|                null|         null|                null|         null|                null|         null|                null|         null|                null|         null|                null|         null|                null|         null|                null|         null|                null|         null|                null|         null|                null|         null|                 100|        25409|                 100|  40071576760|                 100| 111065609532|                null|         null|                null|         null|                null|         null|                null|         null|                null|         null|\n",
      "|2019-02-01|      ZA130TTW|         ST8000DM002| 8001563222016|      0|                80|  102423840|              null|       null|                96|          0|               100|          2|               100|          0|                89|  730352668|              null|       null|                77|      20506|                100|           0|               null|        null|                100|           2|               null|        null|               null|        null|               null|        null|               null|        null|               null|        null|               null|        null|               null|        null|                null|         null|                null|         null|                null|         null|                null|         null|                null|         null|                null|         null|                null|         null|                null|         null|                null|         null|                 100|            0|                 100|            0|                 100|            0|                 100|            0|                  71|           29|                  81|        38788|                 100|            0|                  91|        19279|                  29|           29|                   1|    102423840|                null|         null|                 100|            0|                 100|            0|                 200|            0|                null|         null|                null|         null|                null|         null|                null|         null|                null|         null|                null|         null|                null|         null|                null|         null|                null|         null|                null|         null|                null|         null|                null|         null|                null|         null|                 100|        20469|                 100|  59177243216|                 100| 108902178712|                null|         null|                null|         null|                null|         null|                null|         null|                null|         null|\n",
      "|2019-02-01|      ZJV1CSVV|       ST12000NM0007|12000138625024|      0|                83|  187096056|              null|       null|                99|          0|               100|          1|               100|          0|                82|  165806234|              null|       null|                99|       1404|                100|           0|               null|        null|                100|           1|               null|        null|               null|        null|               null|        null|               null|        null|               null|        null|               null|        null|               null|        null|                null|         null|                null|         null|                null|         null|                null|         null|                null|         null|                null|         null|                null|         null|                null|         null|                null|         null|                null|         null|                 100|            0|                 100|            0|                null|         null|                  69|           31|                null|         null|                 100|           20|                 100|          227|                  31|           31|                  83|    187096056|                null|         null|                 100|            0|                 100|            0|                 200|            0|                 100|            0|                null|         null|                null|         null|                null|         null|                null|         null|                null|         null|                null|         null|                null|         null|                null|         null|                null|         null|                null|         null|                null|         null|                null|         null|                 100|         1327|                 100|  15258092008|                 100|   9587247436|                null|         null|                null|         null|                null|         null|                null|         null|                null|         null|\n",
      "|2019-02-01|      ZA18CEBF|        ST8000NM0055| 8001563222016|      0|                83|  184313280|              null|       null|                96|          0|               100|          3|               100|          0|                95| 2998643787|              null|       null|                86|      12387|                100|           0|               null|        null|                100|           3|               null|        null|               null|        null|               null|        null|               null|        null|               null|        null|               null|        null|               null|        null|                null|         null|                null|         null|                null|         null|                null|         null|                null|         null|                null|         null|                null|         null|                null|         null|                null|         null|                 100|            0|                 100|            0|                 100|            0|                 100|            0|                  66|           34|                  98|         4901|                 100|            5|                  92|        16625|                  34|           34|                  83|    184313280|                null|         null|                 100|            0|                 100|            0|                 200|            0|                null|         null|                null|         null|                null|         null|                null|         null|                null|         null|                null|         null|                null|         null|                null|         null|                null|         null|                null|         null|                null|         null|                null|         null|                null|         null|                 100|        12362|                 100|  42646396832|                 100|  91224969016|                null|         null|                null|         null|                null|         null|                null|         null|                null|         null|\n",
      "|2019-02-01|      ZJV02XWV|       ST12000NM0007|12000138625024|      0|                82|  144485192|              null|       null|                98|          0|               100|          2|               100|          0|                89|  861475519|              null|       null|                93|       6414|                100|           0|               null|        null|                100|           2|               null|        null|               null|        null|               null|        null|               null|        null|               null|        null|               null|        null|               null|        null|                null|         null|                null|         null|                null|         null|                null|         null|                null|         null|                null|         null|                null|         null|                null|         null|                null|         null|                null|         null|                 100|            0|                 100|            0|                null|         null|                  75|           25|                null|         null|                 100|           57|                 100|          364|                  25|           25|                  82|    144485192|                null|         null|                 100|            0|                 100|            0|                 200|            0|                 100|            0|                null|         null|                null|         null|                null|         null|                null|         null|                null|         null|                null|         null|                null|         null|                null|         null|                null|         null|                null|         null|                null|         null|                null|         null|                 100|         6357|                 100|  43797912872|                 100|  59374011334|                null|         null|                null|         null|                null|         null|                null|         null|                null|         null|\n",
      "|2019-02-01|PL2331LAG9TEEJ|HGST HMS5C4040ALE640| 4000787030016|      0|               100|          0|               135|         98|               100|        449|               100|         11|               100|          0|               100|          0|               113|         42|                98|      17521|                100|           0|               null|        null|                100|          10|               null|        null|               null|        null|               null|        null|               null|        null|               null|        null|               null|        null|               null|        null|                null|         null|                null|         null|                null|         null|                null|         null|                null|         null|                null|         null|                null|         null|                null|         null|                null|         null|                null|         null|                null|         null|                null|         null|                null|         null|                null|         null|                null|         null|                 100|          154|                 100|          154|                 176|           34|                null|         null|                 100|            0|                 100|            0|                 100|            0|                 200|            0|                null|         null|                null|         null|                null|         null|                null|         null|                null|         null|                null|         null|                null|         null|                null|         null|                null|         null|                null|         null|                null|         null|                null|         null|                null|         null|                null|         null|                null|         null|                null|         null|                null|         null|                null|         null|                null|         null|                null|         null|                null|         null|\n",
      "|2019-02-01|PL2331LAH3WYAJ|HGST HMS5C4040BLE640| 4000787030016|      0|               100|          0|               133|        106|               100|          0|               100|          4|               100|          0|               100|          0|               113|         42|                98|      17159|                100|           0|               null|        null|                100|           4|               null|        null|               null|        null|               null|        null|               null|        null|               null|        null|               null|        null|               null|        null|                null|         null|                null|         null|                null|         null|                null|         null|                null|         null|                null|         null|                null|         null|                null|         null|                null|         null|                null|         null|                null|         null|                null|         null|                null|         null|                null|         null|                null|         null|                 100|          165|                 100|          165|                 200|           30|                null|         null|                 100|            0|                 100|            0|                 100|            0|                 200|            0|                null|         null|                null|         null|                null|         null|                null|         null|                null|         null|                null|         null|                null|         null|                null|         null|                null|         null|                null|         null|                null|         null|                null|         null|                null|         null|                null|         null|                null|         null|                null|         null|                null|         null|                null|         null|                null|         null|                null|         null|                null|         null|\n",
      "|2019-02-01|      Z3023VGH|         ST4000DM000| 4000787030016|      0|               114|   78127712|              null|       null|                92|          0|               100|         15|               100|          0|                83|  206277813|              null|       null|                57|      37681|                100|           0|               null|        null|                100|          15|               null|        null|               null|        null|               null|        null|               null|        null|               null|        null|               null|        null|               null|        null|                null|         null|                null|         null|                null|         null|                null|         null|                null|         null|                null|         null|                null|         null|                null|         null|                 100|            0|                 100|            0|                 100|            0|                 100|            0|                 100|            0|                  72|           28|                 100|            0|                 100|            1|                  76|        48537|                  28|           28|                null|         null|                null|         null|                 100|            0|                 100|            0|                 200|            0|                null|         null|                null|         null|                null|         null|                null|         null|                null|         null|                null|         null|                null|         null|                null|         null|                null|         null|                null|         null|                null|         null|                null|         null|                null|         null|                 100|        37454|                 100|  23642851072|                 100| 186203247151|                null|         null|                null|         null|                null|         null|                null|         null|                null|         null|\n",
      "|2019-02-01|PL1331LAHG53YH|HGST HMS5C4040BLE640| 4000787030016|      0|               100|          0|               133|        104|               100|        440|               100|          6|               100|          0|               100|          0|               113|         42|                98|      17133|                100|           0|               null|        null|                100|           6|               null|        null|               null|        null|               null|        null|               null|        null|               null|        null|               null|        null|               null|        null|                null|         null|                null|         null|                null|         null|                null|         null|                null|         null|                null|         null|                null|         null|                null|         null|                null|         null|                null|         null|                null|         null|                null|         null|                null|         null|                null|         null|                null|         null|                 100|          142|                 100|          142|                 176|           34|                null|         null|                 100|            0|                 100|            0|                 100|            0|                 200|            0|                null|         null|                null|         null|                null|         null|                null|         null|                null|         null|                null|         null|                null|         null|                null|         null|                null|         null|                null|         null|                null|         null|                null|         null|                null|         null|                null|         null|                null|         null|                null|         null|                null|         null|                null|         null|                null|         null|                null|         null|                null|         null|\n",
      "|2019-02-01|  88Q0A0LGF97G| TOSHIBA MG07ACA14TA|14000519643136|      0|               100|          0|               100|          0|               100|       7795|               100|          2|               100|          0|               100|          0|               100|          0|                93|       2908|                100|           0|               null|        null|                100|           2|               null|        null|               null|        null|               null|        null|               null|        null|               null|        null|                100|           0|                100|           0|                null|         null|                null|         null|                null|         null|                null|         null|                null|         null|                null|         null|                null|         null|                null|         null|                null|         null|                null|         null|                null|         null|                null|         null|                null|         null|                null|         null|                 100|            0|                 100|            0|                 100|           37|                 100|           22|                null|         null|                 100|            0|                 100|            0|                 100|            0|                 200|            0|                null|         null|                null|         null|                null|         null|                 100|      2097154|                  93|         2894|                 100|            0|                 100|            0|                null|         null|                 100|          587|                null|         null|                null|         null|                null|         null|                null|         null|                 100|            0|                null|         null|                null|         null|                null|         null|                null|         null|                null|         null|                null|         null|                null|         null|\n",
      "+----------+--------------+--------------------+--------------+-------+------------------+-----------+------------------+-----------+------------------+-----------+------------------+-----------+------------------+-----------+------------------+-----------+------------------+-----------+------------------+-----------+-------------------+------------+-------------------+------------+-------------------+------------+-------------------+------------+-------------------+------------+-------------------+------------+-------------------+------------+-------------------+------------+-------------------+------------+-------------------+------------+--------------------+-------------+--------------------+-------------+--------------------+-------------+--------------------+-------------+--------------------+-------------+--------------------+-------------+--------------------+-------------+--------------------+-------------+--------------------+-------------+--------------------+-------------+--------------------+-------------+--------------------+-------------+--------------------+-------------+--------------------+-------------+--------------------+-------------+--------------------+-------------+--------------------+-------------+--------------------+-------------+--------------------+-------------+--------------------+-------------+--------------------+-------------+--------------------+-------------+--------------------+-------------+--------------------+-------------+--------------------+-------------+--------------------+-------------+--------------------+-------------+--------------------+-------------+--------------------+-------------+--------------------+-------------+--------------------+-------------+--------------------+-------------+--------------------+-------------+--------------------+-------------+--------------------+-------------+--------------------+-------------+--------------------+-------------+--------------------+-------------+--------------------+-------------+--------------------+-------------+--------------------+-------------+--------------------+-------------+--------------------+-------------+--------------------+-------------+\n",
      "only showing top 20 rows\n",
      "\n"
     ]
    }
   ],
   "source": [
    "feb.show()"
   ]
  },
  {
   "cell_type": "code",
   "execution_count": 9,
   "id": "8df136a2",
   "metadata": {},
   "outputs": [],
   "source": [
    "paths = [prefix + '2019-03-01.csv',\n",
    "prefix + '2019-03-02.csv',\n",
    "prefix + '2019-03-03.csv',\n",
    "prefix + '2019-03-04.csv',\n",
    "prefix + '2019-03-05.csv',\n",
    "prefix + '2019-03-06.csv',\n",
    "prefix + '2019-03-07.csv',\n",
    "prefix + '2019-03-08.csv',\n",
    "prefix + '2019-03-09.csv',\n",
    "prefix + '2019-03-10.csv',\n",
    "prefix + '2019-03-11.csv',\n",
    "prefix + '2019-03-12.csv',\n",
    "prefix + '2019-03-13.csv',\n",
    "prefix + '2019-03-14.csv',\n",
    "prefix + '2019-03-15.csv',\n",
    "prefix + '2019-03-16.csv',\n",
    "prefix + '2019-03-17.csv',\n",
    "prefix + '2019-03-18.csv',\n",
    "prefix + '2019-03-19.csv',\n",
    "prefix + '2019-03-20.csv',\n",
    "prefix + '2019-03-21.csv',\n",
    "prefix + '2019-03-22.csv',\n",
    "prefix + '2019-03-23.csv',\n",
    "prefix + '2019-03-24.csv',\n",
    "prefix + '2019-03-25.csv',\n",
    "prefix + '2019-03-26.csv',\n",
    "prefix + '2019-03-27.csv',\n",
    "prefix + '2019-03-28.csv',\n",
    "prefix + '2019-03-29.csv',\n",
    "prefix + '2019-03-30.csv',\n",
    "prefix + '2019-03-31.csv']"
   ]
  },
  {
   "cell_type": "code",
   "execution_count": 10,
   "id": "02796960",
   "metadata": {},
   "outputs": [
    {
     "data": {
      "text/plain": [
       "3316092"
      ]
     },
     "execution_count": 10,
     "metadata": {},
     "output_type": "execute_result"
    }
   ],
   "source": [
    "mar = spark.read.csv(paths, header='true')\n",
    "mar.createOrReplaceTempView(\"mar\")\n",
    "mar.count()"
   ]
  },
  {
   "cell_type": "code",
   "execution_count": 11,
   "id": "1b032c8e",
   "metadata": {},
   "outputs": [
    {
     "name": "stdout",
     "output_type": "stream",
     "text": [
      "+----------+--------------+--------------------+--------------+-------+------------------+-----------+------------------+-----------+------------------+-----------+------------------+-----------+------------------+-----------+------------------+-----------+------------------+-----------+------------------+-----------+-------------------+------------+-------------------+------------+-------------------+------------+-------------------+------------+-------------------+------------+-------------------+------------+-------------------+------------+-------------------+------------+-------------------+------------+-------------------+------------+--------------------+-------------+--------------------+-------------+--------------------+-------------+--------------------+-------------+--------------------+-------------+--------------------+-------------+--------------------+-------------+--------------------+-------------+--------------------+-------------+--------------------+-------------+--------------------+-------------+--------------------+-------------+--------------------+-------------+--------------------+-------------+--------------------+-------------+--------------------+-------------+--------------------+-------------+--------------------+-------------+--------------------+-------------+--------------------+-------------+--------------------+-------------+--------------------+-------------+--------------------+-------------+--------------------+-------------+--------------------+-------------+--------------------+-------------+--------------------+-------------+--------------------+-------------+--------------------+-------------+--------------------+-------------+--------------------+-------------+--------------------+-------------+--------------------+-------------+--------------------+-------------+--------------------+-------------+--------------------+-------------+--------------------+-------------+--------------------+-------------+--------------------+-------------+--------------------+-------------+--------------------+-------------+--------------------+-------------+--------------------+-------------+--------------------+-------------+\n",
      "|      date| serial_number|               model|capacity_bytes|failure|smart_1_normalized|smart_1_raw|smart_2_normalized|smart_2_raw|smart_3_normalized|smart_3_raw|smart_4_normalized|smart_4_raw|smart_5_normalized|smart_5_raw|smart_7_normalized|smart_7_raw|smart_8_normalized|smart_8_raw|smart_9_normalized|smart_9_raw|smart_10_normalized|smart_10_raw|smart_11_normalized|smart_11_raw|smart_12_normalized|smart_12_raw|smart_13_normalized|smart_13_raw|smart_15_normalized|smart_15_raw|smart_16_normalized|smart_16_raw|smart_17_normalized|smart_17_raw|smart_22_normalized|smart_22_raw|smart_23_normalized|smart_23_raw|smart_24_normalized|smart_24_raw|smart_168_normalized|smart_168_raw|smart_170_normalized|smart_170_raw|smart_173_normalized|smart_173_raw|smart_174_normalized|smart_174_raw|smart_177_normalized|smart_177_raw|smart_179_normalized|smart_179_raw|smart_181_normalized|smart_181_raw|smart_182_normalized|smart_182_raw|smart_183_normalized|smart_183_raw|smart_184_normalized|smart_184_raw|smart_187_normalized|smart_187_raw|smart_188_normalized|smart_188_raw|smart_189_normalized|smart_189_raw|smart_190_normalized|smart_190_raw|smart_191_normalized|smart_191_raw|smart_192_normalized|smart_192_raw|smart_193_normalized|smart_193_raw|smart_194_normalized|smart_194_raw|smart_195_normalized|smart_195_raw|smart_196_normalized|smart_196_raw|smart_197_normalized|smart_197_raw|smart_198_normalized|smart_198_raw|smart_199_normalized|smart_199_raw|smart_200_normalized|smart_200_raw|smart_201_normalized|smart_201_raw|smart_218_normalized|smart_218_raw|smart_220_normalized|smart_220_raw|smart_222_normalized|smart_222_raw|smart_223_normalized|smart_223_raw|smart_224_normalized|smart_224_raw|smart_225_normalized|smart_225_raw|smart_226_normalized|smart_226_raw|smart_231_normalized|smart_231_raw|smart_232_normalized|smart_232_raw|smart_233_normalized|smart_233_raw|smart_235_normalized|smart_235_raw|smart_240_normalized|smart_240_raw|smart_241_normalized|smart_241_raw|smart_242_normalized|smart_242_raw|smart_250_normalized|smart_250_raw|smart_251_normalized|smart_251_raw|smart_252_normalized|smart_252_raw|smart_254_normalized|smart_254_raw|smart_255_normalized|smart_255_raw|\n",
      "+----------+--------------+--------------------+--------------+-------+------------------+-----------+------------------+-----------+------------------+-----------+------------------+-----------+------------------+-----------+------------------+-----------+------------------+-----------+------------------+-----------+-------------------+------------+-------------------+------------+-------------------+------------+-------------------+------------+-------------------+------------+-------------------+------------+-------------------+------------+-------------------+------------+-------------------+------------+-------------------+------------+--------------------+-------------+--------------------+-------------+--------------------+-------------+--------------------+-------------+--------------------+-------------+--------------------+-------------+--------------------+-------------+--------------------+-------------+--------------------+-------------+--------------------+-------------+--------------------+-------------+--------------------+-------------+--------------------+-------------+--------------------+-------------+--------------------+-------------+--------------------+-------------+--------------------+-------------+--------------------+-------------+--------------------+-------------+--------------------+-------------+--------------------+-------------+--------------------+-------------+--------------------+-------------+--------------------+-------------+--------------------+-------------+--------------------+-------------+--------------------+-------------+--------------------+-------------+--------------------+-------------+--------------------+-------------+--------------------+-------------+--------------------+-------------+--------------------+-------------+--------------------+-------------+--------------------+-------------+--------------------+-------------+--------------------+-------------+--------------------+-------------+--------------------+-------------+--------------------+-------------+--------------------+-------------+--------------------+-------------+--------------------+-------------+--------------------+-------------+\n",
      "|2019-03-05|      Z305B2QN|         ST4000DM000| 4000787030016|      0|               117|  166138696|              null|       null|                91|          0|               100|         12|               100|          0|                85|  374504040|              null|       null|                68|      28210|                100|           0|               null|        null|                100|          12|               null|        null|               null|        null|               null|        null|               null|        null|               null|        null|               null|        null|               null|        null|                null|         null|                null|         null|                null|         null|                null|         null|                null|         null|                null|         null|                null|         null|                null|         null|                 100|            0|                 100|            0|                 100|            0|                 100|            0|                 100|            0|                  79|           21|                 100|            0|                 100|            0|                  83|        34169|                  21|           21|                null|         null|                null|         null|                 100|            0|                 100|            0|                 200|            0|                null|         null|                null|         null|                null|         null|                null|         null|                null|         null|                null|         null|                null|         null|                null|         null|                null|         null|                null|         null|                null|         null|                null|         null|                null|         null|                 100|        27958|                 100|  46679245872|                 100| 126633298532|                null|         null|                null|         null|                null|         null|                null|         null|                null|         null|\n",
      "|2019-03-05|      ZJV0XJQ4|       ST12000NM0007|12000138625024|      0|                80|   99748000|              null|       null|                98|          0|               100|          2|               100|          0|                88|  632611962|              null|       null|                94|       5256|                100|           0|               null|        null|                100|           2|               null|        null|               null|        null|               null|        null|               null|        null|               null|        null|               null|        null|               null|        null|                null|         null|                null|         null|                null|         null|                null|         null|                null|         null|                null|         null|                null|         null|                null|         null|                null|         null|                null|         null|                 100|            0|                 100|            0|                null|         null|                  71|           29|                null|         null|                 100|           61|                  99|         2209|                  29|           29|                  80|     99748000|                null|         null|                 100|            0|                 100|            0|                 200|            0|                 100|            0|                null|         null|                null|         null|                null|         null|                null|         null|                null|         null|                null|         null|                null|         null|                null|         null|                null|         null|                null|         null|                null|         null|                null|         null|                 100|         4516|                 100|  35287679872|                 100|  51482097080|                null|         null|                null|         null|                null|         null|                null|         null|                null|         null|\n",
      "|2019-03-05|      ZJV0XJQ3|       ST12000NM0007|12000138625024|      0|                83|  180239600|              null|       null|                99|          0|               100|          1|               100|          0|                83|  195497158|              null|       null|                98|       2303|                100|           0|               null|        null|                100|           1|               null|        null|               null|        null|               null|        null|               null|        null|               null|        null|               null|        null|               null|        null|                null|         null|                null|         null|                null|         null|                null|         null|                null|         null|                null|         null|                null|         null|                null|         null|                null|         null|                null|         null|                 100|            0|                 100|            0|                null|         null|                  65|           35|                null|         null|                 100|           26|                 100|         1394|                  35|           35|                  83|    180239600|                null|         null|                 100|            0|                 100|            0|                 200|            0|                 100|            0|                null|         null|                null|         null|                null|         null|                null|         null|                null|         null|                null|         null|                null|         null|                null|         null|                null|         null|                null|         null|                null|         null|                null|         null|                 100|         2027|                 100|  22250828840|                 100|   3075966074|                null|         null|                null|         null|                null|         null|                null|         null|                null|         null|\n",
      "|2019-03-05|      ZJV0XJQ0|       ST12000NM0007|12000138625024|      0|                81|  112931984|              null|       null|                93|          0|               100|          6|               100|          0|                89|  741763013|              null|       null|                94|       5856|                100|           0|               null|        null|                100|           6|               null|        null|               null|        null|               null|        null|               null|        null|               null|        null|               null|        null|               null|        null|                null|         null|                null|         null|                null|         null|                null|         null|                null|         null|                null|         null|                null|         null|                null|         null|                null|         null|                null|         null|                 100|            0|                 100|            0|                null|         null|                  77|           23|                null|         null|                 100|           57|                 100|          750|                  23|           23|                  81|    112931984|                null|         null|                 100|            0|                 100|            0|                 200|            0|                 100|            0|                null|         null|                null|         null|                null|         null|                null|         null|                null|         null|                null|         null|                null|         null|                null|         null|                null|         null|                null|         null|                null|         null|                null|         null|                 100|         5659|                 100|  38863346144|                 100|  50361007264|                null|         null|                null|         null|                null|         null|                null|         null|                null|         null|\n",
      "|2019-03-05|PL1331LAHG1S4H|HGST HMS5C4040ALE640| 4000787030016|      0|               100|          0|               134|        103|               100|        436|               100|          9|               100|          0|               100|          0|               113|         42|                98|      18286|                100|           0|               null|        null|                100|           9|               null|        null|               null|        null|               null|        null|               null|        null|               null|        null|               null|        null|               null|        null|                null|         null|                null|         null|                null|         null|                null|         null|                null|         null|                null|         null|                null|         null|                null|         null|                null|         null|                null|         null|                null|         null|                null|         null|                null|         null|                null|         null|                null|         null|                 100|          239|                 100|          239|                 187|           32|                null|         null|                 100|            0|                 100|            0|                 100|            0|                 200|            0|                null|         null|                null|         null|                null|         null|                null|         null|                null|         null|                null|         null|                null|         null|                null|         null|                null|         null|                null|         null|                null|         null|                null|         null|                null|         null|                null|         null|                null|         null|                null|         null|                null|         null|                null|         null|                null|         null|                null|         null|                null|         null|\n",
      "|2019-03-05|      ZA16NQJR|        ST8000NM0055| 8001563222016|      0|                75|   32019944|              null|       null|                92|          0|               100|          6|               100|          0|                79|   82132915|              null|       null|                82|      16176|                100|           0|               null|        null|                100|           6|               null|        null|               null|        null|               null|        null|               null|        null|               null|        null|               null|        null|               null|        null|                null|         null|                null|         null|                null|         null|                null|         null|                null|         null|                null|         null|                null|         null|                null|         null|                null|         null|                 100|            0|                 100|            0|                 100|            0|                 100|            0|                  65|           35|                  97|         6860|                 100|           14|                  92|        17629|                  35|           35|                  75|     32019944|                null|         null|                 100|            0|                 100|            0|                 200|            0|                null|         null|                null|         null|                null|         null|                null|         null|                null|         null|                null|         null|                null|         null|                null|         null|                null|         null|                null|         null|                null|         null|                null|         null|                null|         null|                 100|        16154|                 100|  50235556456|                 100| 102952386980|                null|         null|                null|         null|                null|         null|                null|         null|                null|         null|\n",
      "|2019-03-05|      ZJV02XWG|       ST12000NM0007|12000138625024|      0|                83|  188134656|              null|       null|                89|          0|               100|          8|               100|          0|                89|  779268491|              null|       null|                92|       7191|                100|           0|               null|        null|                100|           8|               null|        null|               null|        null|               null|        null|               null|        null|               null|        null|               null|        null|               null|        null|                null|         null|                null|         null|                null|         null|                null|         null|                null|         null|                null|         null|                null|         null|                null|         null|                null|         null|                null|         null|                 100|            0|                 100|            0|                null|         null|                  75|           25|                null|         null|                 100|           96|                 100|          743|                  25|           25|                  83|    188134656|                null|         null|                 100|            0|                 100|            0|                 200|            0|                 100|            0|                null|         null|                null|         null|                null|         null|                null|         null|                null|         null|                null|         null|                null|         null|                null|         null|                null|         null|                null|         null|                null|         null|                null|         null|                 100|         7011|                 100|  37767048360|                 100|  53485645272|                null|         null|                null|         null|                null|         null|                null|         null|                null|         null|\n",
      "|2019-03-05|      ZJV1CSVX|       ST12000NM0007|12000138625024|      0|                83|  213801560|              null|       null|                98|          0|               100|          2|               100|          0|                89|  752172999|              null|       null|                94|       5522|                100|           0|               null|        null|                100|           2|               null|        null|               null|        null|               null|        null|               null|        null|               null|        null|               null|        null|               null|        null|                null|         null|                null|         null|                null|         null|                null|         null|                null|         null|                null|         null|                null|         null|                null|         null|                null|         null|                null|         null|                 100|            0|                 100|            0|                null|         null|                  71|           29|                null|         null|                 100|           66|                 100|          353|                  29|           29|                  83|    213801560|                null|         null|                 100|            0|                 100|            0|                 200|            0|                 100|            0|                null|         null|                null|         null|                null|         null|                null|         null|                null|         null|                null|         null|                null|         null|                null|         null|                null|         null|                null|         null|                null|         null|                null|         null|                 100|         5455|                 100|  40231433280|                 100|  52755904318|                null|         null|                null|         null|                null|         null|                null|         null|                null|         null|\n",
      "|2019-03-05|      ZJV02XWA|       ST12000NM0007|12000138625024|      0|                78|   67806648|              null|       null|                97|          0|               100|          2|               100|          0|                90|  957592874|              null|       null|                92|       7196|                100|           0|               null|        null|                100|           2|               null|        null|               null|        null|               null|        null|               null|        null|               null|        null|               null|        null|               null|        null|                null|         null|                null|         null|                null|         null|                null|         null|                null|         null|                null|         null|                null|         null|                null|         null|                null|         null|                null|         null|                 100|            0|                 100|            0|                null|         null|                  78|           22|                null|         null|                 100|           71|                 100|          419|                  22|           22|                  78|     67806648|                null|         null|                 100|            0|                 100|            0|                 200|            0|                 100|            0|                null|         null|                null|         null|                null|         null|                null|         null|                null|         null|                null|         null|                null|         null|                null|         null|                null|         null|                null|         null|                null|         null|                null|         null|                 100|         7125|                 100|  45940939496|                 100|  65943361812|                null|         null|                null|         null|                null|         null|                null|         null|                null|         null|\n",
      "|2019-03-05|      ZA18CEBS|        ST8000NM0055| 8001563222016|      0|                77|   54014832|              null|       null|                97|          0|               100|          2|               100|          0|                95| 3295450575|              null|       null|                85|      13147|                100|           0|               null|        null|                100|           2|               null|        null|               null|        null|               null|        null|               null|        null|               null|        null|               null|        null|               null|        null|                null|         null|                null|         null|                null|         null|                null|         null|                null|         null|                null|         null|                null|         null|                null|         null|                null|         null|                 100|            0|                 100|            0|                 100|            0|                 100|            0|                  63|           37|                  92|        16899|                 100|            3|                  92|        16627|                  37|           37|                  77|     54014832|                null|         null|                 100|            0|                 100|            0|                 200|            0|                null|         null|                null|         null|                null|         null|                null|         null|                null|         null|                null|         null|                null|         null|                null|         null|                null|         null|                null|         null|                null|         null|                null|         null|                null|         null|                 100|        13121|                 100|  43737257000|                 100|  94557964460|                null|         null|                null|         null|                null|         null|                null|         null|                null|         null|\n",
      "|2019-03-05|      Z305DEMG|         ST4000DM000| 4000787030016|      0|               117|  120350976|              null|       null|                97|          0|               100|          3|               100|          0|                81|  143678187|              null|       null|                70|      26516|                100|           0|               null|        null|                100|           3|               null|        null|               null|        null|               null|        null|               null|        null|               null|        null|               null|        null|               null|        null|                null|         null|                null|         null|                null|         null|                null|         null|                null|         null|                null|         null|                null|         null|                null|         null|                 100|            0|                 100|            0|                 100|            0|                 100|            0|                 100|            0|                  76|           24|                 100|            0|                 100|            0|                  74|        52136|                  24|           24|                null|         null|                null|         null|                 100|            0|                 100|            0|                 200|            0|                null|         null|                null|         null|                null|         null|                null|         null|                null|         null|                null|         null|                null|         null|                null|         null|                null|         null|                null|         null|                null|         null|                null|         null|                null|         null|                 100|        26171|                 100|  40680334096|                 100| 114449869582|                null|         null|                null|         null|                null|         null|                null|         null|                null|         null|\n",
      "|2019-03-05|      ZA130TTW|         ST8000DM002| 8001563222016|      0|                81|  116287528|              null|       null|                96|          0|               100|          2|               100|          0|                90|  981753771|              null|       null|                76|      21267|                100|           0|               null|        null|                100|           2|               null|        null|               null|        null|               null|        null|               null|        null|               null|        null|               null|        null|               null|        null|                null|         null|                null|         null|                null|         null|                null|         null|                null|         null|                null|         null|                null|         null|                null|         null|                null|         null|                 100|            0|                 100|            0|                 100|            0|                 100|            0|                  69|           31|                  81|        39075|                 100|            0|                  90|        20151|                  31|           31|                   1|    116287528|                null|         null|                 100|            0|                 100|            0|                 200|            0|                null|         null|                null|         null|                null|         null|                null|         null|                null|         null|                null|         null|                null|         null|                null|         null|                null|         null|                null|         null|                null|         null|                null|         null|                null|         null|                 100|        21230|                 100|  60297625632|                 100| 112948137240|                null|         null|                null|         null|                null|         null|                null|         null|                null|         null|\n",
      "|2019-03-05|      ZJV1CSVV|       ST12000NM0007|12000138625024|      0|                74|   27952048|              null|       null|                98|          0|               100|          2|               100|          0|                85|  290895812|              null|       null|                98|       2180|                100|           0|               null|        null|                100|           2|               null|        null|               null|        null|               null|        null|               null|        null|               null|        null|               null|        null|               null|        null|                null|         null|                null|         null|                null|         null|                null|         null|                null|         null|                null|         null|                null|         null|                null|         null|                null|         null|                null|         null|                 100|            0|                 100|            0|                null|         null|                  69|           31|                null|         null|                 100|           28|                 100|          260|                  31|           31|                  74|     27952048|                null|         null|                 100|            0|                 100|            0|                 200|            0|                 100|            0|                null|         null|                null|         null|                null|         null|                null|         null|                null|         null|                null|         null|                null|         null|                null|         null|                null|         null|                null|         null|                null|         null|                null|         null|                 100|         2100|                 100|  23622491688|                 100|  16932859118|                null|         null|                null|         null|                null|         null|                null|         null|                null|         null|\n",
      "|2019-03-05|      ZA18CEBF|        ST8000NM0055| 8001563222016|      0|                80|   96376800|              null|       null|                95|          0|               100|          4|               100|          0|                95| 3264427412|              null|       null|                85|      13164|                100|           0|               null|        null|                100|           4|               null|        null|               null|        null|               null|        null|               null|        null|               null|        null|               null|        null|               null|        null|                null|         null|                null|         null|                null|         null|                null|         null|                null|         null|                null|         null|                null|         null|                null|         null|                null|         null|                 100|            0|                 100|            0|                 100|            0|                 100|            0|                  66|           34|                  98|         5132|                 100|            5|                  92|        17580|                  34|           34|                  80|     96376800|                null|         null|                 100|            0|                 100|            0|                 200|            0|                null|         null|                null|         null|                null|         null|                null|         null|                null|         null|                null|         null|                null|         null|                null|         null|                null|         null|                null|         null|                null|         null|                null|         null|                null|         null|                 100|        13139|                 100|  43878162472|                 100|  96273966018|                null|         null|                null|         null|                null|         null|                null|         null|                null|         null|\n",
      "|2019-03-05|      ZJV02XWV|       ST12000NM0007|12000138625024|      0|                78|   58847696|              null|       null|                98|          0|               100|          2|               100|          0|                90|  949918232|              null|       null|                92|       7174|                100|           0|               null|        null|                100|           2|               null|        null|               null|        null|               null|        null|               null|        null|               null|        null|               null|        null|               null|        null|                null|         null|                null|         null|                null|         null|                null|         null|                null|         null|                null|         null|                null|         null|                null|         null|                null|         null|                null|         null|                 100|            0|                 100|            0|                null|         null|                  75|           25|                null|         null|                 100|           74|                 100|          395|                  25|           25|                  78|     58847696|                null|         null|                 100|            0|                 100|            0|                 200|            0|                 100|            0|                null|         null|                null|         null|                null|         null|                null|         null|                null|         null|                null|         null|                null|         null|                null|         null|                null|         null|                null|         null|                null|         null|                null|         null|                 100|         7113|                 100|  46051659448|                 100|  65335413902|                null|         null|                null|         null|                null|         null|                null|         null|                null|         null|\n",
      "|2019-03-05|PL2331LAG9TEEJ|HGST HMS5C4040ALE640| 4000787030016|      0|               100|          0|               135|         98|               100|        449|               100|         11|               100|          0|               100|          0|               113|         42|                98|      18293|                100|           0|               null|        null|                100|          10|               null|        null|               null|        null|               null|        null|               null|        null|               null|        null|               null|        null|               null|        null|                null|         null|                null|         null|                null|         null|                null|         null|                null|         null|                null|         null|                null|         null|                null|         null|                null|         null|                null|         null|                null|         null|                null|         null|                null|         null|                null|         null|                null|         null|                 100|          160|                 100|          160|                 176|           34|                null|         null|                 100|            0|                 100|            0|                 100|            0|                 200|            0|                null|         null|                null|         null|                null|         null|                null|         null|                null|         null|                null|         null|                null|         null|                null|         null|                null|         null|                null|         null|                null|         null|                null|         null|                null|         null|                null|         null|                null|         null|                null|         null|                null|         null|                null|         null|                null|         null|                null|         null|                null|         null|\n",
      "|2019-03-05|PL2331LAH3WYAJ|HGST HMS5C4040BLE640| 4000787030016|      0|               100|          0|               133|        106|               100|          0|               100|          4|               100|          0|               100|          0|               113|         42|                98|      17922|                100|           0|               null|        null|                100|           4|               null|        null|               null|        null|               null|        null|               null|        null|               null|        null|               null|        null|               null|        null|                null|         null|                null|         null|                null|         null|                null|         null|                null|         null|                null|         null|                null|         null|                null|         null|                null|         null|                null|         null|                null|         null|                null|         null|                null|         null|                null|         null|                null|         null|                 100|          192|                 100|          192|                 193|           31|                null|         null|                 100|            0|                 100|            0|                 100|            0|                 200|            0|                null|         null|                null|         null|                null|         null|                null|         null|                null|         null|                null|         null|                null|         null|                null|         null|                null|         null|                null|         null|                null|         null|                null|         null|                null|         null|                null|         null|                null|         null|                null|         null|                null|         null|                null|         null|                null|         null|                null|         null|                null|         null|\n",
      "|2019-03-05|PL1331LAHG53YH|HGST HMS5C4040BLE640| 4000787030016|      0|               100|          0|               133|        104|               100|        440|               100|          7|               100|          0|               100|          0|               113|         42|                98|      17907|                100|           0|               null|        null|                100|           7|               null|        null|               null|        null|               null|        null|               null|        null|               null|        null|               null|        null|               null|        null|                null|         null|                null|         null|                null|         null|                null|         null|                null|         null|                null|         null|                null|         null|                null|         null|                null|         null|                null|         null|                null|         null|                null|         null|                null|         null|                null|         null|                null|         null|                 100|          171|                 100|          171|                 176|           34|                null|         null|                 100|            0|                 100|            0|                 100|            0|                 200|            0|                null|         null|                null|         null|                null|         null|                null|         null|                null|         null|                null|         null|                null|         null|                null|         null|                null|         null|                null|         null|                null|         null|                null|         null|                null|         null|                null|         null|                null|         null|                null|         null|                null|         null|                null|         null|                null|         null|                null|         null|                null|         null|\n",
      "|2019-03-05|  88Q0A0LGF97G| TOSHIBA MG07ACA14TA|14000519643136|      0|               100|          0|               100|          0|               100|       7795|               100|          2|               100|          0|               100|          0|               100|          0|                91|       3668|                100|           0|               null|        null|                100|           2|               null|        null|               null|        null|               null|        null|               null|        null|               null|        null|                100|           0|                100|           0|                null|         null|                null|         null|                null|         null|                null|         null|                null|         null|                null|         null|                null|         null|                null|         null|                null|         null|                null|         null|                null|         null|                null|         null|                null|         null|                null|         null|                 100|            0|                 100|            0|                 100|           37|                 100|           24|                null|         null|                 100|            0|                 100|            0|                 100|            0|                 200|            0|                null|         null|                null|         null|                null|         null|                 100|     19005442|                  91|         3654|                 100|            0|                 100|            0|                null|         null|                 100|          587|                null|         null|                null|         null|                null|         null|                null|         null|                 100|            0|                null|         null|                null|         null|                null|         null|                null|         null|                null|         null|                null|         null|                null|         null|\n",
      "|2019-03-05|PL2331LAHDUVVJ|HGST HMS5C4040BLE640| 4000787030016|      0|               100|          0|               134|        100|               100|          0|               100|          4|               100|          0|               100|          0|               113|         42|                97|      25119|                100|           0|               null|        null|                100|           4|               null|        null|               null|        null|               null|        null|               null|        null|               null|        null|               null|        null|               null|        null|                null|         null|                null|         null|                null|         null|                null|         null|                null|         null|                null|         null|                null|         null|                null|         null|                null|         null|                null|         null|                null|         null|                null|         null|                null|         null|                null|         null|                null|         null|                 100|          185|                 100|          185|                 214|           28|                null|         null|                 100|            0|                 100|            0|                 100|            0|                 200|            0|                null|         null|                null|         null|                null|         null|                null|         null|                null|         null|                null|         null|                null|         null|                null|         null|                null|         null|                null|         null|                null|         null|                null|         null|                null|         null|                null|         null|                null|         null|                null|         null|                null|         null|                null|         null|                null|         null|                null|         null|                null|         null|\n",
      "+----------+--------------+--------------------+--------------+-------+------------------+-----------+------------------+-----------+------------------+-----------+------------------+-----------+------------------+-----------+------------------+-----------+------------------+-----------+------------------+-----------+-------------------+------------+-------------------+------------+-------------------+------------+-------------------+------------+-------------------+------------+-------------------+------------+-------------------+------------+-------------------+------------+-------------------+------------+-------------------+------------+--------------------+-------------+--------------------+-------------+--------------------+-------------+--------------------+-------------+--------------------+-------------+--------------------+-------------+--------------------+-------------+--------------------+-------------+--------------------+-------------+--------------------+-------------+--------------------+-------------+--------------------+-------------+--------------------+-------------+--------------------+-------------+--------------------+-------------+--------------------+-------------+--------------------+-------------+--------------------+-------------+--------------------+-------------+--------------------+-------------+--------------------+-------------+--------------------+-------------+--------------------+-------------+--------------------+-------------+--------------------+-------------+--------------------+-------------+--------------------+-------------+--------------------+-------------+--------------------+-------------+--------------------+-------------+--------------------+-------------+--------------------+-------------+--------------------+-------------+--------------------+-------------+--------------------+-------------+--------------------+-------------+--------------------+-------------+--------------------+-------------+--------------------+-------------+--------------------+-------------+--------------------+-------------+--------------------+-------------+--------------------+-------------+--------------------+-------------+\n",
      "only showing top 20 rows\n",
      "\n"
     ]
    }
   ],
   "source": [
    "mar.show()"
   ]
  },
  {
   "cell_type": "markdown",
   "id": "6e03a756",
   "metadata": {},
   "source": [
    "Hard drives active during each month (I did two of these, one by model and one by serial number, the on below is by model)"
   ]
  },
  {
   "cell_type": "code",
   "execution_count": 12,
   "id": "b1cb6d4c",
   "metadata": {},
   "outputs": [
    {
     "data": {
      "text/plain": [
       "32"
      ]
     },
     "execution_count": 12,
     "metadata": {},
     "output_type": "execute_result"
    }
   ],
   "source": [
    "query = \"SELECT DISTINCT model FROM jan WHERE model NOT IN (SELECT DISTINCT model FROM jan WHERE failure = 1)\"\n",
    "jan1 = spark.sql(query)\n",
    "jan1.count()"
   ]
  },
  {
   "cell_type": "code",
   "execution_count": 13,
   "id": "a34ff41f",
   "metadata": {},
   "outputs": [
    {
     "name": "stdout",
     "output_type": "stream",
     "text": [
      "+--------------------+\n",
      "|               model|\n",
      "+--------------------+\n",
      "|         ST8000DM005|\n",
      "|          ST320LT007|\n",
      "|Seagate BarraCuda...|\n",
      "| TOSHIBA MG07ACA14TA|\n",
      "|        WDC WD60EFRX|\n",
      "|         ST4000DM005|\n",
      "|HGST HUS726040ALE610|\n",
      "|     TOSHIBA HDWF180|\n",
      "|HGST HUH721010ALE600|\n",
      "| TOSHIBA MD04ABA500V|\n",
      "| TOSHIBA MD04ABA400V|\n",
      "|      WDC WD2500AAJS|\n",
      "|Seagate BarraCuda...|\n",
      "|         ST6000DM004|\n",
      "|         ST6000DM001|\n",
      "|         ST3160316AS|\n",
      "|        WDC WD40EFRX|\n",
      "|         ST6000DX000|\n",
      "|      WDC WD5000LPVX|\n",
      "|       ST250LM004 HN|\n",
      "+--------------------+\n",
      "only showing top 20 rows\n",
      "\n"
     ]
    }
   ],
   "source": [
    "jan1.show()"
   ]
  },
  {
   "cell_type": "code",
   "execution_count": 14,
   "id": "3776ccc4",
   "metadata": {},
   "outputs": [
    {
     "data": {
      "text/plain": [
       "25"
      ]
     },
     "execution_count": 14,
     "metadata": {},
     "output_type": "execute_result"
    }
   ],
   "source": [
    "query = \"SELECT DISTINCT model FROM feb WHERE model NOT IN (SELECT DISTINCT model FROM feb WHERE failure = 1)\"\n",
    "feb1 = spark.sql(query)\n",
    "feb1.createOrReplaceTempView(\"feb1\")\n",
    "feb1.count()"
   ]
  },
  {
   "cell_type": "code",
   "execution_count": 15,
   "id": "f87e1272",
   "metadata": {},
   "outputs": [
    {
     "name": "stdout",
     "output_type": "stream",
     "text": [
      "+--------------------+\n",
      "|               model|\n",
      "+--------------------+\n",
      "|         ST8000DM005|\n",
      "|          ST320LT007|\n",
      "| TOSHIBA MQ01ABF050M|\n",
      "|Seagate BarraCuda...|\n",
      "|        WDC WD60EFRX|\n",
      "|         ST4000DM005|\n",
      "|HGST HUS726040ALE610|\n",
      "|     TOSHIBA HDWF180|\n",
      "|HGST HUH721010ALE600|\n",
      "| TOSHIBA MD04ABA500V|\n",
      "| TOSHIBA MD04ABA400V|\n",
      "|      WDC WD2500AAJS|\n",
      "|Seagate BarraCuda...|\n",
      "|         ST6000DM004|\n",
      "|         ST6000DM001|\n",
      "|        WDC WD40EFRX|\n",
      "|         ST6000DX000|\n",
      "|      WDC WD5000BPKT|\n",
      "|     TOSHIBA HDWE160|\n",
      "|HGST HMS5C4040BLE641|\n",
      "+--------------------+\n",
      "only showing top 20 rows\n",
      "\n"
     ]
    }
   ],
   "source": [
    "feb1.show()"
   ]
  },
  {
   "cell_type": "code",
   "execution_count": 16,
   "id": "e3d9b8b8",
   "metadata": {},
   "outputs": [
    {
     "data": {
      "text/plain": [
       "28"
      ]
     },
     "execution_count": 16,
     "metadata": {},
     "output_type": "execute_result"
    }
   ],
   "source": [
    "query = \"SELECT DISTINCT model FROM mar WHERE model NOT IN (SELECT DISTINCT model FROM mar WHERE failure = 1)\"\n",
    "mar1 = spark.sql(query)\n",
    "mar1.createOrReplaceTempView(\"mar1\")\n",
    "mar1.count()"
   ]
  },
  {
   "cell_type": "code",
   "execution_count": 17,
   "id": "667b63fd",
   "metadata": {},
   "outputs": [
    {
     "name": "stdout",
     "output_type": "stream",
     "text": [
      "+--------------------+\n",
      "|               model|\n",
      "+--------------------+\n",
      "|         ST8000DM005|\n",
      "|          ST320LT007|\n",
      "|Seagate BarraCuda...|\n",
      "| TOSHIBA MG07ACA14TA|\n",
      "|         ST4000DM005|\n",
      "|         DELLBOSS VD|\n",
      "|HGST HUS726040ALE610|\n",
      "|     TOSHIBA HDWF180|\n",
      "|HGST HMS5C4040ALE640|\n",
      "|HGST HUH721010ALE600|\n",
      "| TOSHIBA MD04ABA500V|\n",
      "| TOSHIBA MD04ABA400V|\n",
      "|       ST10000NM0086|\n",
      "|      WDC WD2500AAJS|\n",
      "|Seagate BarraCuda...|\n",
      "|         ST6000DM004|\n",
      "|         ST6000DM001|\n",
      "|        WDC WD40EFRX|\n",
      "|      WDC WD5000LPVX|\n",
      "|      WDC WD5000BPKT|\n",
      "+--------------------+\n",
      "only showing top 20 rows\n",
      "\n"
     ]
    }
   ],
   "source": [
    "mar1.show()"
   ]
  },
  {
   "cell_type": "markdown",
   "id": "dd16f8e0",
   "metadata": {},
   "source": [
    "The one below is by serial number"
   ]
  },
  {
   "cell_type": "code",
   "execution_count": 18,
   "id": "aaa86b6d",
   "metadata": {},
   "outputs": [
    {
     "data": {
      "text/plain": [
       "109396"
      ]
     },
     "execution_count": 18,
     "metadata": {},
     "output_type": "execute_result"
    }
   ],
   "source": [
    "query = \"SELECT DISTINCT serial_number FROM jan WHERE serial_number NOT IN (SELECT DISTINCT serial_number FROM jan WHERE failure = 1)\"\n",
    "jan1 = spark.sql(query)\n",
    "jan1.count()"
   ]
  },
  {
   "cell_type": "code",
   "execution_count": 19,
   "id": "c1dad655",
   "metadata": {},
   "outputs": [
    {
     "name": "stdout",
     "output_type": "stream",
     "text": [
      "+---------------+\n",
      "|  serial_number|\n",
      "+---------------+\n",
      "|       ZDEB1E2M|\n",
      "|       ZA12KZ1K|\n",
      "| PL1331LAGT595H|\n",
      "| PL1331LAHBZSTH|\n",
      "|       ZJV0WG22|\n",
      "|       ZJV036H0|\n",
      "| PL2331LAHDHJ0J|\n",
      "|       S301186E|\n",
      "|WD-WMAYUU472236|\n",
      "|       ZA11WHND|\n",
      "|       ZA153TF8|\n",
      "| PL2331LAGU9EYJ|\n",
      "|       ZA122C8S|\n",
      "|       ZA16VVWW|\n",
      "|       ZA12KZ1B|\n",
      "|       ZCH09WZZ|\n",
      "|       ZA140NJS|\n",
      "|       ZCH0CFCB|\n",
      "| PL2331LAGMNX6J|\n",
      "|       ZCH07XX1|\n",
      "+---------------+\n",
      "only showing top 20 rows\n",
      "\n"
     ]
    }
   ],
   "source": [
    "jan1.show()"
   ]
  },
  {
   "cell_type": "code",
   "execution_count": 20,
   "id": "64b0bf9f",
   "metadata": {},
   "outputs": [
    {
     "data": {
      "text/plain": [
       "107390"
      ]
     },
     "execution_count": 20,
     "metadata": {},
     "output_type": "execute_result"
    }
   ],
   "source": [
    "query = \"SELECT DISTINCT serial_number FROM feb WHERE serial_number NOT IN (SELECT DISTINCT serial_number FROM feb WHERE failure = 1)\"\n",
    "jan1 = spark.sql(query)\n",
    "jan1.count()"
   ]
  },
  {
   "cell_type": "code",
   "execution_count": 21,
   "id": "1f8c355c",
   "metadata": {},
   "outputs": [
    {
     "name": "stdout",
     "output_type": "stream",
     "text": [
      "+--------------------+\n",
      "|               model|\n",
      "+--------------------+\n",
      "|         ST8000DM005|\n",
      "|          ST320LT007|\n",
      "| TOSHIBA MQ01ABF050M|\n",
      "|Seagate BarraCuda...|\n",
      "|        WDC WD60EFRX|\n",
      "|         ST4000DM005|\n",
      "|HGST HUS726040ALE610|\n",
      "|     TOSHIBA HDWF180|\n",
      "|HGST HUH721010ALE600|\n",
      "| TOSHIBA MD04ABA500V|\n",
      "| TOSHIBA MD04ABA400V|\n",
      "|      WDC WD2500AAJS|\n",
      "|Seagate BarraCuda...|\n",
      "|         ST6000DM004|\n",
      "|         ST6000DM001|\n",
      "|        WDC WD40EFRX|\n",
      "|         ST6000DX000|\n",
      "|      WDC WD5000BPKT|\n",
      "|     TOSHIBA HDWE160|\n",
      "|HGST HMS5C4040BLE641|\n",
      "+--------------------+\n",
      "only showing top 20 rows\n",
      "\n"
     ]
    }
   ],
   "source": [
    "feb1.show()"
   ]
  },
  {
   "cell_type": "code",
   "execution_count": 22,
   "id": "96265725",
   "metadata": {},
   "outputs": [
    {
     "data": {
      "text/plain": [
       "109390"
      ]
     },
     "execution_count": 22,
     "metadata": {},
     "output_type": "execute_result"
    }
   ],
   "source": [
    "query = \"SELECT DISTINCT serial_number FROM mar WHERE serial_number NOT IN (SELECT DISTINCT serial_number FROM mar WHERE failure = 1)\"\n",
    "jan1 = spark.sql(query)\n",
    "jan1.count()"
   ]
  },
  {
   "cell_type": "code",
   "execution_count": 23,
   "id": "a80c6a6f",
   "metadata": {},
   "outputs": [
    {
     "name": "stdout",
     "output_type": "stream",
     "text": [
      "+--------------------+\n",
      "|               model|\n",
      "+--------------------+\n",
      "|         ST8000DM005|\n",
      "|          ST320LT007|\n",
      "|Seagate BarraCuda...|\n",
      "| TOSHIBA MG07ACA14TA|\n",
      "|         ST4000DM005|\n",
      "|         DELLBOSS VD|\n",
      "|HGST HUS726040ALE610|\n",
      "|     TOSHIBA HDWF180|\n",
      "|HGST HMS5C4040ALE640|\n",
      "|HGST HUH721010ALE600|\n",
      "| TOSHIBA MD04ABA500V|\n",
      "| TOSHIBA MD04ABA400V|\n",
      "|       ST10000NM0086|\n",
      "|      WDC WD2500AAJS|\n",
      "|Seagate BarraCuda...|\n",
      "|         ST6000DM004|\n",
      "|         ST6000DM001|\n",
      "|        WDC WD40EFRX|\n",
      "|      WDC WD5000LPVX|\n",
      "|      WDC WD5000BPKT|\n",
      "+--------------------+\n",
      "only showing top 20 rows\n",
      "\n"
     ]
    }
   ],
   "source": [
    "mar1.show()"
   ]
  },
  {
   "cell_type": "markdown",
   "id": "05952bee",
   "metadata": {},
   "source": [
    "Membership set for zero error rates"
   ]
  },
  {
   "cell_type": "code",
   "execution_count": 24,
   "id": "61ce29ae",
   "metadata": {},
   "outputs": [
    {
     "data": {
      "text/plain": [
       "6260954"
      ]
     },
     "execution_count": 24,
     "metadata": {},
     "output_type": "execute_result"
    }
   ],
   "source": [
    "jfcombine = jan.union(feb) #Combining January and February for training\n",
    "jfcombine.createOrReplaceTempView(\"jfcombine\")\n",
    "jfcombine.count()"
   ]
  },
  {
   "cell_type": "code",
   "execution_count": 25,
   "id": "fac467a9",
   "metadata": {},
   "outputs": [
    {
     "data": {
      "text/plain": [
       "6260954"
      ]
     },
     "execution_count": 25,
     "metadata": {},
     "output_type": "execute_result"
    }
   ],
   "source": [
    "jan.count() + feb.count() #Same amount as merged dataset"
   ]
  },
  {
   "cell_type": "code",
   "execution_count": 26,
   "id": "4b0044e6",
   "metadata": {},
   "outputs": [
    {
     "name": "stdout",
     "output_type": "stream",
     "text": [
      "+----------+--------------+--------------------+--------------+-------+------------------+-----------+------------------+-----------+------------------+-----------+------------------+-----------+------------------+-----------+------------------+-----------+------------------+-----------+------------------+-----------+-------------------+------------+-------------------+------------+-------------------+------------+-------------------+------------+-------------------+------------+-------------------+------------+-------------------+------------+-------------------+------------+-------------------+------------+-------------------+------------+--------------------+-------------+--------------------+-------------+--------------------+-------------+--------------------+-------------+--------------------+-------------+--------------------+-------------+--------------------+-------------+--------------------+-------------+--------------------+-------------+--------------------+-------------+--------------------+-------------+--------------------+-------------+--------------------+-------------+--------------------+-------------+--------------------+-------------+--------------------+-------------+--------------------+-------------+--------------------+-------------+--------------------+-------------+--------------------+-------------+--------------------+-------------+--------------------+-------------+--------------------+-------------+--------------------+-------------+--------------------+-------------+--------------------+-------------+--------------------+-------------+--------------------+-------------+--------------------+-------------+--------------------+-------------+--------------------+-------------+--------------------+-------------+--------------------+-------------+--------------------+-------------+--------------------+-------------+--------------------+-------------+--------------------+-------------+--------------------+-------------+--------------------+-------------+--------------------+-------------+--------------------+-------------+--------------------+-------------+--------------------+-------------+--------------------+-------------+\n",
      "|      date| serial_number|               model|capacity_bytes|failure|smart_1_normalized|smart_1_raw|smart_2_normalized|smart_2_raw|smart_3_normalized|smart_3_raw|smart_4_normalized|smart_4_raw|smart_5_normalized|smart_5_raw|smart_7_normalized|smart_7_raw|smart_8_normalized|smart_8_raw|smart_9_normalized|smart_9_raw|smart_10_normalized|smart_10_raw|smart_11_normalized|smart_11_raw|smart_12_normalized|smart_12_raw|smart_13_normalized|smart_13_raw|smart_15_normalized|smart_15_raw|smart_16_normalized|smart_16_raw|smart_17_normalized|smart_17_raw|smart_22_normalized|smart_22_raw|smart_23_normalized|smart_23_raw|smart_24_normalized|smart_24_raw|smart_168_normalized|smart_168_raw|smart_170_normalized|smart_170_raw|smart_173_normalized|smart_173_raw|smart_174_normalized|smart_174_raw|smart_177_normalized|smart_177_raw|smart_179_normalized|smart_179_raw|smart_181_normalized|smart_181_raw|smart_182_normalized|smart_182_raw|smart_183_normalized|smart_183_raw|smart_184_normalized|smart_184_raw|smart_187_normalized|smart_187_raw|smart_188_normalized|smart_188_raw|smart_189_normalized|smart_189_raw|smart_190_normalized|smart_190_raw|smart_191_normalized|smart_191_raw|smart_192_normalized|smart_192_raw|smart_193_normalized|smart_193_raw|smart_194_normalized|smart_194_raw|smart_195_normalized|smart_195_raw|smart_196_normalized|smart_196_raw|smart_197_normalized|smart_197_raw|smart_198_normalized|smart_198_raw|smart_199_normalized|smart_199_raw|smart_200_normalized|smart_200_raw|smart_201_normalized|smart_201_raw|smart_218_normalized|smart_218_raw|smart_220_normalized|smart_220_raw|smart_222_normalized|smart_222_raw|smart_223_normalized|smart_223_raw|smart_224_normalized|smart_224_raw|smart_225_normalized|smart_225_raw|smart_226_normalized|smart_226_raw|smart_231_normalized|smart_231_raw|smart_232_normalized|smart_232_raw|smart_233_normalized|smart_233_raw|smart_235_normalized|smart_235_raw|smart_240_normalized|smart_240_raw|smart_241_normalized|smart_241_raw|smart_242_normalized|smart_242_raw|smart_250_normalized|smart_250_raw|smart_251_normalized|smart_251_raw|smart_252_normalized|smart_252_raw|smart_254_normalized|smart_254_raw|smart_255_normalized|smart_255_raw|\n",
      "+----------+--------------+--------------------+--------------+-------+------------------+-----------+------------------+-----------+------------------+-----------+------------------+-----------+------------------+-----------+------------------+-----------+------------------+-----------+------------------+-----------+-------------------+------------+-------------------+------------+-------------------+------------+-------------------+------------+-------------------+------------+-------------------+------------+-------------------+------------+-------------------+------------+-------------------+------------+-------------------+------------+--------------------+-------------+--------------------+-------------+--------------------+-------------+--------------------+-------------+--------------------+-------------+--------------------+-------------+--------------------+-------------+--------------------+-------------+--------------------+-------------+--------------------+-------------+--------------------+-------------+--------------------+-------------+--------------------+-------------+--------------------+-------------+--------------------+-------------+--------------------+-------------+--------------------+-------------+--------------------+-------------+--------------------+-------------+--------------------+-------------+--------------------+-------------+--------------------+-------------+--------------------+-------------+--------------------+-------------+--------------------+-------------+--------------------+-------------+--------------------+-------------+--------------------+-------------+--------------------+-------------+--------------------+-------------+--------------------+-------------+--------------------+-------------+--------------------+-------------+--------------------+-------------+--------------------+-------------+--------------------+-------------+--------------------+-------------+--------------------+-------------+--------------------+-------------+--------------------+-------------+--------------------+-------------+--------------------+-------------+--------------------+-------------+--------------------+-------------+\n",
      "|2019-01-06|      Z305B2QN|         ST4000DM000| 4000787030016|      0|               118|  196222888|              null|       null|                91|          0|               100|         12|               100|          0|                84|  298988779|              null|       null|                70|      26833|                100|           0|               null|        null|                100|          12|               null|        null|               null|        null|               null|        null|               null|        null|               null|        null|               null|        null|               null|        null|                null|         null|                null|         null|                null|         null|                null|         null|                null|         null|                null|         null|                null|         null|                null|         null|                 100|            0|                 100|            0|                 100|            0|                 100|            0|                 100|            0|                  78|           22|                 100|            0|                 100|            0|                  83|        34169|                  22|           22|                null|         null|                null|         null|                 100|            0|                 100|            0|                 200|            0|                null|         null|                null|         null|                null|         null|                null|         null|                null|         null|                null|         null|                null|         null|                null|         null|                null|         null|                null|         null|                null|         null|                null|         null|                null|         null|                 100|        26582|                 100|  45644551064|                 100| 118918650748|                null|         null|                null|         null|                null|         null|                null|         null|                null|         null|\n",
      "|2019-01-06|      ZJV0XJQ4|       ST12000NM0007|12000138625024|      0|                84|  242794800|              null|       null|                98|          0|               100|          2|               100|          0|                86|  398207775|              null|       null|                96|       3870|                100|           0|               null|        null|                100|           2|               null|        null|               null|        null|               null|        null|               null|        null|               null|        null|               null|        null|               null|        null|                null|         null|                null|         null|                null|         null|                null|         null|                null|         null|                null|         null|                null|         null|                null|         null|                null|         null|                null|         null|                 100|            0|                 100|            0|                null|         null|                  71|           29|                null|         null|                 100|           42|                  99|         2151|                  29|           29|                  84|    242794800|                null|         null|                 100|            0|                 100|            0|                 200|            0|                 100|            0|                null|         null|                null|         null|                null|         null|                null|         null|                null|         null|                null|         null|                null|         null|                null|         null|                null|         null|                null|         null|                null|         null|                null|         null|                 100|         3136|                 100|  29523062472|                 100|  22721766592|                null|         null|                null|         null|                null|         null|                null|         null|                null|         null|\n",
      "|2019-01-06|      ZJV0XJQ3|       ST12000NM0007|12000138625024|      0|                80|  104320608|              null|       null|                99|          0|               100|          1|               100|          0|                77|   52942336|              null|       null|                99|        912|                100|           0|               null|        null|                100|           1|               null|        null|               null|        null|               null|        null|               null|        null|               null|        null|               null|        null|               null|        null|                null|         null|                null|         null|                null|         null|                null|         null|                null|         null|                null|         null|                null|         null|                null|         null|                null|         null|                null|         null|                 100|            0|                 100|            0|                null|         null|                  66|           34|                null|         null|                 100|           19|                 100|          368|                  34|           34|                  80|    104320608|                null|         null|                 100|            0|                 100|            0|                 200|            0|                 100|            0|                null|         null|                null|         null|                null|         null|                null|         null|                null|         null|                null|         null|                null|         null|                null|         null|                null|         null|                null|         null|                null|         null|                null|         null|                 100|          789|                 100|   6572387544|                 100|    856197898|                null|         null|                null|         null|                null|         null|                null|         null|                null|         null|\n",
      "|2019-01-06|      ZJV0XJQ0|       ST12000NM0007|12000138625024|      0|                82|  159368952|              null|       null|                93|          0|               100|          6|               100|          0|                88|  577658592|              null|       null|                95|       4476|                100|           0|               null|        null|                100|           6|               null|        null|               null|        null|               null|        null|               null|        null|               null|        null|               null|        null|               null|        null|                null|         null|                null|         null|                null|         null|                null|         null|                null|         null|                null|         null|                null|         null|                null|         null|                null|         null|                null|         null|                 100|            0|                 100|            0|                null|         null|                  77|           23|                null|         null|                 100|           37|                 100|          692|                  23|           23|                  82|    159368952|                null|         null|                 100|            0|                 100|            0|                 200|            0|                 100|            0|                null|         null|                null|         null|                null|         null|                null|         null|                null|         null|                null|         null|                null|         null|                null|         null|                null|         null|                null|         null|                null|         null|                null|         null|                 100|         4285|                 100|  33980265536|                 100|  40397936360|                null|         null|                null|         null|                null|         null|                null|         null|                null|         null|\n",
      "|2019-01-06|PL1331LAHG1S4H|HGST HMS5C4040ALE640| 4000787030016|      0|               100|          0|               134|        103|               100|        436|               100|          8|               100|          0|               100|          0|               113|         42|                98|      16907|                100|           0|               null|        null|                100|           8|               null|        null|               null|        null|               null|        null|               null|        null|               null|        null|               null|        null|               null|        null|                null|         null|                null|         null|                null|         null|                null|         null|                null|         null|                null|         null|                null|         null|                null|         null|                null|         null|                null|         null|                null|         null|                null|         null|                null|         null|                null|         null|                null|         null|                 100|          188|                 100|          188|                 193|           31|                null|         null|                 100|            0|                 100|            0|                 100|            0|                 200|            0|                null|         null|                null|         null|                null|         null|                null|         null|                null|         null|                null|         null|                null|         null|                null|         null|                null|         null|                null|         null|                null|         null|                null|         null|                null|         null|                null|         null|                null|         null|                null|         null|                null|         null|                null|         null|                null|         null|                null|         null|                null|         null|\n",
      "|2019-01-06|      ZA16NQJR|        ST8000NM0055| 8001563222016|      0|                81|  119842296|              null|       null|                92|          0|               100|          6|               100|          0|                96| 3906921299|              null|       null|                84|      14787|                100|           0|               null|        null|                100|           6|               null|        null|               null|        null|               null|        null|               null|        null|               null|        null|               null|        null|               null|        null|                null|         null|                null|         null|                null|         null|                null|         null|                null|         null|                null|         null|                null|         null|                null|         null|                null|         null|                 100|            0|                 100|            0|                 100|            0|                 100|            0|                  62|           38|                  97|         6458|                 100|           14|                  93|        15676|                  38|           38|                  81|    119842296|                null|         null|                 100|            0|                 100|            0|                 200|            0|                null|         null|                null|         null|                null|         null|                null|         null|                null|         null|                null|         null|                null|         null|                null|         null|                null|         null|                null|         null|                null|         null|                null|         null|                null|         null|                 100|        14766|                 100|  47885030928|                 100|  95340886652|                null|         null|                null|         null|                null|         null|                null|         null|                null|         null|\n",
      "|2019-01-06|      ZJV02XWG|       ST12000NM0007|12000138625024|      0|                80|   89292928|              null|       null|                90|          0|               100|          7|               100|          0|                88|  655033941|              null|       null|                94|       5793|                100|           0|               null|        null|                100|           7|               null|        null|               null|        null|               null|        null|               null|        null|               null|        null|               null|        null|               null|        null|                null|         null|                null|         null|                null|         null|                null|         null|                null|         null|                null|         null|                null|         null|                null|         null|                null|         null|                null|         null|                 100|            0|                 100|            0|                null|         null|                  77|           23|                null|         null|                 100|           65|                 100|          670|                  23|           23|                  80|     89292928|                null|         null|                 100|            0|                 100|            0|                 200|            0|                 100|            0|                null|         null|                null|         null|                null|         null|                null|         null|                null|         null|                null|         null|                null|         null|                null|         null|                null|         null|                null|         null|                null|         null|                null|         null|                 100|         5620|                 100|  35156130776|                 100|  46720371188|                null|         null|                null|         null|                null|         null|                null|         null|                null|         null|\n",
      "|2019-01-06|      ZJV1CSVX|       ST12000NM0007|12000138625024|      0|                74|   27886984|              null|       null|                98|          0|               100|          2|               100|          0|                88|  584421066|              null|       null|                96|       4128|                100|           0|               null|        null|                100|           2|               null|        null|               null|        null|               null|        null|               null|        null|               null|        null|               null|        null|               null|        null|                null|         null|                null|         null|                null|         null|                null|         null|                null|         null|                null|         null|                null|         null|                null|         null|                null|         null|                null|         null|                 100|            0|                 100|            0|                null|         null|                  70|           30|                null|         null|                 100|           37|                 100|          286|                  30|           30|                  74|     27886984|                null|         null|                 100|            0|                 100|            0|                 200|            0|                 100|            0|                null|         null|                null|         null|                null|         null|                null|         null|                null|         null|                null|         null|                null|         null|                null|         null|                null|         null|                null|         null|                null|         null|                null|         null|                 100|         4068|                 100|  35786721248|                 100|  42122113684|                null|         null|                null|         null|                null|         null|                null|         null|                null|         null|\n",
      "|2019-01-06|      ZJV02XWA|       ST12000NM0007|12000138625024|      0|                82|  155889112|              null|       null|                97|          0|               100|          2|               100|          0|                89|  794329608|              null|       null|                94|       5808|                100|           0|               null|        null|                100|           2|               null|        null|               null|        null|               null|        null|               null|        null|               null|        null|               null|        null|               null|        null|                null|         null|                null|         null|                null|         null|                null|         null|                null|         null|                null|         null|                null|         null|                null|         null|                null|         null|                null|         null|                 100|            0|                 100|            0|                null|         null|                  77|           23|                null|         null|                 100|           43|                 100|          362|                  23|           23|                  82|    155889112|                null|         null|                 100|            0|                 100|            0|                 200|            0|                 100|            0|                null|         null|                null|         null|                null|         null|                null|         null|                null|         null|                null|         null|                null|         null|                null|         null|                null|         null|                null|         null|                null|         null|                null|         null|                 100|         5743|                 100|  41626090264|                 100|  56918549916|                null|         null|                null|         null|                null|         null|                null|         null|                null|         null|\n",
      "|2019-01-06|      ZA18CEBS|        ST8000NM0055| 8001563222016|      0|                72|   15311000|              null|       null|                97|          0|               100|          2|               100|          0|                95| 2832304061|              null|       null|                87|      11764|                100|           0|               null|        null|                100|           2|               null|        null|               null|        null|               null|        null|               null|        null|               null|        null|               null|        null|               null|        null|                null|         null|                null|         null|                null|         null|                null|         null|                null|         null|                null|         null|                null|         null|                null|         null|                null|         null|                 100|            0|                 100|            0|                 100|            0|                 100|            0|                  60|           40|                  93|        15182|                 100|            3|                  93|        14625|                  40|           40|                  72|     15311000|                null|         null|                 100|            0|                 100|            0|                 200|            0|                null|         null|                null|         null|                null|         null|                null|         null|                null|         null|                null|         null|                null|         null|                null|         null|                null|         null|                null|         null|                null|         null|                null|         null|                null|         null|                 100|        11739|                 100|  41431041056|                 100|  86286399252|                null|         null|                null|         null|                null|         null|                null|         null|                null|         null|\n",
      "|2019-01-06|      Z305DEMG|         ST4000DM000| 4000787030016|      0|               114|   78052520|              null|       null|                97|          0|               100|          3|               100|          0|                78|   79584557|              null|       null|                72|      25134|                100|           0|               null|        null|                100|           3|               null|        null|               null|        null|               null|        null|               null|        null|               null|        null|               null|        null|               null|        null|                null|         null|                null|         null|                null|         null|                null|         null|                null|         null|                null|         null|                null|         null|                null|         null|                 100|            0|                 100|            0|                 100|            0|                 100|            0|                 100|            0|                  75|           25|                 100|            0|                 100|            0|                  74|        52131|                  25|           25|                null|         null|                null|         null|                 100|            0|                 100|            0|                 200|            0|                null|         null|                null|         null|                null|         null|                null|         null|                null|         null|                null|         null|                null|         null|                null|         null|                null|         null|                null|         null|                null|         null|                null|         null|                null|         null|                 100|        24789|                 100|  39518566512|                 100| 107837589315|                null|         null|                null|         null|                null|         null|                null|         null|                null|         null|\n",
      "|2019-01-06|      ZA130TTW|         ST8000DM002| 8001563222016|      0|                78|   69109208|              null|       null|                96|          0|               100|          2|               100|          0|                87|  534839041|              null|       null|                78|      19883|                100|           0|               null|        null|                100|           2|               null|        null|               null|        null|               null|        null|               null|        null|               null|        null|               null|        null|               null|        null|                null|         null|                null|         null|                null|         null|                null|         null|                null|         null|                null|         null|                null|         null|                null|         null|                null|         null|                 100|            0|                 100|            0|                 100|            0|                 100|            0|                  71|           29|                  81|        38518|                 100|            0|                  91|        18394|                  29|           29|                   1|     69109208|                null|         null|                 100|            0|                 100|            0|                 200|            0|                null|         null|                null|         null|                null|         null|                null|         null|                null|         null|                null|         null|                null|         null|                null|         null|                null|         null|                null|         null|                null|         null|                null|         null|                null|         null|                 100|        19847|                 100|  58165098176|                 100| 105714244418|                null|         null|                null|         null|                null|         null|                null|         null|                null|         null|\n",
      "|2019-01-06|      ZJV1CSVV|       ST12000NM0007|12000138625024|      0|                81|  121640104|              null|       null|                99|          0|               100|          1|               100|          0|                78|   69052554|              null|       null|               100|        798|                100|           0|               null|        null|                100|           1|               null|        null|               null|        null|               null|        null|               null|        null|               null|        null|               null|        null|               null|        null|                null|         null|                null|         null|                null|         null|                null|         null|                null|         null|                null|         null|                null|         null|                null|         null|                null|         null|                null|         null|                 100|            0|                 100|            0|                null|         null|                  69|           31|                null|         null|                 100|           15|                 100|          202|                  31|           31|                  81|    121640104|                null|         null|                 100|            0|                 100|            0|                 200|            0|                 100|            0|                null|         null|                null|         null|                null|         null|                null|         null|                null|         null|                null|         null|                null|         null|                null|         null|                null|         null|                null|         null|                null|         null|                null|         null|                 100|          726|                 100|   7246910512|                 100|   4105224516|                null|         null|                null|         null|                null|         null|                null|         null|                null|         null|\n",
      "|2019-01-06|      ZA18CEBF|        ST8000NM0055| 8001563222016|      0|                83|  192132312|              null|       null|                98|          0|               100|          2|               100|          0|                94| 2797896577|              null|       null|                87|      11767|                100|           0|               null|        null|                100|           2|               null|        null|               null|        null|               null|        null|               null|        null|               null|        null|               null|        null|               null|        null|                null|         null|                null|         null|                null|         null|                null|         null|                null|         null|                null|         null|                null|         null|                null|         null|                null|         null|                 100|            0|                 100|            0|                 100|            0|                 100|            0|                  63|           37|                  98|         4694|                 100|            5|                  93|        15851|                  37|           37|                  83|    192132312|                null|         null|                 100|            0|                 100|            0|                 200|            0|                null|         null|                null|         null|                null|         null|                null|         null|                null|         null|                null|         null|                null|         null|                null|         null|                null|         null|                null|         null|                null|         null|                null|         null|                null|         null|                 100|        11743|                 100|  41519527960|                 100|  86972363222|                null|         null|                null|         null|                null|         null|                null|         null|                null|         null|\n",
      "|2019-01-06|      ZJV02XWV|       ST12000NM0007|12000138625024|      0|                84|  232130328|              null|       null|                99|          0|               100|          1|               100|          0|                89|  787727691|              null|       null|                94|       5795|                100|           0|               null|        null|                100|           1|               null|        null|               null|        null|               null|        null|               null|        null|               null|        null|               null|        null|               null|        null|                null|         null|                null|         null|                null|         null|                null|         null|                null|         null|                null|         null|                null|         null|                null|         null|                null|         null|                null|         null|                 100|            0|                 100|            0|                null|         null|                  73|           27|                null|         null|                 100|           48|                 100|          331|                  27|           27|                  84|    232130328|                null|         null|                 100|            0|                 100|            0|                 200|            0|                 100|            0|                null|         null|                null|         null|                null|         null|                null|         null|                null|         null|                null|         null|                null|         null|                null|         null|                null|         null|                null|         null|                null|         null|                null|         null|                 100|         5741|                 100|  41776385960|                 100|  55135520650|                null|         null|                null|         null|                null|         null|                null|         null|                null|         null|\n",
      "|2019-01-06|PL2331LAG9TEEJ|HGST HMS5C4040ALE640| 4000787030016|      0|               100|          0|               135|         98|               100|        449|               100|         11|               100|          0|               100|          0|               113|         42|                98|      16907|                100|           0|               null|        null|                100|          10|               null|        null|               null|        null|               null|        null|               null|        null|               null|        null|               null|        null|               null|        null|                null|         null|                null|         null|                null|         null|                null|         null|                null|         null|                null|         null|                null|         null|                null|         null|                null|         null|                null|         null|                null|         null|                null|         null|                null|         null|                null|         null|                null|         null|                 100|          133|                 100|          133|                 176|           34|                null|         null|                 100|            0|                 100|            0|                 100|            0|                 200|            0|                null|         null|                null|         null|                null|         null|                null|         null|                null|         null|                null|         null|                null|         null|                null|         null|                null|         null|                null|         null|                null|         null|                null|         null|                null|         null|                null|         null|                null|         null|                null|         null|                null|         null|                null|         null|                null|         null|                null|         null|                null|         null|\n",
      "|2019-01-06|PL2331LAH3WYAJ|HGST HMS5C4040BLE640| 4000787030016|      0|               100|          0|               133|        106|               100|          0|               100|          4|               100|          0|               100|          0|               113|         42|                98|      16546|                100|           0|               null|        null|                100|           4|               null|        null|               null|        null|               null|        null|               null|        null|               null|        null|               null|        null|               null|        null|                null|         null|                null|         null|                null|         null|                null|         null|                null|         null|                null|         null|                null|         null|                null|         null|                null|         null|                null|         null|                null|         null|                null|         null|                null|         null|                null|         null|                null|         null|                 100|          142|                 100|          142|                 200|           30|                null|         null|                 100|            0|                 100|            0|                 100|            0|                 200|            0|                null|         null|                null|         null|                null|         null|                null|         null|                null|         null|                null|         null|                null|         null|                null|         null|                null|         null|                null|         null|                null|         null|                null|         null|                null|         null|                null|         null|                null|         null|                null|         null|                null|         null|                null|         null|                null|         null|                null|         null|                null|         null|\n",
      "|2019-01-06|      Z3023VGH|         ST4000DM000| 4000787030016|      0|               119|  224323728|              null|       null|                92|          0|               100|         15|               100|          0|                82|  193519191|              null|       null|                58|      37063|                100|           0|               null|        null|                100|          15|               null|        null|               null|        null|               null|        null|               null|        null|               null|        null|               null|        null|               null|        null|                null|         null|                null|         null|                null|         null|                null|         null|                null|         null|                null|         null|                null|         null|                null|         null|                 100|            0|                 100|            0|                 100|            0|                 100|            0|                 100|            0|                  71|           29|                 100|            0|                 100|            1|                  76|        48290|                  29|           29|                null|         null|                null|         null|                 100|            0|                 100|            0|                 200|            0|                null|         null|                null|         null|                null|         null|                null|         null|                null|         null|                null|         null|                null|         null|                null|         null|                null|         null|                null|         null|                null|         null|                null|         null|                null|         null|                 100|        36836|                 100|  23627839017|                 100| 182300895881|                null|         null|                null|         null|                null|         null|                null|         null|                null|         null|\n",
      "|2019-01-06|PL1331LAHG53YH|HGST HMS5C4040BLE640| 4000787030016|      0|               100|          0|               133|        104|               100|        440|               100|          5|               100|          0|               100|          0|               113|         42|                98|      16525|                100|           0|               null|        null|                100|           5|               null|        null|               null|        null|               null|        null|               null|        null|               null|        null|               null|        null|               null|        null|                null|         null|                null|         null|                null|         null|                null|         null|                null|         null|                null|         null|                null|         null|                null|         null|                null|         null|                null|         null|                null|         null|                null|         null|                null|         null|                null|         null|                null|         null|                 100|          119|                 100|          119|                 176|           34|                null|         null|                 100|            0|                 100|            0|                 100|            0|                 200|            0|                null|         null|                null|         null|                null|         null|                null|         null|                null|         null|                null|         null|                null|         null|                null|         null|                null|         null|                null|         null|                null|         null|                null|         null|                null|         null|                null|         null|                null|         null|                null|         null|                null|         null|                null|         null|                null|         null|                null|         null|                null|         null|\n",
      "|2019-01-06|  88Q0A0LGF97G| TOSHIBA MG07ACA14TA|14000519643136|      0|               100|          0|               100|          0|               100|       7795|               100|          2|               100|          0|               100|          0|               100|          0|                95|       2291|                100|           0|               null|        null|                100|           2|               null|        null|               null|        null|               null|        null|               null|        null|               null|        null|                100|           0|                100|           0|                null|         null|                null|         null|                null|         null|                null|         null|                null|         null|                null|         null|                null|         null|                null|         null|                null|         null|                null|         null|                null|         null|                null|         null|                null|         null|                null|         null|                 100|            0|                 100|            0|                 100|           37|                 100|           25|                null|         null|                 100|            0|                 100|            0|                 100|            0|                 200|            0|                null|         null|                null|         null|                null|         null|                 100|     33554433|                  95|         2277|                 100|            0|                 100|            0|                null|         null|                 100|          587|                null|         null|                null|         null|                null|         null|                null|         null|                 100|            0|                null|         null|                null|         null|                null|         null|                null|         null|                null|         null|                null|         null|                null|         null|\n",
      "+----------+--------------+--------------------+--------------+-------+------------------+-----------+------------------+-----------+------------------+-----------+------------------+-----------+------------------+-----------+------------------+-----------+------------------+-----------+------------------+-----------+-------------------+------------+-------------------+------------+-------------------+------------+-------------------+------------+-------------------+------------+-------------------+------------+-------------------+------------+-------------------+------------+-------------------+------------+-------------------+------------+--------------------+-------------+--------------------+-------------+--------------------+-------------+--------------------+-------------+--------------------+-------------+--------------------+-------------+--------------------+-------------+--------------------+-------------+--------------------+-------------+--------------------+-------------+--------------------+-------------+--------------------+-------------+--------------------+-------------+--------------------+-------------+--------------------+-------------+--------------------+-------------+--------------------+-------------+--------------------+-------------+--------------------+-------------+--------------------+-------------+--------------------+-------------+--------------------+-------------+--------------------+-------------+--------------------+-------------+--------------------+-------------+--------------------+-------------+--------------------+-------------+--------------------+-------------+--------------------+-------------+--------------------+-------------+--------------------+-------------+--------------------+-------------+--------------------+-------------+--------------------+-------------+--------------------+-------------+--------------------+-------------+--------------------+-------------+--------------------+-------------+--------------------+-------------+--------------------+-------------+--------------------+-------------+--------------------+-------------+--------------------+-------------+--------------------+-------------+\n",
      "only showing top 20 rows\n",
      "\n"
     ]
    }
   ],
   "source": [
    "jfcombine.show()"
   ]
  },
  {
   "cell_type": "code",
   "execution_count": 27,
   "id": "fd9e049c",
   "metadata": {},
   "outputs": [
    {
     "data": {
      "text/plain": [
       "17"
      ]
     },
     "execution_count": 27,
     "metadata": {},
     "output_type": "execute_result"
    }
   ],
   "source": [
    "query = \"SELECT DISTINCT model FROM jfcombine WHERE model NOT IN (SELECT DISTINCT model FROM jfcombine WHERE smart_1_raw != 0)\"\n",
    "zero = spark.sql(query)\n",
    "zero.createOrReplaceTempView(\"zero\")\n",
    "zero.count()"
   ]
  },
  {
   "cell_type": "code",
   "execution_count": 28,
   "id": "d9713f16",
   "metadata": {},
   "outputs": [
    {
     "name": "stdout",
     "output_type": "stream",
     "text": [
      "+--------------------+\n",
      "|               model|\n",
      "+--------------------+\n",
      "| TOSHIBA MQ01ABF050M|\n",
      "|Seagate BarraCuda...|\n",
      "| TOSHIBA MG07ACA14TA|\n",
      "|HGST HUS726040ALE610|\n",
      "|     TOSHIBA HDWF180|\n",
      "|HGST HUH721010ALE600|\n",
      "| TOSHIBA MD04ABA500V|\n",
      "| TOSHIBA MD04ABA400V|\n",
      "|      WDC WD2500AAJS|\n",
      "|  TOSHIBA MQ01ABF050|\n",
      "|Seagate BarraCuda...|\n",
      "|        WDC WD40EFRX|\n",
      "|      WDC WD5000BPKT|\n",
      "|     TOSHIBA HDWE160|\n",
      "|HGST HMS5C4040BLE641|\n",
      "|      WDC WD3200BEKX|\n",
      "|      WDC WD3200AAJS|\n",
      "+--------------------+\n",
      "\n"
     ]
    }
   ],
   "source": [
    "zero.show()"
   ]
  },
  {
   "cell_type": "markdown",
   "id": "f98a4e43",
   "metadata": {},
   "source": [
    "Train bloom filter"
   ]
  },
  {
   "cell_type": "code",
   "execution_count": 44,
   "id": "45f807e6",
   "metadata": {},
   "outputs": [],
   "source": [
    "from pybloom import BloomFilter"
   ]
  },
  {
   "cell_type": "code",
   "execution_count": 45,
   "id": "de81dc7b",
   "metadata": {},
   "outputs": [],
   "source": [
    "bf = BloomFilter(capacity=zero.count(), error_rate=0.001)"
   ]
  },
  {
   "cell_type": "code",
   "execution_count": 46,
   "id": "5b1fe2ac",
   "metadata": {},
   "outputs": [
    {
     "data": {
      "text/plain": [
       "[Row(model='TOSHIBA MQ01ABF050M'),\n",
       " Row(model='Seagate BarraCuda SSD ZA2000CM10002'),\n",
       " Row(model='TOSHIBA MG07ACA14TA'),\n",
       " Row(model='HGST HUS726040ALE610'),\n",
       " Row(model='TOSHIBA HDWF180'),\n",
       " Row(model='HGST HUH721010ALE600'),\n",
       " Row(model='TOSHIBA MD04ABA500V'),\n",
       " Row(model='TOSHIBA MD04ABA400V'),\n",
       " Row(model='WDC WD2500AAJS'),\n",
       " Row(model='TOSHIBA MQ01ABF050'),\n",
       " Row(model='Seagate BarraCuda SSD ZA500CM10002'),\n",
       " Row(model='WDC WD40EFRX'),\n",
       " Row(model='WDC WD5000BPKT'),\n",
       " Row(model='TOSHIBA HDWE160'),\n",
       " Row(model='HGST HMS5C4040BLE641'),\n",
       " Row(model='WDC WD3200BEKX'),\n",
       " Row(model='WDC WD3200AAJS')]"
      ]
     },
     "execution_count": 46,
     "metadata": {},
     "output_type": "execute_result"
    }
   ],
   "source": [
    "zero.collect()"
   ]
  },
  {
   "cell_type": "code",
   "execution_count": 47,
   "id": "bb112eb0",
   "metadata": {},
   "outputs": [
    {
     "name": "stdout",
     "output_type": "stream",
     "text": [
      "TOSHIBA MQ01ABF050M\n",
      "Seagate BarraCuda SSD ZA2000CM10002\n",
      "TOSHIBA MG07ACA14TA\n",
      "HGST HUS726040ALE610\n",
      "TOSHIBA HDWF180\n",
      "HGST HUH721010ALE600\n",
      "TOSHIBA MD04ABA500V\n",
      "TOSHIBA MD04ABA400V\n",
      "WDC WD2500AAJS\n",
      "TOSHIBA MQ01ABF050\n",
      "Seagate BarraCuda SSD ZA500CM10002\n",
      "WDC WD40EFRX\n",
      "WDC WD5000BPKT\n",
      "TOSHIBA HDWE160\n",
      "HGST HMS5C4040BLE641\n",
      "WDC WD3200BEKX\n",
      "WDC WD3200AAJS\n"
     ]
    }
   ],
   "source": [
    "for i in zero.collect(): #Added traiing data to model\n",
    "    print(i['model'])\n",
    "    bf.add(i['model'])"
   ]
  },
  {
   "cell_type": "code",
   "execution_count": 48,
   "id": "5f5848b1",
   "metadata": {},
   "outputs": [
    {
     "data": {
      "text/plain": [
       "True"
      ]
     },
     "execution_count": 48,
     "metadata": {},
     "output_type": "execute_result"
    }
   ],
   "source": [
    "\"TOSHIBA MQ01ABF050M\" in bf #Testing to make sure model got training data"
   ]
  },
  {
   "cell_type": "markdown",
   "id": "671fc657",
   "metadata": {},
   "source": [
    "Testing March"
   ]
  },
  {
   "cell_type": "code",
   "execution_count": 49,
   "id": "548200e9",
   "metadata": {},
   "outputs": [],
   "source": [
    "def bf_test(x): #Made a UDF\n",
    "    ans = x in bf\n",
    "    return ans"
   ]
  },
  {
   "cell_type": "code",
   "execution_count": 50,
   "id": "c1d18ac0",
   "metadata": {},
   "outputs": [],
   "source": [
    "test_udf = udf(lambda x: bf_test(x))"
   ]
  },
  {
   "cell_type": "code",
   "execution_count": 51,
   "id": "e905f53e",
   "metadata": {},
   "outputs": [],
   "source": [
    "mar2=mar1.withColumn(\"Set\", test_udf(\"model\")) #Running model on testing data\n",
    "mar2.createOrReplaceTempView(\"mar2\")"
   ]
  },
  {
   "cell_type": "code",
   "execution_count": 52,
   "id": "5ba0b59b",
   "metadata": {},
   "outputs": [
    {
     "name": "stdout",
     "output_type": "stream",
     "text": [
      "+--------------------+-----+\n",
      "|               model|  Set|\n",
      "+--------------------+-----+\n",
      "|         ST8000DM005|false|\n",
      "|          ST320LT007|false|\n",
      "|Seagate BarraCuda...| true|\n",
      "| TOSHIBA MG07ACA14TA| true|\n",
      "|         ST4000DM005|false|\n",
      "|         DELLBOSS VD|false|\n",
      "|HGST HUS726040ALE610| true|\n",
      "|     TOSHIBA HDWF180| true|\n",
      "|HGST HMS5C4040ALE640|false|\n",
      "|HGST HUH721010ALE600| true|\n",
      "| TOSHIBA MD04ABA500V| true|\n",
      "| TOSHIBA MD04ABA400V| true|\n",
      "|       ST10000NM0086|false|\n",
      "|      WDC WD2500AAJS| true|\n",
      "|Seagate BarraCuda...| true|\n",
      "|         ST6000DM004|false|\n",
      "|         ST6000DM001|false|\n",
      "|        WDC WD40EFRX| true|\n",
      "|      WDC WD5000LPVX|false|\n",
      "|      WDC WD5000BPKT| true|\n",
      "+--------------------+-----+\n",
      "only showing top 20 rows\n",
      "\n"
     ]
    }
   ],
   "source": [
    "mar2.show()"
   ]
  },
  {
   "cell_type": "markdown",
   "id": "7cb8116a",
   "metadata": {},
   "source": [
    "Testing accuracy"
   ]
  },
  {
   "cell_type": "code",
   "execution_count": 53,
   "id": "308daf99",
   "metadata": {},
   "outputs": [
    {
     "data": {
      "text/plain": [
       "13"
      ]
     },
     "execution_count": 53,
     "metadata": {},
     "output_type": "execute_result"
    }
   ],
   "source": [
    "query = \"SELECT model FROM mar2 WHERE Set= 'true'\" #Got all marekd as true from model\n",
    "true =spark.sql(query)\n",
    "true.createOrReplaceTempView(\"true\")\n",
    "true.count()"
   ]
  },
  {
   "cell_type": "code",
   "execution_count": 54,
   "id": "de57f8d7",
   "metadata": {},
   "outputs": [
    {
     "data": {
      "text/plain": [
       "0"
      ]
     },
     "execution_count": 54,
     "metadata": {},
     "output_type": "execute_result"
    }
   ],
   "source": [
    "query = \"SELECT model FROM true WHERE model NOT IN (SELECT DISTINCT model FROM zero)\"\n",
    "ftrue =spark.sql(query)\n",
    "ftrue.createOrReplaceTempView(\"ftrue\")\n",
    "ftrue.count()"
   ]
  },
  {
   "cell_type": "code",
   "execution_count": 55,
   "id": "c649eb4d",
   "metadata": {},
   "outputs": [
    {
     "data": {
      "text/plain": [
       "13"
      ]
     },
     "execution_count": 55,
     "metadata": {},
     "output_type": "execute_result"
    }
   ],
   "source": [
    "query = \"SELECT model FROM true WHERE model IN (SELECT DISTINCT model FROM zero)\"\n",
    "ftrue =spark.sql(query)\n",
    "ftrue.createOrReplaceTempView(\"ftrue\")\n",
    "ftrue.count()"
   ]
  },
  {
   "cell_type": "markdown",
   "id": "33fcb76c",
   "metadata": {},
   "source": [
    "No false positives"
   ]
  },
  {
   "cell_type": "code",
   "execution_count": 56,
   "id": "38bd5c78",
   "metadata": {},
   "outputs": [
    {
     "data": {
      "text/plain": [
       "15"
      ]
     },
     "execution_count": 56,
     "metadata": {},
     "output_type": "execute_result"
    }
   ],
   "source": [
    "query = \"SELECT model FROM mar2 WHERE Set= 'false'\" #Got all marekd as false from model\n",
    "false =spark.sql(query)\n",
    "false.createOrReplaceTempView(\"false\")\n",
    "false.count()"
   ]
  },
  {
   "cell_type": "code",
   "execution_count": 57,
   "id": "d362c7c4",
   "metadata": {},
   "outputs": [
    {
     "data": {
      "text/plain": [
       "0"
      ]
     },
     "execution_count": 57,
     "metadata": {},
     "output_type": "execute_result"
    }
   ],
   "source": [
    "query = \"SELECT model FROM false WHERE model IN (SELECT DISTINCT model FROM zero)\"\n",
    "ffalse =spark.sql(query)\n",
    "ffalse.createOrReplaceTempView(\"ffalse\")\n",
    "ffalse.count()"
   ]
  },
  {
   "cell_type": "code",
   "execution_count": 58,
   "id": "9a916aab",
   "metadata": {},
   "outputs": [
    {
     "data": {
      "text/plain": [
       "15"
      ]
     },
     "execution_count": 58,
     "metadata": {},
     "output_type": "execute_result"
    }
   ],
   "source": [
    "query = \"SELECT model FROM false WHERE model NOT IN (SELECT DISTINCT model FROM zero)\"\n",
    "ffalse =spark.sql(query)\n",
    "ffalse.createOrReplaceTempView(\"ffalse\")\n",
    "ffalse.count()"
   ]
  },
  {
   "cell_type": "markdown",
   "id": "e49753ae",
   "metadata": {},
   "source": [
    "No false negatives"
   ]
  },
  {
   "cell_type": "code",
   "execution_count": null,
   "id": "38eff08f",
   "metadata": {},
   "outputs": [],
   "source": []
  }
 ],
 "metadata": {
  "kernelspec": {
   "display_name": "Python 3 (ipykernel)",
   "language": "python",
   "name": "python3"
  },
  "language_info": {
   "codemirror_mode": {
    "name": "ipython",
    "version": 3
   },
   "file_extension": ".py",
   "mimetype": "text/x-python",
   "name": "python",
   "nbconvert_exporter": "python",
   "pygments_lexer": "ipython3",
   "version": "3.10.6"
  }
 },
 "nbformat": 4,
 "nbformat_minor": 5
}
