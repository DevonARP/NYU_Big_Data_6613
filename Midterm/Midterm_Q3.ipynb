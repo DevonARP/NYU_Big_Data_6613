{
 "cells": [
  {
   "cell_type": "code",
   "execution_count": 1,
   "id": "5184e9cf",
   "metadata": {},
   "outputs": [],
   "source": [
    "import pyspark\n",
    "from pyspark.sql import *\n",
    "from pyspark.sql.types import *\n",
    "from pyspark.sql.functions import *\n",
    "from pyspark import SparkContext, SparkConf\n",
    "from pyspark.sql import SparkSession\n",
    "from pyspark.sql.functions import *\n",
    "from pyspark import SparkContext"
   ]
  },
  {
   "cell_type": "code",
   "execution_count": 2,
   "id": "c20db13b",
   "metadata": {},
   "outputs": [],
   "source": [
    "spark = SparkSession.builder.appName(\"t1\").getOrCreate()\n",
    "sc = SparkContext.getOrCreate()"
   ]
  },
  {
   "cell_type": "code",
   "execution_count": 3,
   "id": "c297db88",
   "metadata": {},
   "outputs": [
    {
     "data": {
      "text/plain": [
       "50004"
      ]
     },
     "execution_count": 3,
     "metadata": {},
     "output_type": "execute_result"
    }
   ],
   "source": [
    "articles = spark.read.format('csv').options(header='true',inferschema='true').load(\"C:/Users/poona/Downloads/articles1.csv/articles1.csv\")\n",
    "articles.createOrReplaceTempView(\"articles\")\n",
    "articles.count()"
   ]
  },
  {
   "cell_type": "code",
   "execution_count": 4,
   "id": "c033d8c6",
   "metadata": {},
   "outputs": [],
   "source": [
    "articles = articles.withColumn(\"content\", lower(articles[\"content\"]))\n",
    "articles.createOrReplaceTempView(\"articles\")"
   ]
  },
  {
   "cell_type": "code",
   "execution_count": 5,
   "id": "85962529",
   "metadata": {},
   "outputs": [],
   "source": [
    "articles = articles.withColumn(\"content\", regexp_replace(col(\"content\"), \"[^a-zA-Z0-9]\", \" \"))\n",
    "articles.createOrReplaceTempView(\"articles\")"
   ]
  },
  {
   "cell_type": "code",
   "execution_count": 6,
   "id": "dd4c9d1f",
   "metadata": {},
   "outputs": [
    {
     "data": {
      "text/plain": [
       "1"
      ]
     },
     "execution_count": 6,
     "metadata": {},
     "output_type": "execute_result"
    }
   ],
   "source": [
    "query = \"SELECT * FROM articles WHERE id=69716\" #Testing to make sure the amounts from zero and fail add up\n",
    "ref = spark.sql(query)\n",
    "ref.createOrReplaceTempView(\"ref\")\n",
    "ref.count()"
   ]
  },
  {
   "cell_type": "code",
   "execution_count": 7,
   "id": "bb179883",
   "metadata": {},
   "outputs": [
    {
     "name": "stdout",
     "output_type": "stream",
     "text": [
      "+-----+-----+--------------------+----------------+------+----------+------+-----+----+--------------------+\n",
      "|  _c0|   id|               title|     publication|author|      date|  year|month| url|             content|\n",
      "+-----+-----+--------------------+----------------+------+----------+------+-----+----+--------------------+\n",
      "|50097|69716|California lifted...|Business Insider|  null|2016-05-21|2016.0|  5.0|null|    on wednesday ...|\n",
      "+-----+-----+--------------------+----------------+------+----------+------+-----+----+--------------------+\n",
      "\n"
     ]
    }
   ],
   "source": [
    "ref.show()"
   ]
  },
  {
   "cell_type": "code",
   "execution_count": 8,
   "id": "706afa1a",
   "metadata": {},
   "outputs": [
    {
     "data": {
      "text/plain": [
       "50003"
      ]
     },
     "execution_count": 8,
     "metadata": {},
     "output_type": "execute_result"
    }
   ],
   "source": [
    "query = \"SELECT * FROM articles WHERE id NOT IN (SELECT id FROM ref)\" #Testing to make sure the amounts from zero and fail add up\n",
    "noref = spark.sql(query)\n",
    "noref.createOrReplaceTempView(\"noref\")\n",
    "noref.count()"
   ]
  },
  {
   "cell_type": "code",
   "execution_count": 9,
   "id": "7ef01823",
   "metadata": {},
   "outputs": [],
   "source": [
    "rlist = ref.collect()[0][9]"
   ]
  },
  {
   "cell_type": "code",
   "execution_count": 10,
   "id": "65e2d3c5",
   "metadata": {},
   "outputs": [],
   "source": [
    "from pyspark.sql.functions import lit\n",
    "noref=noref.withColumn(\"contr\", lit(rlist))"
   ]
  },
  {
   "cell_type": "code",
   "execution_count": 11,
   "id": "21696a1b",
   "metadata": {},
   "outputs": [
    {
     "data": {
      "text/plain": [
       "[DataFrame[_c0: string, id: string, title: string, publication: string, author: string, date: string, year: string, month: string, url: string, content: string, contr: string],\n",
       " DataFrame[_c0: string, id: string, title: string, publication: string, author: string, date: string, year: string, month: string, url: string, content: string, contr: string],\n",
       " DataFrame[_c0: string, id: string, title: string, publication: string, author: string, date: string, year: string, month: string, url: string, content: string, contr: string],\n",
       " DataFrame[_c0: string, id: string, title: string, publication: string, author: string, date: string, year: string, month: string, url: string, content: string, contr: string],\n",
       " DataFrame[_c0: string, id: string, title: string, publication: string, author: string, date: string, year: string, month: string, url: string, content: string, contr: string],\n",
       " DataFrame[_c0: string, id: string, title: string, publication: string, author: string, date: string, year: string, month: string, url: string, content: string, contr: string]]"
      ]
     },
     "execution_count": 11,
     "metadata": {},
     "output_type": "execute_result"
    }
   ],
   "source": [
    "split_weights = [1.0] * 6 #Memory became an issue so splitting up data into parts\n",
    "splits = noref.randomSplit(split_weights)\n",
    "splits"
   ]
  },
  {
   "cell_type": "code",
   "execution_count": 12,
   "id": "0b61e003",
   "metadata": {},
   "outputs": [],
   "source": [
    "from datasketch import MinHash"
   ]
  },
  {
   "cell_type": "code",
   "execution_count": 13,
   "id": "51875a08",
   "metadata": {},
   "outputs": [],
   "source": [
    "def mh(y,x):\n",
    "    m1, m2 = MinHash(), MinHash()\n",
    "    for i in x.split(\" \"):\n",
    "        m1.update(i.encode('utf8'))\n",
    "    if y is None: \n",
    "        return 0\n",
    "    else:\n",
    "        for j in y.split(\" \"):\n",
    "            m2.update(j.encode('utf8'))\n",
    "        return m1.jaccard(m2)"
   ]
  },
  {
   "cell_type": "code",
   "execution_count": 14,
   "id": "53de74cf",
   "metadata": {},
   "outputs": [],
   "source": [
    "mh_udf = udf(lambda x,y: mh(x,y))"
   ]
  },
  {
   "cell_type": "code",
   "execution_count": 15,
   "id": "9b90e5d0",
   "metadata": {},
   "outputs": [],
   "source": [
    "splits[0]=splits[0].withColumn(\"dist\", mh_udf('content','contr'))\n",
    "splits[0].createOrReplaceTempView(\"s1\")\n",
    "splits[1]=splits[1].withColumn(\"dist\", mh_udf('content','contr'))\n",
    "splits[1].createOrReplaceTempView(\"s2\")\n",
    "splits[2]=splits[2].withColumn(\"dist\", mh_udf('content','contr'))\n",
    "splits[2].createOrReplaceTempView(\"s3\")\n",
    "splits[3]=splits[3].withColumn(\"dist\", mh_udf('content','contr'))\n",
    "splits[3].createOrReplaceTempView(\"s4\")\n",
    "splits[4]=splits[4].withColumn(\"dist\", mh_udf('content','contr'))\n",
    "splits[4].createOrReplaceTempView(\"s5\")\n",
    "splits[5]=splits[5].withColumn(\"dist\", mh_udf('content','contr'))\n",
    "splits[5].createOrReplaceTempView(\"s6\")"
   ]
  },
  {
   "cell_type": "code",
   "execution_count": 16,
   "id": "ddbf64b4",
   "metadata": {},
   "outputs": [
    {
     "data": {
      "text/plain": [
       "10"
      ]
     },
     "execution_count": 16,
     "metadata": {},
     "output_type": "execute_result"
    }
   ],
   "source": [
    "query = \"SELECT id,dist FROM s1 ORDER BY dist DESC LIMIT 10\"\n",
    "F1 = spark.sql(query)\n",
    "F1.createOrReplaceTempView(\"F1\")\n",
    "F1.count()"
   ]
  },
  {
   "cell_type": "code",
   "execution_count": 17,
   "id": "b2688526",
   "metadata": {},
   "outputs": [
    {
     "data": {
      "text/plain": [
       "10"
      ]
     },
     "execution_count": 17,
     "metadata": {},
     "output_type": "execute_result"
    }
   ],
   "source": [
    "query = \"SELECT id,dist FROM s2 ORDER BY dist DESC LIMIT 10\"\n",
    "F2 = spark.sql(query)\n",
    "F2.createOrReplaceTempView(\"F2\")\n",
    "F2.count()"
   ]
  },
  {
   "cell_type": "code",
   "execution_count": 18,
   "id": "4810c35c",
   "metadata": {},
   "outputs": [
    {
     "data": {
      "text/plain": [
       "10"
      ]
     },
     "execution_count": 18,
     "metadata": {},
     "output_type": "execute_result"
    }
   ],
   "source": [
    "query = \"SELECT id,dist FROM s3 ORDER BY dist DESC LIMIT 10\"\n",
    "F3 = spark.sql(query)\n",
    "F3.createOrReplaceTempView(\"F3\")\n",
    "F3.count()"
   ]
  },
  {
   "cell_type": "code",
   "execution_count": 19,
   "id": "4cc13c7b",
   "metadata": {},
   "outputs": [
    {
     "data": {
      "text/plain": [
       "10"
      ]
     },
     "execution_count": 19,
     "metadata": {},
     "output_type": "execute_result"
    }
   ],
   "source": [
    "query = \"SELECT id,dist FROM s4 ORDER BY dist DESC LIMIT 10\"\n",
    "F4 = spark.sql(query)\n",
    "F4.createOrReplaceTempView(\"F4\")\n",
    "F4.count()"
   ]
  },
  {
   "cell_type": "code",
   "execution_count": 20,
   "id": "415c3762",
   "metadata": {},
   "outputs": [
    {
     "data": {
      "text/plain": [
       "10"
      ]
     },
     "execution_count": 20,
     "metadata": {},
     "output_type": "execute_result"
    }
   ],
   "source": [
    "query = \"SELECT id,dist FROM s5 ORDER BY dist DESC LIMIT 10\"\n",
    "F5 = spark.sql(query)\n",
    "F5.createOrReplaceTempView(\"F5\")\n",
    "F5.count()"
   ]
  },
  {
   "cell_type": "code",
   "execution_count": 21,
   "id": "522ab475",
   "metadata": {},
   "outputs": [
    {
     "data": {
      "text/plain": [
       "10"
      ]
     },
     "execution_count": 21,
     "metadata": {},
     "output_type": "execute_result"
    }
   ],
   "source": [
    "query = \"SELECT id,dist FROM s6 ORDER BY dist DESC LIMIT 10\"\n",
    "F6 = spark.sql(query)\n",
    "F6.createOrReplaceTempView(\"F6\")\n",
    "F6.count()"
   ]
  },
  {
   "cell_type": "code",
   "execution_count": 22,
   "id": "5923e964",
   "metadata": {},
   "outputs": [],
   "source": [
    "G1=F1.union(F2)"
   ]
  },
  {
   "cell_type": "code",
   "execution_count": 23,
   "id": "3856b834",
   "metadata": {},
   "outputs": [],
   "source": [
    "G2=F3.union(F4)"
   ]
  },
  {
   "cell_type": "code",
   "execution_count": 24,
   "id": "8ed183ae",
   "metadata": {},
   "outputs": [],
   "source": [
    "G3=F5.union(F6)"
   ]
  },
  {
   "cell_type": "code",
   "execution_count": 25,
   "id": "ff77ecae",
   "metadata": {},
   "outputs": [],
   "source": [
    "G4=G1.union(G2)"
   ]
  },
  {
   "cell_type": "code",
   "execution_count": 26,
   "id": "43d6cd0b",
   "metadata": {},
   "outputs": [
    {
     "data": {
      "text/plain": [
       "60"
      ]
     },
     "execution_count": 26,
     "metadata": {},
     "output_type": "execute_result"
    }
   ],
   "source": [
    "G5=G3.union(G4)\n",
    "G5.createOrReplaceTempView(\"G5\")\n",
    "G5.count()"
   ]
  },
  {
   "cell_type": "code",
   "execution_count": 27,
   "id": "678a2410",
   "metadata": {},
   "outputs": [
    {
     "data": {
      "text/plain": [
       "10"
      ]
     },
     "execution_count": 27,
     "metadata": {},
     "output_type": "execute_result"
    }
   ],
   "source": [
    "query = \"SELECT id,dist FROM G5 ORDER BY dist DESC LIMIT 10\"\n",
    "G6 = spark.sql(query)\n",
    "G6.createOrReplaceTempView(\"G6\")\n",
    "G6.count()"
   ]
  },
  {
   "cell_type": "code",
   "execution_count": 28,
   "id": "a8ff2c79",
   "metadata": {},
   "outputs": [
    {
     "name": "stdout",
     "output_type": "stream",
     "text": [
      "+-----+---------+\n",
      "|   id|     dist|\n",
      "+-----+---------+\n",
      "|52787|  0.21875|\n",
      "|72676|  0.21875|\n",
      "|72796|  0.21875|\n",
      "|66574|0.2109375|\n",
      "|39873|0.2109375|\n",
      "|22240|0.2109375|\n",
      "|44695| 0.203125|\n",
      "|22491| 0.203125|\n",
      "|43661| 0.203125|\n",
      "|69968| 0.203125|\n",
      "+-----+---------+\n",
      "\n"
     ]
    }
   ],
   "source": [
    "G6.show()"
   ]
  },
  {
   "cell_type": "code",
   "execution_count": null,
   "id": "9a151fb4",
   "metadata": {},
   "outputs": [],
   "source": []
  }
 ],
 "metadata": {
  "kernelspec": {
   "display_name": "Python 3 (ipykernel)",
   "language": "python",
   "name": "python3"
  },
  "language_info": {
   "codemirror_mode": {
    "name": "ipython",
    "version": 3
   },
   "file_extension": ".py",
   "mimetype": "text/x-python",
   "name": "python",
   "nbconvert_exporter": "python",
   "pygments_lexer": "ipython3",
   "version": "3.10.6"
  }
 },
 "nbformat": 4,
 "nbformat_minor": 5
}
